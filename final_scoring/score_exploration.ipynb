{
 "cells": [
  {
   "cell_type": "code",
   "execution_count": 1,
   "metadata": {},
   "outputs": [],
   "source": [
    "import pickle\n",
    "import pandas as pd\n",
    "\n",
    "% matplotlib inline"
   ]
  },
  {
   "cell_type": "markdown",
   "metadata": {},
   "source": [
    "# Load scores"
   ]
  },
  {
   "cell_type": "code",
   "execution_count": 2,
   "metadata": {},
   "outputs": [
    {
     "data": {
      "text/html": [
       "<div>\n",
       "<style scoped>\n",
       "    .dataframe tbody tr th:only-of-type {\n",
       "        vertical-align: middle;\n",
       "    }\n",
       "\n",
       "    .dataframe tbody tr th {\n",
       "        vertical-align: top;\n",
       "    }\n",
       "\n",
       "    .dataframe thead th {\n",
       "        text-align: right;\n",
       "    }\n",
       "</style>\n",
       "<table border=\"1\" class=\"dataframe\">\n",
       "  <thead>\n",
       "    <tr style=\"text-align: right;\">\n",
       "      <th></th>\n",
       "      <th>class_ratio</th>\n",
       "      <th>cosine_sim</th>\n",
       "      <th>female_prop</th>\n",
       "      <th>final_score</th>\n",
       "      <th>movie_id</th>\n",
       "      <th>nt_betweenness</th>\n",
       "      <th>nt_degree</th>\n",
       "    </tr>\n",
       "  </thead>\n",
       "  <tbody>\n",
       "    <tr>\n",
       "      <th>49</th>\n",
       "      <td>-0.259059</td>\n",
       "      <td>0</td>\n",
       "      <td>0.178273</td>\n",
       "      <td>0.583749</td>\n",
       "      <td>m49</td>\n",
       "      <td>1.79325</td>\n",
       "      <td>1.20628</td>\n",
       "    </tr>\n",
       "    <tr>\n",
       "      <th>496</th>\n",
       "      <td>-0.56077</td>\n",
       "      <td>0</td>\n",
       "      <td>0</td>\n",
       "      <td>0.56476</td>\n",
       "      <td>m497</td>\n",
       "      <td>2.09213</td>\n",
       "      <td>1.29244</td>\n",
       "    </tr>\n",
       "    <tr>\n",
       "      <th>211</th>\n",
       "      <td>0.319085</td>\n",
       "      <td>0</td>\n",
       "      <td>0.289823</td>\n",
       "      <td>0.063796</td>\n",
       "      <td>m212</td>\n",
       "      <td>-0.170258</td>\n",
       "      <td>-0.11967</td>\n",
       "    </tr>\n",
       "    <tr>\n",
       "      <th>249</th>\n",
       "      <td>-0.190499</td>\n",
       "      <td>0</td>\n",
       "      <td>0.619765</td>\n",
       "      <td>0.386291</td>\n",
       "      <td>m250</td>\n",
       "      <td>0.544825</td>\n",
       "      <td>0.957364</td>\n",
       "    </tr>\n",
       "    <tr>\n",
       "      <th>142</th>\n",
       "      <td>0.528942</td>\n",
       "      <td>0</td>\n",
       "      <td>0.0769231</td>\n",
       "      <td>0.79965</td>\n",
       "      <td>m143</td>\n",
       "      <td>1.59733</td>\n",
       "      <td>1.79506</td>\n",
       "    </tr>\n",
       "  </tbody>\n",
       "</table>\n",
       "</div>"
      ],
      "text/plain": [
       "    class_ratio cosine_sim female_prop final_score movie_id nt_betweenness  \\\n",
       "49    -0.259059          0    0.178273    0.583749      m49        1.79325   \n",
       "496    -0.56077          0           0     0.56476     m497        2.09213   \n",
       "211    0.319085          0    0.289823    0.063796     m212      -0.170258   \n",
       "249   -0.190499          0    0.619765    0.386291     m250       0.544825   \n",
       "142    0.528942          0   0.0769231     0.79965     m143        1.59733   \n",
       "\n",
       "    nt_degree  \n",
       "49    1.20628  \n",
       "496   1.29244  \n",
       "211  -0.11967  \n",
       "249  0.957364  \n",
       "142   1.79506  "
      ]
     },
     "execution_count": 2,
     "metadata": {},
     "output_type": "execute_result"
    }
   ],
   "source": [
    "scores = pickle.load(open('../data/holdout_movie_scores.p', 'rb'))\n",
    "scores.head()"
   ]
  },
  {
   "cell_type": "markdown",
   "metadata": {},
   "source": [
    "# Merge with movie metadata"
   ]
  },
  {
   "cell_type": "code",
   "execution_count": 3,
   "metadata": {
    "scrolled": true
   },
   "outputs": [
    {
     "data": {
      "text/html": [
       "<div>\n",
       "<style scoped>\n",
       "    .dataframe tbody tr th:only-of-type {\n",
       "        vertical-align: middle;\n",
       "    }\n",
       "\n",
       "    .dataframe tbody tr th {\n",
       "        vertical-align: top;\n",
       "    }\n",
       "\n",
       "    .dataframe thead th {\n",
       "        text-align: right;\n",
       "    }\n",
       "</style>\n",
       "<table border=\"1\" class=\"dataframe\">\n",
       "  <thead>\n",
       "    <tr style=\"text-align: right;\">\n",
       "      <th></th>\n",
       "      <th>movie_id</th>\n",
       "      <th>movie_title</th>\n",
       "      <th>movie_year</th>\n",
       "      <th>imdb_rating</th>\n",
       "      <th>female_prop</th>\n",
       "      <th>class_ratio</th>\n",
       "      <th>cosine_sim</th>\n",
       "      <th>nt_betweenness</th>\n",
       "      <th>nt_degree</th>\n",
       "      <th>final_score</th>\n",
       "    </tr>\n",
       "  </thead>\n",
       "  <tbody>\n",
       "    <tr>\n",
       "      <th>0</th>\n",
       "      <td>m49</td>\n",
       "      <td>detroit rock city</td>\n",
       "      <td>1999</td>\n",
       "      <td>6.50</td>\n",
       "      <td>0.178273</td>\n",
       "      <td>-0.259059</td>\n",
       "      <td>0</td>\n",
       "      <td>1.79325</td>\n",
       "      <td>1.20628</td>\n",
       "      <td>0.583749</td>\n",
       "    </tr>\n",
       "    <tr>\n",
       "      <th>1</th>\n",
       "      <td>m497</td>\n",
       "      <td>rush hour</td>\n",
       "      <td>1998</td>\n",
       "      <td>6.80</td>\n",
       "      <td>0</td>\n",
       "      <td>-0.56077</td>\n",
       "      <td>0</td>\n",
       "      <td>2.09213</td>\n",
       "      <td>1.29244</td>\n",
       "      <td>0.56476</td>\n",
       "    </tr>\n",
       "    <tr>\n",
       "      <th>2</th>\n",
       "      <td>m212</td>\n",
       "      <td>the lost boys</td>\n",
       "      <td>1987</td>\n",
       "      <td>7.00</td>\n",
       "      <td>0.289823</td>\n",
       "      <td>0.319085</td>\n",
       "      <td>0</td>\n",
       "      <td>-0.170258</td>\n",
       "      <td>-0.11967</td>\n",
       "      <td>0.063796</td>\n",
       "    </tr>\n",
       "    <tr>\n",
       "      <th>3</th>\n",
       "      <td>m250</td>\n",
       "      <td>assassins</td>\n",
       "      <td>1995</td>\n",
       "      <td>6.00</td>\n",
       "      <td>0.619765</td>\n",
       "      <td>-0.190499</td>\n",
       "      <td>0</td>\n",
       "      <td>0.544825</td>\n",
       "      <td>0.957364</td>\n",
       "      <td>0.386291</td>\n",
       "    </tr>\n",
       "    <tr>\n",
       "      <th>4</th>\n",
       "      <td>m143</td>\n",
       "      <td>mystery men</td>\n",
       "      <td>1999</td>\n",
       "      <td>5.90</td>\n",
       "      <td>0.0769231</td>\n",
       "      <td>0.528942</td>\n",
       "      <td>0</td>\n",
       "      <td>1.59733</td>\n",
       "      <td>1.79506</td>\n",
       "      <td>0.79965</td>\n",
       "    </tr>\n",
       "  </tbody>\n",
       "</table>\n",
       "</div>"
      ],
      "text/plain": [
       "  movie_id        movie_title movie_year imdb_rating female_prop class_ratio  \\\n",
       "0      m49  detroit rock city       1999        6.50    0.178273   -0.259059   \n",
       "1     m497          rush hour       1998        6.80           0    -0.56077   \n",
       "2     m212      the lost boys       1987        7.00    0.289823    0.319085   \n",
       "3     m250          assassins       1995        6.00    0.619765   -0.190499   \n",
       "4     m143        mystery men       1999        5.90   0.0769231    0.528942   \n",
       "\n",
       "  cosine_sim nt_betweenness nt_degree final_score  \n",
       "0          0        1.79325   1.20628    0.583749  \n",
       "1          0        2.09213   1.29244     0.56476  \n",
       "2          0      -0.170258  -0.11967    0.063796  \n",
       "3          0       0.544825  0.957364    0.386291  \n",
       "4          0        1.59733   1.79506     0.79965  "
      ]
     },
     "execution_count": 3,
     "metadata": {},
     "output_type": "execute_result"
    }
   ],
   "source": [
    "headers = ['movie_id', 'movie_title', 'movie_year', 'imdb_rating', 'imdb_vote', 'genre']\n",
    "\n",
    "filepath = '../cornell_movie_dialogs_corpus/movie_titles_metadata.txt'\n",
    "\n",
    "lines = []\n",
    "\n",
    "with open(filepath, 'r', encoding = 'iso-8859-1') as f:\n",
    "    for line in f:\n",
    "        cols = line.split(' +++$+++ ')\n",
    "        lines.append(cols)\n",
    "            \n",
    "movies = pd.DataFrame(lines, columns = headers)\n",
    "    \n",
    "movies = movies[['movie_id', 'movie_title', 'imdb_rating', 'movie_year']]\n",
    "\n",
    "scores = scores.merge(movies, on = 'movie_id')\n",
    "\n",
    "genres = pickle.load(open('../data/genres.p', 'rb'))\n",
    "\n",
    "scores = scores.merge(genres, on = 'movie_id')\n",
    "\n",
    "order = ['movie_id', 'movie_title', 'genre', 'movie_year', 'imdb_rating', 'female_prop', 'class_ratio', 'cosine_sim',\n",
    "         'nt_betweenness', 'nt_degree', 'final_score']\n",
    "\n",
    "scores = scores[order]\n",
    "\n",
    "scores.head()"
   ]
  },
  {
   "cell_type": "code",
   "execution_count": 4,
   "metadata": {},
   "outputs": [],
   "source": [
    "nums = ['female_prop', 'class_ratio', 'cosine_sim', 'nt_betweenness', 'nt_degree', 'final_score', 'imdb_rating']\n",
    "\n",
    "scores[nums] = scores[nums].apply(pd.to_numeric)"
   ]
  },
  {
   "cell_type": "markdown",
   "metadata": {},
   "source": [
    "# Sort by proportion female"
   ]
  },
  {
   "cell_type": "code",
   "execution_count": 5,
   "metadata": {},
   "outputs": [
    {
     "data": {
      "text/plain": [
       "<matplotlib.axes._subplots.AxesSubplot at 0x10e396a90>"
      ]
     },
     "execution_count": 5,
     "metadata": {},
     "output_type": "execute_result"
    },
    {
     "data": {
      "image/png": "[encoded data removed]",
      "text/plain": [
       "<matplotlib.figure.Figure at 0x10e30cd30>"
      ]
     },
     "metadata": {},
     "output_type": "display_data"
    }
   ],
   "source": [
    "scores['female_prop'].plot.hist(bins = 20)"
   ]
  },
  {
   "cell_type": "code",
   "execution_count": 6,
   "metadata": {},
   "outputs": [
    {
     "data": {
      "text/html": [
       "<div>\n",
       "<style scoped>\n",
       "    .dataframe tbody tr th:only-of-type {\n",
       "        vertical-align: middle;\n",
       "    }\n",
       "\n",
       "    .dataframe tbody tr th {\n",
       "        vertical-align: top;\n",
       "    }\n",
       "\n",
       "    .dataframe thead th {\n",
       "        text-align: right;\n",
       "    }\n",
       "</style>\n",
       "<table border=\"1\" class=\"dataframe\">\n",
       "  <thead>\n",
       "    <tr style=\"text-align: right;\">\n",
       "      <th></th>\n",
       "      <th>movie_id</th>\n",
       "      <th>movie_title</th>\n",
       "      <th>movie_year</th>\n",
       "      <th>imdb_rating</th>\n",
       "      <th>female_prop</th>\n",
       "      <th>class_ratio</th>\n",
       "      <th>cosine_sim</th>\n",
       "      <th>nt_betweenness</th>\n",
       "      <th>nt_degree</th>\n",
       "      <th>final_score</th>\n",
       "    </tr>\n",
       "  </thead>\n",
       "  <tbody>\n",
       "    <tr>\n",
       "      <th>46</th>\n",
       "      <td>m214</td>\n",
       "      <td>the time machine</td>\n",
       "      <td>2002</td>\n",
       "      <td>5.7</td>\n",
       "      <td>0.0</td>\n",
       "      <td>0.149573</td>\n",
       "      <td>0.0</td>\n",
       "      <td>1.404162</td>\n",
       "      <td>1.238589</td>\n",
       "      <td>0.558465</td>\n",
       "    </tr>\n",
       "    <tr>\n",
       "      <th>96</th>\n",
       "      <td>m31</td>\n",
       "      <td>birthday girl</td>\n",
       "      <td>2001</td>\n",
       "      <td>6.0</td>\n",
       "      <td>0.0</td>\n",
       "      <td>0.409270</td>\n",
       "      <td>0.0</td>\n",
       "      <td>1.225856</td>\n",
       "      <td>0.861627</td>\n",
       "      <td>0.499351</td>\n",
       "    </tr>\n",
       "    <tr>\n",
       "      <th>50</th>\n",
       "      <td>m145</td>\n",
       "      <td>next friday</td>\n",
       "      <td>2000</td>\n",
       "      <td>5.4</td>\n",
       "      <td>0.0</td>\n",
       "      <td>-0.272382</td>\n",
       "      <td>0.0</td>\n",
       "      <td>1.141797</td>\n",
       "      <td>1.120116</td>\n",
       "      <td>0.397906</td>\n",
       "    </tr>\n",
       "  </tbody>\n",
       "</table>\n",
       "</div>"
      ],
      "text/plain": [
       "   movie_id       movie_title movie_year  imdb_rating  female_prop  \\\n",
       "46     m214  the time machine       2002          5.7          0.0   \n",
       "96      m31     birthday girl       2001          6.0          0.0   \n",
       "50     m145       next friday       2000          5.4          0.0   \n",
       "\n",
       "    class_ratio  cosine_sim  nt_betweenness  nt_degree  final_score  \n",
       "46     0.149573         0.0        1.404162   1.238589     0.558465  \n",
       "96     0.409270         0.0        1.225856   0.861627     0.499351  \n",
       "50    -0.272382         0.0        1.141797   1.120116     0.397906  "
      ]
     },
     "execution_count": 6,
     "metadata": {},
     "output_type": "execute_result"
    }
   ],
   "source": [
    "bottom_3 = scores.sort_values('female_prop').head(3)\n",
    "bottom_3"
   ]
  },
  {
   "cell_type": "code",
   "execution_count": 7,
   "metadata": {},
   "outputs": [
    {
     "data": {
      "text/html": [
       "<div>\n",
       "<style scoped>\n",
       "    .dataframe tbody tr th:only-of-type {\n",
       "        vertical-align: middle;\n",
       "    }\n",
       "\n",
       "    .dataframe tbody tr th {\n",
       "        vertical-align: top;\n",
       "    }\n",
       "\n",
       "    .dataframe thead th {\n",
       "        text-align: right;\n",
       "    }\n",
       "</style>\n",
       "<table border=\"1\" class=\"dataframe\">\n",
       "  <thead>\n",
       "    <tr style=\"text-align: right;\">\n",
       "      <th></th>\n",
       "      <th>movie_id</th>\n",
       "      <th>movie_title</th>\n",
       "      <th>movie_year</th>\n",
       "      <th>imdb_rating</th>\n",
       "      <th>female_prop</th>\n",
       "      <th>class_ratio</th>\n",
       "      <th>cosine_sim</th>\n",
       "      <th>nt_betweenness</th>\n",
       "      <th>nt_degree</th>\n",
       "      <th>final_score</th>\n",
       "    </tr>\n",
       "  </thead>\n",
       "  <tbody>\n",
       "    <tr>\n",
       "      <th>90</th>\n",
       "      <td>m279</td>\n",
       "      <td>the bridges of madison county</td>\n",
       "      <td>1995</td>\n",
       "      <td>7.2</td>\n",
       "      <td>0.979478</td>\n",
       "      <td>0.473121</td>\n",
       "      <td>0.0</td>\n",
       "      <td>-0.018574</td>\n",
       "      <td>-0.314135</td>\n",
       "      <td>0.223978</td>\n",
       "    </tr>\n",
       "    <tr>\n",
       "      <th>64</th>\n",
       "      <td>m8</td>\n",
       "      <td>a nightmare on elm street: the dream child</td>\n",
       "      <td>1989</td>\n",
       "      <td>4.7</td>\n",
       "      <td>0.941748</td>\n",
       "      <td>0.278135</td>\n",
       "      <td>0.0</td>\n",
       "      <td>-2.101468</td>\n",
       "      <td>-1.846344</td>\n",
       "      <td>-0.545586</td>\n",
       "    </tr>\n",
       "    <tr>\n",
       "      <th>71</th>\n",
       "      <td>m234</td>\n",
       "      <td>agnes of god</td>\n",
       "      <td>1985</td>\n",
       "      <td>6.5</td>\n",
       "      <td>0.932084</td>\n",
       "      <td>0.814635</td>\n",
       "      <td>0.0</td>\n",
       "      <td>-1.787707</td>\n",
       "      <td>-1.795057</td>\n",
       "      <td>-0.367209</td>\n",
       "    </tr>\n",
       "  </tbody>\n",
       "</table>\n",
       "</div>"
      ],
      "text/plain": [
       "   movie_id                                 movie_title movie_year  \\\n",
       "90     m279               the bridges of madison county       1995   \n",
       "64       m8  a nightmare on elm street: the dream child       1989   \n",
       "71     m234                                agnes of god       1985   \n",
       "\n",
       "    imdb_rating  female_prop  class_ratio  cosine_sim  nt_betweenness  \\\n",
       "90          7.2     0.979478     0.473121         0.0       -0.018574   \n",
       "64          4.7     0.941748     0.278135         0.0       -2.101468   \n",
       "71          6.5     0.932084     0.814635         0.0       -1.787707   \n",
       "\n",
       "    nt_degree  final_score  \n",
       "90  -0.314135     0.223978  \n",
       "64  -1.846344    -0.545586  \n",
       "71  -1.795057    -0.367209  "
      ]
     },
     "execution_count": 7,
     "metadata": {},
     "output_type": "execute_result"
    }
   ],
   "source": [
    "top_3 = scores.sort_values('female_prop', ascending = False).head(3)\n",
    "top_3"
   ]
  },
  {
   "cell_type": "code",
   "execution_count": 8,
   "metadata": {},
   "outputs": [
    {
     "data": {
      "text/plain": [
       "(25, 10)"
      ]
     },
     "execution_count": 8,
     "metadata": {},
     "output_type": "execute_result"
    }
   ],
   "source": [
    "no_female_lines = scores[scores['female_prop'] == 0]\n",
    "no_female_lines.shape"
   ]
  },
  {
   "cell_type": "markdown",
   "metadata": {},
   "source": [
    "**There are 25 movies with no female lines (and 0 movies with no male lines)**"
   ]
  },
  {
   "cell_type": "markdown",
   "metadata": {},
   "source": [
    "# Sort by cosine simularity"
   ]
  },
  {
   "cell_type": "code",
   "execution_count": 9,
   "metadata": {},
   "outputs": [
    {
     "data": {
      "text/plain": [
       "<matplotlib.axes._subplots.AxesSubplot at 0x10e2bfb00>"
      ]
     },
     "execution_count": 9,
     "metadata": {},
     "output_type": "execute_result"
    },
    {
     "data": {
      "image/png": "[encoded data removed]",
      "text/plain": [
       "<matplotlib.figure.Figure at 0x10e2dff28>"
      ]
     },
     "metadata": {},
     "output_type": "display_data"
    }
   ],
   "source": [
    "scores['cosine_sim'].plot.hist(bins = 20)"
   ]
  },
  {
   "cell_type": "code",
   "execution_count": 10,
   "metadata": {},
   "outputs": [
    {
     "data": {
      "text/html": [
       "<div>\n",
       "<style scoped>\n",
       "    .dataframe tbody tr th:only-of-type {\n",
       "        vertical-align: middle;\n",
       "    }\n",
       "\n",
       "    .dataframe tbody tr th {\n",
       "        vertical-align: top;\n",
       "    }\n",
       "\n",
       "    .dataframe thead th {\n",
       "        text-align: right;\n",
       "    }\n",
       "</style>\n",
       "<table border=\"1\" class=\"dataframe\">\n",
       "  <thead>\n",
       "    <tr style=\"text-align: right;\">\n",
       "      <th></th>\n",
       "      <th>movie_id</th>\n",
       "      <th>movie_title</th>\n",
       "      <th>movie_year</th>\n",
       "      <th>imdb_rating</th>\n",
       "      <th>female_prop</th>\n",
       "      <th>class_ratio</th>\n",
       "      <th>cosine_sim</th>\n",
       "      <th>nt_betweenness</th>\n",
       "      <th>nt_degree</th>\n",
       "      <th>final_score</th>\n",
       "    </tr>\n",
       "  </thead>\n",
       "  <tbody>\n",
       "    <tr>\n",
       "      <th>0</th>\n",
       "      <td>m49</td>\n",
       "      <td>detroit rock city</td>\n",
       "      <td>1999</td>\n",
       "      <td>6.5</td>\n",
       "      <td>0.178273</td>\n",
       "      <td>-0.259059</td>\n",
       "      <td>0.0</td>\n",
       "      <td>1.793252</td>\n",
       "      <td>1.206278</td>\n",
       "      <td>0.583749</td>\n",
       "    </tr>\n",
       "    <tr>\n",
       "      <th>131</th>\n",
       "      <td>m119</td>\n",
       "      <td>life as a house</td>\n",
       "      <td>2001</td>\n",
       "      <td>7.5</td>\n",
       "      <td>0.293827</td>\n",
       "      <td>0.269876</td>\n",
       "      <td>0.0</td>\n",
       "      <td>0.498986</td>\n",
       "      <td>-0.579941</td>\n",
       "      <td>0.096549</td>\n",
       "    </tr>\n",
       "    <tr>\n",
       "      <th>132</th>\n",
       "      <td>m316</td>\n",
       "      <td>dave</td>\n",
       "      <td>1993</td>\n",
       "      <td>6.8</td>\n",
       "      <td>0.000000</td>\n",
       "      <td>-0.348166</td>\n",
       "      <td>0.0</td>\n",
       "      <td>1.400978</td>\n",
       "      <td>1.211663</td>\n",
       "      <td>0.452895</td>\n",
       "    </tr>\n",
       "  </tbody>\n",
       "</table>\n",
       "</div>"
      ],
      "text/plain": [
       "    movie_id        movie_title movie_year  imdb_rating  female_prop  \\\n",
       "0        m49  detroit rock city       1999          6.5     0.178273   \n",
       "131     m119    life as a house       2001          7.5     0.293827   \n",
       "132     m316               dave       1993          6.8     0.000000   \n",
       "\n",
       "     class_ratio  cosine_sim  nt_betweenness  nt_degree  final_score  \n",
       "0      -0.259059         0.0        1.793252   1.206278     0.583749  \n",
       "131     0.269876         0.0        0.498986  -0.579941     0.096549  \n",
       "132    -0.348166         0.0        1.400978   1.211663     0.452895  "
      ]
     },
     "execution_count": 10,
     "metadata": {},
     "output_type": "execute_result"
    }
   ],
   "source": [
    "bottom_3 = scores.sort_values('cosine_sim').head(3)\n",
    "bottom_3"
   ]
  },
  {
   "cell_type": "code",
   "execution_count": 11,
   "metadata": {},
   "outputs": [
    {
     "data": {
      "text/html": [
       "<div>\n",
       "<style scoped>\n",
       "    .dataframe tbody tr th:only-of-type {\n",
       "        vertical-align: middle;\n",
       "    }\n",
       "\n",
       "    .dataframe tbody tr th {\n",
       "        vertical-align: top;\n",
       "    }\n",
       "\n",
       "    .dataframe thead th {\n",
       "        text-align: right;\n",
       "    }\n",
       "</style>\n",
       "<table border=\"1\" class=\"dataframe\">\n",
       "  <thead>\n",
       "    <tr style=\"text-align: right;\">\n",
       "      <th></th>\n",
       "      <th>movie_id</th>\n",
       "      <th>movie_title</th>\n",
       "      <th>movie_year</th>\n",
       "      <th>imdb_rating</th>\n",
       "      <th>female_prop</th>\n",
       "      <th>class_ratio</th>\n",
       "      <th>cosine_sim</th>\n",
       "      <th>nt_betweenness</th>\n",
       "      <th>nt_degree</th>\n",
       "      <th>final_score</th>\n",
       "    </tr>\n",
       "  </thead>\n",
       "  <tbody>\n",
       "    <tr>\n",
       "      <th>0</th>\n",
       "      <td>m49</td>\n",
       "      <td>detroit rock city</td>\n",
       "      <td>1999</td>\n",
       "      <td>6.5</td>\n",
       "      <td>0.178273</td>\n",
       "      <td>-0.259059</td>\n",
       "      <td>0.0</td>\n",
       "      <td>1.793252</td>\n",
       "      <td>1.206278</td>\n",
       "      <td>0.583749</td>\n",
       "    </tr>\n",
       "    <tr>\n",
       "      <th>153</th>\n",
       "      <td>m89</td>\n",
       "      <td>highlander</td>\n",
       "      <td>1986</td>\n",
       "      <td>7.2</td>\n",
       "      <td>0.442219</td>\n",
       "      <td>0.061259</td>\n",
       "      <td>0.0</td>\n",
       "      <td>-0.304843</td>\n",
       "      <td>-0.230793</td>\n",
       "      <td>-0.006432</td>\n",
       "    </tr>\n",
       "    <tr>\n",
       "      <th>131</th>\n",
       "      <td>m119</td>\n",
       "      <td>life as a house</td>\n",
       "      <td>2001</td>\n",
       "      <td>7.5</td>\n",
       "      <td>0.293827</td>\n",
       "      <td>0.269876</td>\n",
       "      <td>0.0</td>\n",
       "      <td>0.498986</td>\n",
       "      <td>-0.579941</td>\n",
       "      <td>0.096549</td>\n",
       "    </tr>\n",
       "  </tbody>\n",
       "</table>\n",
       "</div>"
      ],
      "text/plain": [
       "    movie_id        movie_title movie_year  imdb_rating  female_prop  \\\n",
       "0        m49  detroit rock city       1999          6.5     0.178273   \n",
       "153      m89         highlander       1986          7.2     0.442219   \n",
       "131     m119    life as a house       2001          7.5     0.293827   \n",
       "\n",
       "     class_ratio  cosine_sim  nt_betweenness  nt_degree  final_score  \n",
       "0      -0.259059         0.0        1.793252   1.206278     0.583749  \n",
       "153     0.061259         0.0       -0.304843  -0.230793    -0.006432  \n",
       "131     0.269876         0.0        0.498986  -0.579941     0.096549  "
      ]
     },
     "execution_count": 11,
     "metadata": {},
     "output_type": "execute_result"
    }
   ],
   "source": [
    "top_3 = scores.sort_values('cosine_sim', ascending = False).head(3)\n",
    "top_3"
   ]
  },
  {
   "cell_type": "markdown",
   "metadata": {},
   "source": [
    "# Sort by final score"
   ]
  },
  {
   "cell_type": "code",
   "execution_count": 12,
   "metadata": {},
   "outputs": [
    {
     "data": {
      "text/plain": [
       "<matplotlib.axes._subplots.AxesSubplot at 0x113e48fd0>"
      ]
     },
     "execution_count": 12,
     "metadata": {},
     "output_type": "execute_result"
    },
    {
     "data": {
      "image/png": "[encoded data removed]",
      "text/plain": [
       "<matplotlib.figure.Figure at 0x10e3cfc88>"
      ]
     },
     "metadata": {},
     "output_type": "display_data"
    }
   ],
   "source": [
    "scores['final_score'].plot.hist(bins = 20)"
   ]
  },
  {
   "cell_type": "code",
   "execution_count": 13,
   "metadata": {},
   "outputs": [
    {
     "data": {
      "text/html": [
       "<div>\n",
       "<style scoped>\n",
       "    .dataframe tbody tr th:only-of-type {\n",
       "        vertical-align: middle;\n",
       "    }\n",
       "\n",
       "    .dataframe tbody tr th {\n",
       "        vertical-align: top;\n",
       "    }\n",
       "\n",
       "    .dataframe thead th {\n",
       "        text-align: right;\n",
       "    }\n",
       "</style>\n",
       "<table border=\"1\" class=\"dataframe\">\n",
       "  <thead>\n",
       "    <tr style=\"text-align: right;\">\n",
       "      <th></th>\n",
       "      <th>movie_id</th>\n",
       "      <th>movie_title</th>\n",
       "      <th>movie_year</th>\n",
       "      <th>imdb_rating</th>\n",
       "      <th>female_prop</th>\n",
       "      <th>class_ratio</th>\n",
       "      <th>cosine_sim</th>\n",
       "      <th>nt_betweenness</th>\n",
       "      <th>nt_degree</th>\n",
       "      <th>final_score</th>\n",
       "    </tr>\n",
       "  </thead>\n",
       "  <tbody>\n",
       "    <tr>\n",
       "      <th>198</th>\n",
       "      <td>m304</td>\n",
       "      <td>contact</td>\n",
       "      <td>1997</td>\n",
       "      <td>7.4</td>\n",
       "      <td>0.754613</td>\n",
       "      <td>0.227936</td>\n",
       "      <td>0.0</td>\n",
       "      <td>-6.795130</td>\n",
       "      <td>-5.275269</td>\n",
       "      <td>-2.217570</td>\n",
       "    </tr>\n",
       "    <tr>\n",
       "      <th>148</th>\n",
       "      <td>m447</td>\n",
       "      <td>arcade</td>\n",
       "      <td>1993</td>\n",
       "      <td>4.6</td>\n",
       "      <td>0.783394</td>\n",
       "      <td>-0.249994</td>\n",
       "      <td>0.0</td>\n",
       "      <td>-6.402909</td>\n",
       "      <td>-4.846654</td>\n",
       "      <td>-2.143233</td>\n",
       "    </tr>\n",
       "    <tr>\n",
       "      <th>106</th>\n",
       "      <td>m440</td>\n",
       "      <td>mimic</td>\n",
       "      <td>1997</td>\n",
       "      <td>5.7</td>\n",
       "      <td>0.000000</td>\n",
       "      <td>0.046200</td>\n",
       "      <td>0.0</td>\n",
       "      <td>-5.107734</td>\n",
       "      <td>-3.538826</td>\n",
       "      <td>-1.720072</td>\n",
       "    </tr>\n",
       "  </tbody>\n",
       "</table>\n",
       "</div>"
      ],
      "text/plain": [
       "    movie_id movie_title movie_year  imdb_rating  female_prop  class_ratio  \\\n",
       "198     m304     contact       1997          7.4     0.754613     0.227936   \n",
       "148     m447      arcade       1993          4.6     0.783394    -0.249994   \n",
       "106     m440       mimic       1997          5.7     0.000000     0.046200   \n",
       "\n",
       "     cosine_sim  nt_betweenness  nt_degree  final_score  \n",
       "198         0.0       -6.795130  -5.275269    -2.217570  \n",
       "148         0.0       -6.402909  -4.846654    -2.143233  \n",
       "106         0.0       -5.107734  -3.538826    -1.720072  "
      ]
     },
     "execution_count": 13,
     "metadata": {},
     "output_type": "execute_result"
    }
   ],
   "source": [
    "bottom_3 = scores.sort_values('final_score').head(3)\n",
    "bottom_3"
   ]
  },
  {
   "cell_type": "code",
   "execution_count": 14,
   "metadata": {},
   "outputs": [
    {
     "data": {
      "text/html": [
       "<div>\n",
       "<style scoped>\n",
       "    .dataframe tbody tr th:only-of-type {\n",
       "        vertical-align: middle;\n",
       "    }\n",
       "\n",
       "    .dataframe tbody tr th {\n",
       "        vertical-align: top;\n",
       "    }\n",
       "\n",
       "    .dataframe thead th {\n",
       "        text-align: right;\n",
       "    }\n",
       "</style>\n",
       "<table border=\"1\" class=\"dataframe\">\n",
       "  <thead>\n",
       "    <tr style=\"text-align: right;\">\n",
       "      <th></th>\n",
       "      <th>movie_id</th>\n",
       "      <th>movie_title</th>\n",
       "      <th>movie_year</th>\n",
       "      <th>imdb_rating</th>\n",
       "      <th>female_prop</th>\n",
       "      <th>class_ratio</th>\n",
       "      <th>cosine_sim</th>\n",
       "      <th>nt_betweenness</th>\n",
       "      <th>nt_degree</th>\n",
       "      <th>final_score</th>\n",
       "    </tr>\n",
       "  </thead>\n",
       "  <tbody>\n",
       "    <tr>\n",
       "      <th>172</th>\n",
       "      <td>m594</td>\n",
       "      <td>vertigo</td>\n",
       "      <td>1958</td>\n",
       "      <td>8.6</td>\n",
       "      <td>0.908284</td>\n",
       "      <td>0.465937</td>\n",
       "      <td>0.0</td>\n",
       "      <td>6.742208</td>\n",
       "      <td>4.846654</td>\n",
       "      <td>2.592617</td>\n",
       "    </tr>\n",
       "    <tr>\n",
       "      <th>14</th>\n",
       "      <td>m307</td>\n",
       "      <td>crash</td>\n",
       "      <td>2004/I</td>\n",
       "      <td>8.0</td>\n",
       "      <td>0.715278</td>\n",
       "      <td>0.120806</td>\n",
       "      <td>0.0</td>\n",
       "      <td>3.677568</td>\n",
       "      <td>2.423327</td>\n",
       "      <td>1.387396</td>\n",
       "    </tr>\n",
       "    <tr>\n",
       "      <th>192</th>\n",
       "      <td>m187</td>\n",
       "      <td>solaris</td>\n",
       "      <td>2002</td>\n",
       "      <td>6.2</td>\n",
       "      <td>0.000000</td>\n",
       "      <td>0.393010</td>\n",
       "      <td>0.0</td>\n",
       "      <td>3.064640</td>\n",
       "      <td>3.231102</td>\n",
       "      <td>1.337750</td>\n",
       "    </tr>\n",
       "  </tbody>\n",
       "</table>\n",
       "</div>"
      ],
      "text/plain": [
       "    movie_id movie_title movie_year  imdb_rating  female_prop  class_ratio  \\\n",
       "172     m594     vertigo       1958          8.6     0.908284     0.465937   \n",
       "14      m307       crash     2004/I          8.0     0.715278     0.120806   \n",
       "192     m187     solaris       2002          6.2     0.000000     0.393010   \n",
       "\n",
       "     cosine_sim  nt_betweenness  nt_degree  final_score  \n",
       "172         0.0        6.742208   4.846654     2.592617  \n",
       "14          0.0        3.677568   2.423327     1.387396  \n",
       "192         0.0        3.064640   3.231102     1.337750  "
      ]
     },
     "execution_count": 14,
     "metadata": {},
     "output_type": "execute_result"
    }
   ],
   "source": [
    "top_3 = scores.sort_values('final_score', ascending = False).head(3)\n",
    "top_3"
   ]
  },
  {
   "cell_type": "markdown",
   "metadata": {},
   "source": [
    "# Final score over time"
   ]
  },
  {
   "cell_type": "code",
   "execution_count": 15,
   "metadata": {},
   "outputs": [],
   "source": [
    "def clean_year(x):\n",
    "    if len(x) > 4:\n",
    "        x = x[:4]\n",
    "    return x\n",
    "\n",
    "scores['year'] = scores['movie_year'].apply(clean_year)\n",
    "scores['year'] = scores['year'].astype('datetime64[ns]')\n",
    "\n",
    "def get_decade(x):\n",
    "    return str(x.year)[2]\n",
    "\n",
    "scores['decade'] = scores['year'].apply(get_decade)\n",
    "scores.drop('year', inplace = True, axis = 1)"
   ]
  },
  {
   "cell_type": "code",
   "execution_count": 16,
   "metadata": {},
   "outputs": [],
   "source": [
    "by_decade = pd.DataFrame(scores.groupby('decade')['final_score'].mean()).reset_index()\n",
    "by_decade = by_decade.fillna(0)"
   ]
  },
  {
   "cell_type": "code",
   "execution_count": 17,
   "metadata": {},
   "outputs": [
    {
     "data": {
      "text/plain": [
       "<matplotlib.axes._subplots.AxesSubplot at 0x1172fc4e0>"
      ]
     },
     "execution_count": 17,
     "metadata": {},
     "output_type": "execute_result"
    },
    {
     "data": {
      "image/png": "[encoded data removed]",
      "text/plain": [
       "<matplotlib.figure.Figure at 0x10e396128>"
      ]
     },
     "metadata": {},
     "output_type": "display_data"
    }
   ],
   "source": [
    "by_decade.plot.line(x = 'decade', y = 'final_score')"
   ]
  },
  {
   "cell_type": "markdown",
   "metadata": {},
   "source": [
    "# Final score and IMDB rating"
   ]
  },
  {
   "cell_type": "code",
   "execution_count": 18,
   "metadata": {},
   "outputs": [
    {
     "data": {
      "text/plain": [
       "<matplotlib.axes._subplots.AxesSubplot at 0x10a995160>"
      ]
     },
     "execution_count": 18,
     "metadata": {},
     "output_type": "execute_result"
    },
    {
     "data": {
      "image/png": "[encoded data removed]",
      "text/plain": [
       "<matplotlib.figure.Figure at 0x117231160>"
      ]
     },
     "metadata": {},
     "output_type": "display_data"
    }
   ],
   "source": [
    "scores.plot.scatter(x = 'final_score', y = 'imdb_rating')"
   ]
  },
  {
   "cell_type": "markdown",
   "metadata": {},
   "source": [
    "# Final score by genre"
   ]
  },
  {
   "cell_type": "code",
   "execution_count": 19,
   "metadata": {},
   "outputs": [
    {
     "ename": "KeyError",
     "evalue": "'genre'",
     "output_type": "error",
     "traceback": [
      "\u001b[0;31m---------------------------------------------------------------------------\u001b[0m",
      "\u001b[0;31mKeyError\u001b[0m                                  Traceback (most recent call last)",
      "\u001b[0;32m<ipython-input-19-c2350cf17c41>\u001b[0m in \u001b[0;36m<module>\u001b[0;34m()\u001b[0m\n\u001b[0;32m----> 1\u001b[0;31m \u001b[0mby_genre\u001b[0m \u001b[0;34m=\u001b[0m \u001b[0mpd\u001b[0m\u001b[0;34m.\u001b[0m\u001b[0mDataFrame\u001b[0m\u001b[0;34m(\u001b[0m\u001b[0mscores\u001b[0m\u001b[0;34m.\u001b[0m\u001b[0mgroupby\u001b[0m\u001b[0;34m(\u001b[0m\u001b[0;34m'genre'\u001b[0m\u001b[0;34m)\u001b[0m\u001b[0;34m[\u001b[0m\u001b[0;34m'final_score'\u001b[0m\u001b[0;34m]\u001b[0m\u001b[0;34m.\u001b[0m\u001b[0mmean\u001b[0m\u001b[0;34m(\u001b[0m\u001b[0;34m)\u001b[0m\u001b[0;34m)\u001b[0m\u001b[0;34m.\u001b[0m\u001b[0mreset_index\u001b[0m\u001b[0;34m(\u001b[0m\u001b[0;34m)\u001b[0m\u001b[0;34m\u001b[0m\u001b[0m\n\u001b[0m\u001b[1;32m      2\u001b[0m \u001b[0;34m\u001b[0m\u001b[0m\n\u001b[1;32m      3\u001b[0m top_10 = ['drama',\n\u001b[1;32m      4\u001b[0m  \u001b[0;34m'action'\u001b[0m\u001b[0;34m,\u001b[0m\u001b[0;34m\u001b[0m\u001b[0m\n\u001b[1;32m      5\u001b[0m  \u001b[0;34m'comedy'\u001b[0m\u001b[0;34m,\u001b[0m\u001b[0;34m\u001b[0m\u001b[0m\n",
      "\u001b[0;32m/anaconda3/lib/python3.6/site-packages/pandas/core/generic.py\u001b[0m in \u001b[0;36mgroupby\u001b[0;34m(self, by, axis, level, as_index, sort, group_keys, squeeze, **kwargs)\u001b[0m\n\u001b[1;32m   5160\u001b[0m         return groupby(self, by=by, axis=axis, level=level, as_index=as_index,\n\u001b[1;32m   5161\u001b[0m                        \u001b[0msort\u001b[0m\u001b[0;34m=\u001b[0m\u001b[0msort\u001b[0m\u001b[0;34m,\u001b[0m \u001b[0mgroup_keys\u001b[0m\u001b[0;34m=\u001b[0m\u001b[0mgroup_keys\u001b[0m\u001b[0;34m,\u001b[0m \u001b[0msqueeze\u001b[0m\u001b[0;34m=\u001b[0m\u001b[0msqueeze\u001b[0m\u001b[0;34m,\u001b[0m\u001b[0;34m\u001b[0m\u001b[0m\n\u001b[0;32m-> 5162\u001b[0;31m                        **kwargs)\n\u001b[0m\u001b[1;32m   5163\u001b[0m \u001b[0;34m\u001b[0m\u001b[0m\n\u001b[1;32m   5164\u001b[0m     def asfreq(self, freq, method=None, how=None, normalize=False,\n",
      "\u001b[0;32m/anaconda3/lib/python3.6/site-packages/pandas/core/groupby.py\u001b[0m in \u001b[0;36mgroupby\u001b[0;34m(obj, by, **kwds)\u001b[0m\n\u001b[1;32m   1757\u001b[0m         \u001b[0;32mraise\u001b[0m \u001b[0mTypeError\u001b[0m\u001b[0;34m(\u001b[0m\u001b[0;34m'invalid type: %s'\u001b[0m \u001b[0;34m%\u001b[0m \u001b[0mtype\u001b[0m\u001b[0;34m(\u001b[0m\u001b[0mobj\u001b[0m\u001b[0;34m)\u001b[0m\u001b[0;34m)\u001b[0m\u001b[0;34m\u001b[0m\u001b[0m\n\u001b[1;32m   1758\u001b[0m \u001b[0;34m\u001b[0m\u001b[0m\n\u001b[0;32m-> 1759\u001b[0;31m     \u001b[0;32mreturn\u001b[0m \u001b[0mklass\u001b[0m\u001b[0;34m(\u001b[0m\u001b[0mobj\u001b[0m\u001b[0;34m,\u001b[0m \u001b[0mby\u001b[0m\u001b[0;34m,\u001b[0m \u001b[0;34m**\u001b[0m\u001b[0mkwds\u001b[0m\u001b[0;34m)\u001b[0m\u001b[0;34m\u001b[0m\u001b[0m\n\u001b[0m\u001b[1;32m   1760\u001b[0m \u001b[0;34m\u001b[0m\u001b[0m\n\u001b[1;32m   1761\u001b[0m \u001b[0;34m\u001b[0m\u001b[0m\n",
      "\u001b[0;32m/anaconda3/lib/python3.6/site-packages/pandas/core/groupby.py\u001b[0m in \u001b[0;36m__init__\u001b[0;34m(self, obj, keys, axis, level, grouper, exclusions, selection, as_index, sort, group_keys, squeeze, **kwargs)\u001b[0m\n\u001b[1;32m    390\u001b[0m                                                     \u001b[0mlevel\u001b[0m\u001b[0;34m=\u001b[0m\u001b[0mlevel\u001b[0m\u001b[0;34m,\u001b[0m\u001b[0;34m\u001b[0m\u001b[0m\n\u001b[1;32m    391\u001b[0m                                                     \u001b[0msort\u001b[0m\u001b[0;34m=\u001b[0m\u001b[0msort\u001b[0m\u001b[0;34m,\u001b[0m\u001b[0;34m\u001b[0m\u001b[0m\n\u001b[0;32m--> 392\u001b[0;31m                                                     mutated=self.mutated)\n\u001b[0m\u001b[1;32m    393\u001b[0m \u001b[0;34m\u001b[0m\u001b[0m\n\u001b[1;32m    394\u001b[0m         \u001b[0mself\u001b[0m\u001b[0;34m.\u001b[0m\u001b[0mobj\u001b[0m \u001b[0;34m=\u001b[0m \u001b[0mobj\u001b[0m\u001b[0;34m\u001b[0m\u001b[0m\n",
      "\u001b[0;32m/anaconda3/lib/python3.6/site-packages/pandas/core/groupby.py\u001b[0m in \u001b[0;36m_get_grouper\u001b[0;34m(obj, key, axis, level, sort, mutated, validate)\u001b[0m\n\u001b[1;32m   2840\u001b[0m                 \u001b[0min_axis\u001b[0m\u001b[0;34m,\u001b[0m \u001b[0mname\u001b[0m\u001b[0;34m,\u001b[0m \u001b[0mlevel\u001b[0m\u001b[0;34m,\u001b[0m \u001b[0mgpr\u001b[0m \u001b[0;34m=\u001b[0m \u001b[0;32mFalse\u001b[0m\u001b[0;34m,\u001b[0m \u001b[0;32mNone\u001b[0m\u001b[0;34m,\u001b[0m \u001b[0mgpr\u001b[0m\u001b[0;34m,\u001b[0m \u001b[0;32mNone\u001b[0m\u001b[0;34m\u001b[0m\u001b[0m\n\u001b[1;32m   2841\u001b[0m             \u001b[0;32melse\u001b[0m\u001b[0;34m:\u001b[0m\u001b[0;34m\u001b[0m\u001b[0m\n\u001b[0;32m-> 2842\u001b[0;31m                 \u001b[0;32mraise\u001b[0m \u001b[0mKeyError\u001b[0m\u001b[0;34m(\u001b[0m\u001b[0mgpr\u001b[0m\u001b[0;34m)\u001b[0m\u001b[0;34m\u001b[0m\u001b[0m\n\u001b[0m\u001b[1;32m   2843\u001b[0m         \u001b[0;32melif\u001b[0m \u001b[0misinstance\u001b[0m\u001b[0;34m(\u001b[0m\u001b[0mgpr\u001b[0m\u001b[0;34m,\u001b[0m \u001b[0mGrouper\u001b[0m\u001b[0;34m)\u001b[0m \u001b[0;32mand\u001b[0m \u001b[0mgpr\u001b[0m\u001b[0;34m.\u001b[0m\u001b[0mkey\u001b[0m \u001b[0;32mis\u001b[0m \u001b[0;32mnot\u001b[0m \u001b[0;32mNone\u001b[0m\u001b[0;34m:\u001b[0m\u001b[0;34m\u001b[0m\u001b[0m\n\u001b[1;32m   2844\u001b[0m             \u001b[0;31m# Add key to exclusions\u001b[0m\u001b[0;34m\u001b[0m\u001b[0;34m\u001b[0m\u001b[0m\n",
      "\u001b[0;31mKeyError\u001b[0m: 'genre'"
     ]
    }
   ],
   "source": [
    "by_genre = pd.DataFrame(scores.groupby('genre')['final_score'].mean()).reset_index()\n",
    "\n",
    "top_10 = ['drama',\n",
    " 'action',\n",
    " 'comedy',\n",
    " 'crime',\n",
    " 'horror',\n",
    " 'adventure',\n",
    " 'thriller',\n",
    " 'biography',\n",
    " 'fantasy',\n",
    " 'sci-fi']\n",
    "\n",
    "by_genre = by_genre[by_genre['genre'].isin(top_10)]"
   ]
  },
  {
   "cell_type": "code",
   "execution_count": null,
   "metadata": {},
   "outputs": [],
   "source": [
    "by_genre = by_genre.sort_values('final_score')"
   ]
  },
  {
   "cell_type": "code",
   "execution_count": null,
   "metadata": {},
   "outputs": [],
   "source": [
    "by_genre.plot.bar(x = 'genre', y = 'final_score', legend = False)"
   ]
  }
 ],
 "metadata": {
  "kernelspec": {
   "display_name": "Python 3",
   "language": "python",
   "name": "python3"
  },
  "language_info": {
   "codemirror_mode": {
    "name": "ipython",
    "version": 3
   },
   "file_extension": ".py",
   "mimetype": "text/x-python",
   "name": "python",
   "nbconvert_exporter": "python",
   "pygments_lexer": "ipython3",
   "version": "3.6.4"
  }
 },
 "nbformat": 4,
 "nbformat_minor": 2
}
