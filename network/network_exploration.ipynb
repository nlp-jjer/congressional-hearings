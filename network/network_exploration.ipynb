{
 "cells": [
  {
   "cell_type": "code",
   "execution_count": 197,
   "metadata": {},
   "outputs": [],
   "source": [
    "import pickle\n",
    "import pandas as pd"
   ]
  },
  {
   "cell_type": "markdown",
   "metadata": {},
   "source": [
    "# Load centrality data"
   ]
  },
  {
   "cell_type": "code",
   "execution_count": 198,
   "metadata": {},
   "outputs": [],
   "source": [
    "df = pickle.load(open('../data/holdout_centrality.p', 'rb'))"
   ]
  },
  {
   "cell_type": "markdown",
   "metadata": {},
   "source": [
    "# Load movie metadata"
   ]
  },
  {
   "cell_type": "code",
   "execution_count": 199,
   "metadata": {},
   "outputs": [
    {
     "data": {
      "text/html": [
       "<div>\n",
       "<style scoped>\n",
       "    .dataframe tbody tr th:only-of-type {\n",
       "        vertical-align: middle;\n",
       "    }\n",
       "\n",
       "    .dataframe tbody tr th {\n",
       "        vertical-align: top;\n",
       "    }\n",
       "\n",
       "    .dataframe thead th {\n",
       "        text-align: right;\n",
       "    }\n",
       "</style>\n",
       "<table border=\"1\" class=\"dataframe\">\n",
       "  <thead>\n",
       "    <tr style=\"text-align: right;\">\n",
       "      <th></th>\n",
       "      <th>movie_id</th>\n",
       "      <th>movie_title</th>\n",
       "      <th>imdb_rating</th>\n",
       "    </tr>\n",
       "  </thead>\n",
       "  <tbody>\n",
       "    <tr>\n",
       "      <th>0</th>\n",
       "      <td>m0</td>\n",
       "      <td>10 things i hate about you</td>\n",
       "      <td>6.90</td>\n",
       "    </tr>\n",
       "    <tr>\n",
       "      <th>1</th>\n",
       "      <td>m1</td>\n",
       "      <td>1492: conquest of paradise</td>\n",
       "      <td>6.20</td>\n",
       "    </tr>\n",
       "    <tr>\n",
       "      <th>2</th>\n",
       "      <td>m2</td>\n",
       "      <td>15 minutes</td>\n",
       "      <td>6.10</td>\n",
       "    </tr>\n",
       "    <tr>\n",
       "      <th>3</th>\n",
       "      <td>m3</td>\n",
       "      <td>2001: a space odyssey</td>\n",
       "      <td>8.40</td>\n",
       "    </tr>\n",
       "    <tr>\n",
       "      <th>4</th>\n",
       "      <td>m4</td>\n",
       "      <td>48 hrs.</td>\n",
       "      <td>6.90</td>\n",
       "    </tr>\n",
       "  </tbody>\n",
       "</table>\n",
       "</div>"
      ],
      "text/plain": [
       "  movie_id                 movie_title imdb_rating\n",
       "0       m0  10 things i hate about you        6.90\n",
       "1       m1  1492: conquest of paradise        6.20\n",
       "2       m2                  15 minutes        6.10\n",
       "3       m3       2001: a space odyssey        8.40\n",
       "4       m4                     48 hrs.        6.90"
      ]
     },
     "execution_count": 199,
     "metadata": {},
     "output_type": "execute_result"
    }
   ],
   "source": [
    "headers = ['movie_id', 'movie_title', 'movie_year', 'imdb_rating', 'imdb_vote', 'genre']\n",
    "\n",
    "filepath = '../cornell_movie_dialogs_corpus/movie_titles_metadata.txt'\n",
    "\n",
    "lines = []\n",
    "\n",
    "with open(filepath, 'r', encoding = 'iso-8859-1') as f:\n",
    "    for line in f:\n",
    "        cols = line.split(' +++$+++ ')\n",
    "        lines.append(cols)\n",
    "            \n",
    "movies = pd.DataFrame(lines, columns = headers)\n",
    "    \n",
    "movies = movies[['movie_id', 'movie_title', 'imdb_rating']]\n",
    "\n",
    "movies.head()"
   ]
  },
  {
   "cell_type": "markdown",
   "metadata": {},
   "source": [
    "# Limit genres to top 10"
   ]
  },
  {
   "cell_type": "code",
   "execution_count": 200,
   "metadata": {},
   "outputs": [],
   "source": [
    "top_10 = pd.DataFrame(df.groupby('genre').size().sort_values(ascending = False).head(10)).reset_index()"
   ]
  },
  {
   "cell_type": "code",
   "execution_count": 201,
   "metadata": {},
   "outputs": [
    {
     "data": {
      "text/plain": [
       "['drama',\n",
       " 'action',\n",
       " 'comedy',\n",
       " 'crime',\n",
       " 'horror',\n",
       " 'adventure',\n",
       " 'thriller',\n",
       " 'biography',\n",
       " 'fantasy',\n",
       " 'sci-fi']"
      ]
     },
     "execution_count": 201,
     "metadata": {},
     "output_type": "execute_result"
    }
   ],
   "source": [
    "top_10 = list(top_10['genre'])\n",
    "top_10"
   ]
  },
  {
   "cell_type": "code",
   "execution_count": 202,
   "metadata": {},
   "outputs": [],
   "source": [
    "df = df[df['genre'].isin(top_10)]"
   ]
  },
  {
   "cell_type": "markdown",
   "metadata": {},
   "source": [
    "# Join centrality and movie metadata"
   ]
  },
  {
   "cell_type": "code",
   "execution_count": 203,
   "metadata": {},
   "outputs": [
    {
     "data": {
      "text/html": [
       "<div>\n",
       "<style scoped>\n",
       "    .dataframe tbody tr th:only-of-type {\n",
       "        vertical-align: middle;\n",
       "    }\n",
       "\n",
       "    .dataframe tbody tr th {\n",
       "        vertical-align: top;\n",
       "    }\n",
       "\n",
       "    .dataframe thead th {\n",
       "        text-align: right;\n",
       "    }\n",
       "</style>\n",
       "<table border=\"1\" class=\"dataframe\">\n",
       "  <thead>\n",
       "    <tr style=\"text-align: right;\">\n",
       "      <th></th>\n",
       "      <th>gender</th>\n",
       "      <th>degree</th>\n",
       "      <th>betweenness</th>\n",
       "      <th>movie_id</th>\n",
       "      <th>year</th>\n",
       "      <th>genre</th>\n",
       "      <th>movie_title</th>\n",
       "      <th>imdb_rating</th>\n",
       "    </tr>\n",
       "  </thead>\n",
       "  <tbody>\n",
       "    <tr>\n",
       "      <th>0</th>\n",
       "      <td>f</td>\n",
       "      <td>0.066667</td>\n",
       "      <td>0.00000</td>\n",
       "      <td>m49</td>\n",
       "      <td>1999</td>\n",
       "      <td>comedy</td>\n",
       "      <td>detroit rock city</td>\n",
       "      <td>6.50</td>\n",
       "    </tr>\n",
       "    <tr>\n",
       "      <th>1</th>\n",
       "      <td>m</td>\n",
       "      <td>0.253333</td>\n",
       "      <td>0.24381</td>\n",
       "      <td>m49</td>\n",
       "      <td>1999</td>\n",
       "      <td>comedy</td>\n",
       "      <td>detroit rock city</td>\n",
       "      <td>6.50</td>\n",
       "    </tr>\n",
       "  </tbody>\n",
       "</table>\n",
       "</div>"
      ],
      "text/plain": [
       "  gender    degree  betweenness movie_id  year   genre        movie_title  \\\n",
       "0      f  0.066667      0.00000      m49  1999  comedy  detroit rock city   \n",
       "1      m  0.253333      0.24381      m49  1999  comedy  detroit rock city   \n",
       "\n",
       "  imdb_rating  \n",
       "0        6.50  \n",
       "1        6.50  "
      ]
     },
     "execution_count": 203,
     "metadata": {},
     "output_type": "execute_result"
    }
   ],
   "source": [
    "df = df.merge(movies, on = 'movie_id')\n",
    "\n",
    "df.head(2)"
   ]
  },
  {
   "cell_type": "markdown",
   "metadata": {},
   "source": [
    "# By gender"
   ]
  },
  {
   "cell_type": "code",
   "execution_count": 204,
   "metadata": {
    "scrolled": true
   },
   "outputs": [
    {
     "data": {
      "text/html": [
       "<div>\n",
       "<style scoped>\n",
       "    .dataframe tbody tr th:only-of-type {\n",
       "        vertical-align: middle;\n",
       "    }\n",
       "\n",
       "    .dataframe tbody tr th {\n",
       "        vertical-align: top;\n",
       "    }\n",
       "\n",
       "    .dataframe thead th {\n",
       "        text-align: right;\n",
       "    }\n",
       "</style>\n",
       "<table border=\"1\" class=\"dataframe\">\n",
       "  <thead>\n",
       "    <tr style=\"text-align: right;\">\n",
       "      <th></th>\n",
       "      <th>gender</th>\n",
       "      <th>degree</th>\n",
       "      <th>betweenness</th>\n",
       "    </tr>\n",
       "  </thead>\n",
       "  <tbody>\n",
       "    <tr>\n",
       "      <th>0</th>\n",
       "      <td>f</td>\n",
       "      <td>0.240497</td>\n",
       "      <td>0.105373</td>\n",
       "    </tr>\n",
       "    <tr>\n",
       "      <th>1</th>\n",
       "      <td>m</td>\n",
       "      <td>0.288901</td>\n",
       "      <td>0.161116</td>\n",
       "    </tr>\n",
       "  </tbody>\n",
       "</table>\n",
       "</div>"
      ],
      "text/plain": [
       "  gender    degree  betweenness\n",
       "0      f  0.240497     0.105373\n",
       "1      m  0.288901     0.161116"
      ]
     },
     "execution_count": 204,
     "metadata": {},
     "output_type": "execute_result"
    }
   ],
   "source": [
    "df.groupby('gender').mean().reset_index()[['gender', 'degree', 'betweenness']]"
   ]
  },
  {
   "cell_type": "markdown",
   "metadata": {},
   "source": [
    "# By genre"
   ]
  },
  {
   "cell_type": "code",
   "execution_count": 205,
   "metadata": {},
   "outputs": [
    {
     "data": {
      "text/html": [
       "<div>\n",
       "<style scoped>\n",
       "    .dataframe tbody tr th:only-of-type {\n",
       "        vertical-align: middle;\n",
       "    }\n",
       "\n",
       "    .dataframe tbody tr th {\n",
       "        vertical-align: top;\n",
       "    }\n",
       "\n",
       "    .dataframe thead th {\n",
       "        text-align: right;\n",
       "    }\n",
       "</style>\n",
       "<table border=\"1\" class=\"dataframe\">\n",
       "  <thead>\n",
       "    <tr style=\"text-align: right;\">\n",
       "      <th></th>\n",
       "      <th>genre</th>\n",
       "      <th>degree_f</th>\n",
       "      <th>degree_m</th>\n",
       "      <th>diff</th>\n",
       "    </tr>\n",
       "  </thead>\n",
       "  <tbody>\n",
       "    <tr>\n",
       "      <th>7</th>\n",
       "      <td>fantasy</td>\n",
       "      <td>0.328153</td>\n",
       "      <td>0.283929</td>\n",
       "      <td>-0.044224</td>\n",
       "    </tr>\n",
       "    <tr>\n",
       "      <th>8</th>\n",
       "      <td>horror</td>\n",
       "      <td>0.293525</td>\n",
       "      <td>0.255583</td>\n",
       "      <td>-0.037942</td>\n",
       "    </tr>\n",
       "    <tr>\n",
       "      <th>4</th>\n",
       "      <td>comedy</td>\n",
       "      <td>0.213803</td>\n",
       "      <td>0.237539</td>\n",
       "      <td>0.023736</td>\n",
       "    </tr>\n",
       "    <tr>\n",
       "      <th>9</th>\n",
       "      <td>thriller</td>\n",
       "      <td>0.220445</td>\n",
       "      <td>0.262914</td>\n",
       "      <td>0.042468</td>\n",
       "    </tr>\n",
       "    <tr>\n",
       "      <th>2</th>\n",
       "      <td>animation</td>\n",
       "      <td>0.207559</td>\n",
       "      <td>0.261831</td>\n",
       "      <td>0.054271</td>\n",
       "    </tr>\n",
       "    <tr>\n",
       "      <th>6</th>\n",
       "      <td>drama</td>\n",
       "      <td>0.213210</td>\n",
       "      <td>0.270435</td>\n",
       "      <td>0.057225</td>\n",
       "    </tr>\n",
       "    <tr>\n",
       "      <th>0</th>\n",
       "      <td>action</td>\n",
       "      <td>0.221869</td>\n",
       "      <td>0.297258</td>\n",
       "      <td>0.075389</td>\n",
       "    </tr>\n",
       "    <tr>\n",
       "      <th>5</th>\n",
       "      <td>crime</td>\n",
       "      <td>0.209388</td>\n",
       "      <td>0.286129</td>\n",
       "      <td>0.076741</td>\n",
       "    </tr>\n",
       "    <tr>\n",
       "      <th>1</th>\n",
       "      <td>adventure</td>\n",
       "      <td>0.265430</td>\n",
       "      <td>0.346556</td>\n",
       "      <td>0.081126</td>\n",
       "    </tr>\n",
       "    <tr>\n",
       "      <th>3</th>\n",
       "      <td>biography</td>\n",
       "      <td>0.127744</td>\n",
       "      <td>0.210523</td>\n",
       "      <td>0.082778</td>\n",
       "    </tr>\n",
       "  </tbody>\n",
       "</table>\n",
       "</div>"
      ],
      "text/plain": [
       "       genre  degree_f  degree_m      diff\n",
       "7    fantasy  0.328153  0.283929 -0.044224\n",
       "8     horror  0.293525  0.255583 -0.037942\n",
       "4     comedy  0.213803  0.237539  0.023736\n",
       "9   thriller  0.220445  0.262914  0.042468\n",
       "2  animation  0.207559  0.261831  0.054271\n",
       "6      drama  0.213210  0.270435  0.057225\n",
       "0     action  0.221869  0.297258  0.075389\n",
       "5      crime  0.209388  0.286129  0.076741\n",
       "1  adventure  0.265430  0.346556  0.081126\n",
       "3  biography  0.127744  0.210523  0.082778"
      ]
     },
     "execution_count": 205,
     "metadata": {},
     "output_type": "execute_result"
    }
   ],
   "source": [
    "by_genre_f = by_genre[by_genre['gender'] == 'f']\n",
    "by_genre_m = by_genre[by_genre['gender'] == 'm']\n",
    "\n",
    "by_genre_wide = by_genre_f.merge(by_genre_m, on = 'genre', suffixes=('_f', '_m'))\n",
    "\n",
    "by_genre_wide['diff'] = by_genre_wide['degree_m'] - by_genre_wide['degree_f']\n",
    "\n",
    "cols = ['genre', 'degree_f', 'degree_m', 'diff']\n",
    "\n",
    "by_genre_wide = by_genre_wide[cols]\n",
    "\n",
    "by_genre_wide.sort_values('diff')"
   ]
  },
  {
   "cell_type": "code",
   "execution_count": 206,
   "metadata": {},
   "outputs": [
    {
     "data": {
      "text/html": [
       "<div>\n",
       "<style scoped>\n",
       "    .dataframe tbody tr th:only-of-type {\n",
       "        vertical-align: middle;\n",
       "    }\n",
       "\n",
       "    .dataframe tbody tr th {\n",
       "        vertical-align: top;\n",
       "    }\n",
       "\n",
       "    .dataframe thead th {\n",
       "        text-align: right;\n",
       "    }\n",
       "</style>\n",
       "<table border=\"1\" class=\"dataframe\">\n",
       "  <thead>\n",
       "    <tr style=\"text-align: right;\">\n",
       "      <th></th>\n",
       "      <th>genre</th>\n",
       "      <th>betweenness_f</th>\n",
       "      <th>betweenness_m</th>\n",
       "      <th>diff</th>\n",
       "    </tr>\n",
       "  </thead>\n",
       "  <tbody>\n",
       "    <tr>\n",
       "      <th>7</th>\n",
       "      <td>fantasy</td>\n",
       "      <td>0.252390</td>\n",
       "      <td>0.140287</td>\n",
       "      <td>-0.112103</td>\n",
       "    </tr>\n",
       "    <tr>\n",
       "      <th>8</th>\n",
       "      <td>horror</td>\n",
       "      <td>0.164886</td>\n",
       "      <td>0.115213</td>\n",
       "      <td>-0.049673</td>\n",
       "    </tr>\n",
       "    <tr>\n",
       "      <th>4</th>\n",
       "      <td>comedy</td>\n",
       "      <td>0.100600</td>\n",
       "      <td>0.124415</td>\n",
       "      <td>0.023816</td>\n",
       "    </tr>\n",
       "    <tr>\n",
       "      <th>9</th>\n",
       "      <td>thriller</td>\n",
       "      <td>0.095204</td>\n",
       "      <td>0.125604</td>\n",
       "      <td>0.030400</td>\n",
       "    </tr>\n",
       "    <tr>\n",
       "      <th>6</th>\n",
       "      <td>drama</td>\n",
       "      <td>0.093069</td>\n",
       "      <td>0.152022</td>\n",
       "      <td>0.058953</td>\n",
       "    </tr>\n",
       "    <tr>\n",
       "      <th>2</th>\n",
       "      <td>animation</td>\n",
       "      <td>0.076092</td>\n",
       "      <td>0.153424</td>\n",
       "      <td>0.077332</td>\n",
       "    </tr>\n",
       "    <tr>\n",
       "      <th>5</th>\n",
       "      <td>crime</td>\n",
       "      <td>0.098863</td>\n",
       "      <td>0.184586</td>\n",
       "      <td>0.085723</td>\n",
       "    </tr>\n",
       "    <tr>\n",
       "      <th>1</th>\n",
       "      <td>adventure</td>\n",
       "      <td>0.077960</td>\n",
       "      <td>0.177057</td>\n",
       "      <td>0.099097</td>\n",
       "    </tr>\n",
       "    <tr>\n",
       "      <th>3</th>\n",
       "      <td>biography</td>\n",
       "      <td>0.051550</td>\n",
       "      <td>0.150933</td>\n",
       "      <td>0.099382</td>\n",
       "    </tr>\n",
       "    <tr>\n",
       "      <th>0</th>\n",
       "      <td>action</td>\n",
       "      <td>0.083339</td>\n",
       "      <td>0.185458</td>\n",
       "      <td>0.102119</td>\n",
       "    </tr>\n",
       "  </tbody>\n",
       "</table>\n",
       "</div>"
      ],
      "text/plain": [
       "       genre  betweenness_f  betweenness_m      diff\n",
       "7    fantasy       0.252390       0.140287 -0.112103\n",
       "8     horror       0.164886       0.115213 -0.049673\n",
       "4     comedy       0.100600       0.124415  0.023816\n",
       "9   thriller       0.095204       0.125604  0.030400\n",
       "6      drama       0.093069       0.152022  0.058953\n",
       "2  animation       0.076092       0.153424  0.077332\n",
       "5      crime       0.098863       0.184586  0.085723\n",
       "1  adventure       0.077960       0.177057  0.099097\n",
       "3  biography       0.051550       0.150933  0.099382\n",
       "0     action       0.083339       0.185458  0.102119"
      ]
     },
     "execution_count": 206,
     "metadata": {},
     "output_type": "execute_result"
    }
   ],
   "source": [
    "by_genre_f = by_genre[by_genre['gender'] == 'f']\n",
    "by_genre_m = by_genre[by_genre['gender'] == 'm']\n",
    "\n",
    "by_genre_wide = by_genre_f.merge(by_genre_m, on = 'genre', suffixes=('_f', '_m'))\n",
    "\n",
    "by_genre_wide['diff'] = by_genre_wide['betweenness_m'] - by_genre_wide['betweenness_f']\n",
    "\n",
    "cols = ['genre', 'betweenness_f', 'betweenness_m', 'diff']\n",
    "\n",
    "by_genre_wide = by_genre_wide[cols]\n",
    "\n",
    "by_genre_wide.sort_values('diff')"
   ]
  },
  {
   "cell_type": "markdown",
   "metadata": {},
   "source": [
    "# By movie"
   ]
  },
  {
   "cell_type": "code",
   "execution_count": 207,
   "metadata": {},
   "outputs": [],
   "source": [
    "df_f = df[df['gender'] == 'f']\n",
    "df_m = df[df['gender'] == 'm']\n",
    "\n",
    "df_wide = df_f.merge(df_m, on = ['genre', 'movie_id'], suffixes=('_f', '_m'))\n",
    "\n",
    "df_wide['diff'] = df_wide['degree_m'] - df_wide['degree_f']\n",
    "\n",
    "cols = ['genre', 'degree_f', 'degree_m', 'diff', 'movie_title_f', 'movie_id', 'imdb_rating_f']\n",
    "\n",
    "df_wide = df_wide[cols]"
   ]
  },
  {
   "cell_type": "code",
   "execution_count": 208,
   "metadata": {},
   "outputs": [],
   "source": [
    "top_5 = df_wide.sort_values('diff').head()\n",
    "bottom_5 = df_wide.sort_values('diff', ascending = False).head()"
   ]
  },
  {
   "cell_type": "code",
   "execution_count": 209,
   "metadata": {},
   "outputs": [
    {
     "data": {
      "text/html": [
       "<div>\n",
       "<style scoped>\n",
       "    .dataframe tbody tr th:only-of-type {\n",
       "        vertical-align: middle;\n",
       "    }\n",
       "\n",
       "    .dataframe tbody tr th {\n",
       "        vertical-align: top;\n",
       "    }\n",
       "\n",
       "    .dataframe thead th {\n",
       "        text-align: right;\n",
       "    }\n",
       "</style>\n",
       "<table border=\"1\" class=\"dataframe\">\n",
       "  <thead>\n",
       "    <tr style=\"text-align: right;\">\n",
       "      <th></th>\n",
       "      <th>genre</th>\n",
       "      <th>degree_f</th>\n",
       "      <th>degree_m</th>\n",
       "      <th>diff</th>\n",
       "      <th>movie_title_f</th>\n",
       "      <th>movie_id</th>\n",
       "      <th>imdb_rating_f</th>\n",
       "    </tr>\n",
       "  </thead>\n",
       "  <tbody>\n",
       "    <tr>\n",
       "      <th>182</th>\n",
       "      <td>drama</td>\n",
       "      <td>0.928571</td>\n",
       "      <td>0.112245</td>\n",
       "      <td>-0.816327</td>\n",
       "      <td>contact</td>\n",
       "      <td>m304</td>\n",
       "      <td>7.40</td>\n",
       "    </tr>\n",
       "    <tr>\n",
       "      <th>135</th>\n",
       "      <td>sci-fi</td>\n",
       "      <td>1.000000</td>\n",
       "      <td>0.250000</td>\n",
       "      <td>-0.750000</td>\n",
       "      <td>arcade</td>\n",
       "      <td>m447</td>\n",
       "      <td>4.60</td>\n",
       "    </tr>\n",
       "    <tr>\n",
       "      <th>98</th>\n",
       "      <td>drama</td>\n",
       "      <td>0.857143</td>\n",
       "      <td>0.309524</td>\n",
       "      <td>-0.547619</td>\n",
       "      <td>mimic</td>\n",
       "      <td>m440</td>\n",
       "      <td>5.70</td>\n",
       "    </tr>\n",
       "    <tr>\n",
       "      <th>145</th>\n",
       "      <td>drama</td>\n",
       "      <td>1.000000</td>\n",
       "      <td>0.500000</td>\n",
       "      <td>-0.500000</td>\n",
       "      <td>white angel</td>\n",
       "      <td>m604</td>\n",
       "      <td>4.40</td>\n",
       "    </tr>\n",
       "    <tr>\n",
       "      <th>137</th>\n",
       "      <td>sci-fi</td>\n",
       "      <td>0.590909</td>\n",
       "      <td>0.166667</td>\n",
       "      <td>-0.424242</td>\n",
       "      <td>the curse</td>\n",
       "      <td>m314</td>\n",
       "      <td>4.50</td>\n",
       "    </tr>\n",
       "  </tbody>\n",
       "</table>\n",
       "</div>"
      ],
      "text/plain": [
       "      genre  degree_f  degree_m      diff movie_title_f movie_id imdb_rating_f\n",
       "182   drama  0.928571  0.112245 -0.816327       contact     m304          7.40\n",
       "135  sci-fi  1.000000  0.250000 -0.750000        arcade     m447          4.60\n",
       "98    drama  0.857143  0.309524 -0.547619         mimic     m440          5.70\n",
       "145   drama  1.000000  0.500000 -0.500000   white angel     m604          4.40\n",
       "137  sci-fi  0.590909  0.166667 -0.424242     the curse     m314          4.50"
      ]
     },
     "execution_count": 209,
     "metadata": {},
     "output_type": "execute_result"
    }
   ],
   "source": [
    "top_5"
   ]
  },
  {
   "cell_type": "code",
   "execution_count": 210,
   "metadata": {},
   "outputs": [
    {
     "data": {
      "text/html": [
       "<div>\n",
       "<style scoped>\n",
       "    .dataframe tbody tr th:only-of-type {\n",
       "        vertical-align: middle;\n",
       "    }\n",
       "\n",
       "    .dataframe tbody tr th {\n",
       "        vertical-align: top;\n",
       "    }\n",
       "\n",
       "    .dataframe thead th {\n",
       "        text-align: right;\n",
       "    }\n",
       "</style>\n",
       "<table border=\"1\" class=\"dataframe\">\n",
       "  <thead>\n",
       "    <tr style=\"text-align: right;\">\n",
       "      <th></th>\n",
       "      <th>genre</th>\n",
       "      <th>degree_f</th>\n",
       "      <th>degree_m</th>\n",
       "      <th>diff</th>\n",
       "      <th>movie_title_f</th>\n",
       "      <th>movie_id</th>\n",
       "      <th>imdb_rating_f</th>\n",
       "    </tr>\n",
       "  </thead>\n",
       "  <tbody>\n",
       "    <tr>\n",
       "      <th>159</th>\n",
       "      <td>crime</td>\n",
       "      <td>0.138889</td>\n",
       "      <td>0.888889</td>\n",
       "      <td>0.750000</td>\n",
       "      <td>vertigo</td>\n",
       "      <td>m594</td>\n",
       "      <td>8.60</td>\n",
       "    </tr>\n",
       "    <tr>\n",
       "      <th>177</th>\n",
       "      <td>drama</td>\n",
       "      <td>0.250000</td>\n",
       "      <td>0.750000</td>\n",
       "      <td>0.500000</td>\n",
       "      <td>solaris</td>\n",
       "      <td>m187</td>\n",
       "      <td>6.20</td>\n",
       "    </tr>\n",
       "    <tr>\n",
       "      <th>13</th>\n",
       "      <td>crime</td>\n",
       "      <td>0.250000</td>\n",
       "      <td>0.625000</td>\n",
       "      <td>0.375000</td>\n",
       "      <td>crash</td>\n",
       "      <td>m307</td>\n",
       "      <td>8.00</td>\n",
       "    </tr>\n",
       "    <tr>\n",
       "      <th>32</th>\n",
       "      <td>drama</td>\n",
       "      <td>0.166667</td>\n",
       "      <td>0.541667</td>\n",
       "      <td>0.375000</td>\n",
       "      <td>signs</td>\n",
       "      <td>m179</td>\n",
       "      <td>6.90</td>\n",
       "    </tr>\n",
       "    <tr>\n",
       "      <th>180</th>\n",
       "      <td>action</td>\n",
       "      <td>0.166667</td>\n",
       "      <td>0.500000</td>\n",
       "      <td>0.333333</td>\n",
       "      <td>point break</td>\n",
       "      <td>m477</td>\n",
       "      <td>6.90</td>\n",
       "    </tr>\n",
       "  </tbody>\n",
       "</table>\n",
       "</div>"
      ],
      "text/plain": [
       "      genre  degree_f  degree_m      diff movie_title_f movie_id imdb_rating_f\n",
       "159   crime  0.138889  0.888889  0.750000       vertigo     m594          8.60\n",
       "177   drama  0.250000  0.750000  0.500000       solaris     m187          6.20\n",
       "13    crime  0.250000  0.625000  0.375000         crash     m307          8.00\n",
       "32    drama  0.166667  0.541667  0.375000         signs     m179          6.90\n",
       "180  action  0.166667  0.500000  0.333333   point break     m477          6.90"
      ]
     },
     "execution_count": 210,
     "metadata": {},
     "output_type": "execute_result"
    }
   ],
   "source": [
    "bottom_5"
   ]
  },
  {
   "cell_type": "code",
   "execution_count": 279,
   "metadata": {},
   "outputs": [],
   "source": [
    "df_f = df[df['gender'] == 'f']\n",
    "df_m = df[df['gender'] == 'm']\n",
    "\n",
    "df_wide = df_f.merge(df_m, on = ['genre', 'movie_id'], suffixes=('_f', '_m'))\n",
    "\n",
    "df_wide['diff'] = df_wide['betweenness_m'] - df_wide['betweenness_f']\n",
    "\n",
    "cols = ['genre', 'betweenness_f', 'betweenness_m', 'diff', 'movie_title_f', 'movie_id', 'imdb_rating_f', 'year_f']\n",
    "\n",
    "df_wide = df_wide[cols]"
   ]
  },
  {
   "cell_type": "code",
   "execution_count": 280,
   "metadata": {},
   "outputs": [],
   "source": [
    "top_5 = df_wide.sort_values('diff').head()\n",
    "bottom_5 = df_wide.sort_values('diff', ascending = False).head()"
   ]
  },
  {
   "cell_type": "code",
   "execution_count": 281,
   "metadata": {},
   "outputs": [
    {
     "data": {
      "text/html": [
       "<div>\n",
       "<style scoped>\n",
       "    .dataframe tbody tr th:only-of-type {\n",
       "        vertical-align: middle;\n",
       "    }\n",
       "\n",
       "    .dataframe tbody tr th {\n",
       "        vertical-align: top;\n",
       "    }\n",
       "\n",
       "    .dataframe thead th {\n",
       "        text-align: right;\n",
       "    }\n",
       "</style>\n",
       "<table border=\"1\" class=\"dataframe\">\n",
       "  <thead>\n",
       "    <tr style=\"text-align: right;\">\n",
       "      <th></th>\n",
       "      <th>genre</th>\n",
       "      <th>betweenness_f</th>\n",
       "      <th>betweenness_m</th>\n",
       "      <th>diff</th>\n",
       "      <th>movie_title_f</th>\n",
       "      <th>movie_id</th>\n",
       "      <th>imdb_rating_f</th>\n",
       "      <th>year_f</th>\n",
       "    </tr>\n",
       "  </thead>\n",
       "  <tbody>\n",
       "    <tr>\n",
       "      <th>182</th>\n",
       "      <td>drama</td>\n",
       "      <td>0.945055</td>\n",
       "      <td>0.021193</td>\n",
       "      <td>-0.923862</td>\n",
       "      <td>contact</td>\n",
       "      <td>m304</td>\n",
       "      <td>7.40</td>\n",
       "      <td>1997</td>\n",
       "    </tr>\n",
       "    <tr>\n",
       "      <th>135</th>\n",
       "      <td>sci-fi</td>\n",
       "      <td>0.875000</td>\n",
       "      <td>0.004464</td>\n",
       "      <td>-0.870536</td>\n",
       "      <td>arcade</td>\n",
       "      <td>m447</td>\n",
       "      <td>4.60</td>\n",
       "      <td>1993</td>\n",
       "    </tr>\n",
       "    <tr>\n",
       "      <th>145</th>\n",
       "      <td>drama</td>\n",
       "      <td>0.750000</td>\n",
       "      <td>0.025000</td>\n",
       "      <td>-0.725000</td>\n",
       "      <td>white angel</td>\n",
       "      <td>m604</td>\n",
       "      <td>4.40</td>\n",
       "      <td>1994</td>\n",
       "    </tr>\n",
       "    <tr>\n",
       "      <th>98</th>\n",
       "      <td>drama</td>\n",
       "      <td>0.738095</td>\n",
       "      <td>0.043651</td>\n",
       "      <td>-0.694444</td>\n",
       "      <td>mimic</td>\n",
       "      <td>m440</td>\n",
       "      <td>5.70</td>\n",
       "      <td>1997</td>\n",
       "    </tr>\n",
       "    <tr>\n",
       "      <th>54</th>\n",
       "      <td>action</td>\n",
       "      <td>0.833333</td>\n",
       "      <td>0.166667</td>\n",
       "      <td>-0.666667</td>\n",
       "      <td>entrapment</td>\n",
       "      <td>m335</td>\n",
       "      <td>6.10</td>\n",
       "      <td>1999</td>\n",
       "    </tr>\n",
       "  </tbody>\n",
       "</table>\n",
       "</div>"
      ],
      "text/plain": [
       "      genre  betweenness_f  betweenness_m      diff movie_title_f movie_id  \\\n",
       "182   drama       0.945055       0.021193 -0.923862       contact     m304   \n",
       "135  sci-fi       0.875000       0.004464 -0.870536        arcade     m447   \n",
       "145   drama       0.750000       0.025000 -0.725000   white angel     m604   \n",
       "98    drama       0.738095       0.043651 -0.694444         mimic     m440   \n",
       "54   action       0.833333       0.166667 -0.666667    entrapment     m335   \n",
       "\n",
       "    imdb_rating_f year_f  \n",
       "182          7.40   1997  \n",
       "135          4.60   1993  \n",
       "145          4.40   1994  \n",
       "98           5.70   1997  \n",
       "54           6.10   1999  "
      ]
     },
     "execution_count": 281,
     "metadata": {},
     "output_type": "execute_result"
    }
   ],
   "source": [
    "top_5"
   ]
  },
  {
   "cell_type": "code",
   "execution_count": 282,
   "metadata": {},
   "outputs": [
    {
     "data": {
      "text/html": [
       "<div>\n",
       "<style scoped>\n",
       "    .dataframe tbody tr th:only-of-type {\n",
       "        vertical-align: middle;\n",
       "    }\n",
       "\n",
       "    .dataframe tbody tr th {\n",
       "        vertical-align: top;\n",
       "    }\n",
       "\n",
       "    .dataframe thead th {\n",
       "        text-align: right;\n",
       "    }\n",
       "</style>\n",
       "<table border=\"1\" class=\"dataframe\">\n",
       "  <thead>\n",
       "    <tr style=\"text-align: right;\">\n",
       "      <th></th>\n",
       "      <th>genre</th>\n",
       "      <th>betweenness_f</th>\n",
       "      <th>betweenness_m</th>\n",
       "      <th>diff</th>\n",
       "      <th>movie_title_f</th>\n",
       "      <th>movie_id</th>\n",
       "      <th>imdb_rating_f</th>\n",
       "      <th>year_f</th>\n",
       "    </tr>\n",
       "  </thead>\n",
       "  <tbody>\n",
       "    <tr>\n",
       "      <th>159</th>\n",
       "      <td>crime</td>\n",
       "      <td>0.055556</td>\n",
       "      <td>0.972222</td>\n",
       "      <td>0.916667</td>\n",
       "      <td>vertigo</td>\n",
       "      <td>m594</td>\n",
       "      <td>8.60</td>\n",
       "      <td>1958</td>\n",
       "    </tr>\n",
       "    <tr>\n",
       "      <th>13</th>\n",
       "      <td>crime</td>\n",
       "      <td>0.000000</td>\n",
       "      <td>0.500000</td>\n",
       "      <td>0.500000</td>\n",
       "      <td>crash</td>\n",
       "      <td>m307</td>\n",
       "      <td>8.00</td>\n",
       "      <td>2004/I</td>\n",
       "    </tr>\n",
       "    <tr>\n",
       "      <th>36</th>\n",
       "      <td>action</td>\n",
       "      <td>0.000000</td>\n",
       "      <td>0.500000</td>\n",
       "      <td>0.500000</td>\n",
       "      <td>the rock</td>\n",
       "      <td>m206</td>\n",
       "      <td>7.30</td>\n",
       "      <td>1996</td>\n",
       "    </tr>\n",
       "    <tr>\n",
       "      <th>83</th>\n",
       "      <td>action</td>\n",
       "      <td>0.000000</td>\n",
       "      <td>0.500000</td>\n",
       "      <td>0.500000</td>\n",
       "      <td>three kings</td>\n",
       "      <td>m570</td>\n",
       "      <td>7.30</td>\n",
       "      <td>1999</td>\n",
       "    </tr>\n",
       "    <tr>\n",
       "      <th>177</th>\n",
       "      <td>drama</td>\n",
       "      <td>0.000000</td>\n",
       "      <td>0.416667</td>\n",
       "      <td>0.416667</td>\n",
       "      <td>solaris</td>\n",
       "      <td>m187</td>\n",
       "      <td>6.20</td>\n",
       "      <td>2002</td>\n",
       "    </tr>\n",
       "  </tbody>\n",
       "</table>\n",
       "</div>"
      ],
      "text/plain": [
       "      genre  betweenness_f  betweenness_m      diff movie_title_f movie_id  \\\n",
       "159   crime       0.055556       0.972222  0.916667       vertigo     m594   \n",
       "13    crime       0.000000       0.500000  0.500000         crash     m307   \n",
       "36   action       0.000000       0.500000  0.500000      the rock     m206   \n",
       "83   action       0.000000       0.500000  0.500000   three kings     m570   \n",
       "177   drama       0.000000       0.416667  0.416667       solaris     m187   \n",
       "\n",
       "    imdb_rating_f  year_f  \n",
       "159          8.60    1958  \n",
       "13           8.00  2004/I  \n",
       "36           7.30    1996  \n",
       "83           7.30    1999  \n",
       "177          6.20    2002  "
      ]
     },
     "execution_count": 282,
     "metadata": {},
     "output_type": "execute_result"
    }
   ],
   "source": [
    "bottom_5"
   ]
  },
  {
   "cell_type": "markdown",
   "metadata": {},
   "source": [
    "# IMDB ratings"
   ]
  },
  {
   "cell_type": "code",
   "execution_count": 283,
   "metadata": {},
   "outputs": [],
   "source": [
    "best_for_f = df_wide.sort_values('diff')[:20]\n",
    "best_for_m = df_wide.sort_values('diff')[168:]"
   ]
  },
  {
   "cell_type": "code",
   "execution_count": 284,
   "metadata": {},
   "outputs": [],
   "source": [
    "best_for_f['imdb_rating_f'] = pd.to_numeric(best_for_f['imdb_rating_f'])\n",
    "best_for_m['imdb_rating_f'] = pd.to_numeric(best_for_m['imdb_rating_f'])"
   ]
  },
  {
   "cell_type": "code",
   "execution_count": 285,
   "metadata": {},
   "outputs": [
    {
     "data": {
      "text/plain": [
       "6.279999999999999"
      ]
     },
     "execution_count": 285,
     "metadata": {},
     "output_type": "execute_result"
    }
   ],
   "source": [
    "best_for_f['imdb_rating_f'].mean()"
   ]
  },
  {
   "cell_type": "code",
   "execution_count": 286,
   "metadata": {},
   "outputs": [
    {
     "data": {
      "text/plain": [
       "6.92"
      ]
     },
     "execution_count": 286,
     "metadata": {},
     "output_type": "execute_result"
    }
   ],
   "source": [
    "best_for_m['imdb_rating_f'].mean()"
   ]
  },
  {
   "cell_type": "markdown",
   "metadata": {},
   "source": [
    "# By year"
   ]
  },
  {
   "cell_type": "code",
   "execution_count": 300,
   "metadata": {},
   "outputs": [],
   "source": [
    "def clean_year(x):\n",
    "    if len(x) > 4:\n",
    "        x = x[:4]\n",
    "    return x\n",
    "\n",
    "df_wide['year'] = df_wide['year_f'].apply(clean_year)"
   ]
  },
  {
   "cell_type": "code",
   "execution_count": 307,
   "metadata": {},
   "outputs": [
    {
     "data": {
      "text/html": [
       "<div>\n",
       "<style scoped>\n",
       "    .dataframe tbody tr th:only-of-type {\n",
       "        vertical-align: middle;\n",
       "    }\n",
       "\n",
       "    .dataframe tbody tr th {\n",
       "        vertical-align: top;\n",
       "    }\n",
       "\n",
       "    .dataframe thead th {\n",
       "        text-align: right;\n",
       "    }\n",
       "</style>\n",
       "<table border=\"1\" class=\"dataframe\">\n",
       "  <thead>\n",
       "    <tr style=\"text-align: right;\">\n",
       "      <th></th>\n",
       "      <th>genre</th>\n",
       "      <th>betweenness_f</th>\n",
       "      <th>betweenness_m</th>\n",
       "      <th>diff</th>\n",
       "      <th>movie_title_f</th>\n",
       "      <th>movie_id</th>\n",
       "      <th>imdb_rating_f</th>\n",
       "      <th>year_f</th>\n",
       "      <th>year</th>\n",
       "    </tr>\n",
       "  </thead>\n",
       "  <tbody>\n",
       "    <tr>\n",
       "      <th>0</th>\n",
       "      <td>comedy</td>\n",
       "      <td>0.000000</td>\n",
       "      <td>0.243810</td>\n",
       "      <td>0.243810</td>\n",
       "      <td>detroit rock city</td>\n",
       "      <td>m49</td>\n",
       "      <td>6.50</td>\n",
       "      <td>1999</td>\n",
       "      <td>1999-01-01</td>\n",
       "    </tr>\n",
       "    <tr>\n",
       "      <th>1</th>\n",
       "      <td>action</td>\n",
       "      <td>0.000000</td>\n",
       "      <td>0.284444</td>\n",
       "      <td>0.284444</td>\n",
       "      <td>rush hour</td>\n",
       "      <td>m497</td>\n",
       "      <td>6.80</td>\n",
       "      <td>1998</td>\n",
       "      <td>1998-01-01</td>\n",
       "    </tr>\n",
       "    <tr>\n",
       "      <th>2</th>\n",
       "      <td>comedy</td>\n",
       "      <td>0.173611</td>\n",
       "      <td>0.150463</td>\n",
       "      <td>-0.023148</td>\n",
       "      <td>the lost boys</td>\n",
       "      <td>m212</td>\n",
       "      <td>7.00</td>\n",
       "      <td>1987</td>\n",
       "      <td>1987-01-01</td>\n",
       "    </tr>\n",
       "    <tr>\n",
       "      <th>3</th>\n",
       "      <td>action</td>\n",
       "      <td>0.222222</td>\n",
       "      <td>0.296296</td>\n",
       "      <td>0.074074</td>\n",
       "      <td>assassins</td>\n",
       "      <td>m250</td>\n",
       "      <td>6.00</td>\n",
       "      <td>1995</td>\n",
       "      <td>1995-01-01</td>\n",
       "    </tr>\n",
       "    <tr>\n",
       "      <th>4</th>\n",
       "      <td>action</td>\n",
       "      <td>0.030303</td>\n",
       "      <td>0.247475</td>\n",
       "      <td>0.217172</td>\n",
       "      <td>mystery men</td>\n",
       "      <td>m143</td>\n",
       "      <td>5.90</td>\n",
       "      <td>1999</td>\n",
       "      <td>1999-01-01</td>\n",
       "    </tr>\n",
       "  </tbody>\n",
       "</table>\n",
       "</div>"
      ],
      "text/plain": [
       "    genre  betweenness_f  betweenness_m      diff      movie_title_f movie_id  \\\n",
       "0  comedy       0.000000       0.243810  0.243810  detroit rock city      m49   \n",
       "1  action       0.000000       0.284444  0.284444          rush hour     m497   \n",
       "2  comedy       0.173611       0.150463 -0.023148      the lost boys     m212   \n",
       "3  action       0.222222       0.296296  0.074074          assassins     m250   \n",
       "4  action       0.030303       0.247475  0.217172        mystery men     m143   \n",
       "\n",
       "  imdb_rating_f year_f       year  \n",
       "0          6.50   1999 1999-01-01  \n",
       "1          6.80   1998 1998-01-01  \n",
       "2          7.00   1987 1987-01-01  \n",
       "3          6.00   1995 1995-01-01  \n",
       "4          5.90   1999 1999-01-01  "
      ]
     },
     "execution_count": 307,
     "metadata": {},
     "output_type": "execute_result"
    }
   ],
   "source": [
    "df_wide['year'] = df_wide['year'].astype('datetime64[ns]')\n",
    "df_wide.head()"
   ]
  },
  {
   "cell_type": "code",
   "execution_count": 327,
   "metadata": {},
   "outputs": [],
   "source": [
    "def get_decade(x):\n",
    "    return str(x.year)[2]\n",
    "\n",
    "df_wide['decade'] = df_wide['year'].apply(get_decade)"
   ]
  },
  {
   "cell_type": "code",
   "execution_count": 329,
   "metadata": {},
   "outputs": [
    {
     "data": {
      "text/plain": [
       "decade\n",
       "0    0.097202\n",
       "3   -0.038600\n",
       "4   -0.103406\n",
       "5    0.074829\n",
       "6    0.197487\n",
       "7    0.093065\n",
       "8   -0.007137\n",
       "9    0.055590\n",
       "Name: diff, dtype: float64"
      ]
     },
     "execution_count": 329,
     "metadata": {},
     "output_type": "execute_result"
    }
   ],
   "source": [
    "df_wide.groupby('decade')['diff'].mean()"
   ]
  },
  {
   "cell_type": "code",
   "execution_count": null,
   "metadata": {},
   "outputs": [],
   "source": []
  }
 ],
 "metadata": {
  "kernelspec": {
   "display_name": "Python 3",
   "language": "python",
   "name": "python3"
  },
  "language_info": {
   "codemirror_mode": {
    "name": "ipython",
    "version": 3
   },
   "file_extension": ".py",
   "mimetype": "text/x-python",
   "name": "python",
   "nbconvert_exporter": "python",
   "pygments_lexer": "ipython3",
   "version": "3.6.4"
  }
 },
 "nbformat": 4,
 "nbformat_minor": 2
}
