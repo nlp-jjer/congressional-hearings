{
 "cells": [
  {
   "cell_type": "code",
   "execution_count": 148,
   "metadata": {},
   "outputs": [],
   "source": [
    "import pickle\n",
    "import pandas as pd"
   ]
  },
  {
   "cell_type": "markdown",
   "metadata": {},
   "source": [
    "# Load centrality data"
   ]
  },
  {
   "cell_type": "code",
   "execution_count": 149,
   "metadata": {},
   "outputs": [],
   "source": [
    "df = pickle.load(open('../data/centrality.p', 'rb'))"
   ]
  },
  {
   "cell_type": "markdown",
   "metadata": {},
   "source": [
    "# Load movie metadata"
   ]
  },
  {
   "cell_type": "code",
   "execution_count": 150,
   "metadata": {},
   "outputs": [
    {
     "data": {
      "text/html": [
       "<div>\n",
       "<style scoped>\n",
       "    .dataframe tbody tr th:only-of-type {\n",
       "        vertical-align: middle;\n",
       "    }\n",
       "\n",
       "    .dataframe tbody tr th {\n",
       "        vertical-align: top;\n",
       "    }\n",
       "\n",
       "    .dataframe thead th {\n",
       "        text-align: right;\n",
       "    }\n",
       "</style>\n",
       "<table border=\"1\" class=\"dataframe\">\n",
       "  <thead>\n",
       "    <tr style=\"text-align: right;\">\n",
       "      <th></th>\n",
       "      <th>movie_id</th>\n",
       "      <th>movie_title</th>\n",
       "      <th>imdb_rating</th>\n",
       "    </tr>\n",
       "  </thead>\n",
       "  <tbody>\n",
       "    <tr>\n",
       "      <th>0</th>\n",
       "      <td>m0</td>\n",
       "      <td>10 things i hate about you</td>\n",
       "      <td>6.90</td>\n",
       "    </tr>\n",
       "    <tr>\n",
       "      <th>1</th>\n",
       "      <td>m1</td>\n",
       "      <td>1492: conquest of paradise</td>\n",
       "      <td>6.20</td>\n",
       "    </tr>\n",
       "    <tr>\n",
       "      <th>2</th>\n",
       "      <td>m2</td>\n",
       "      <td>15 minutes</td>\n",
       "      <td>6.10</td>\n",
       "    </tr>\n",
       "    <tr>\n",
       "      <th>3</th>\n",
       "      <td>m3</td>\n",
       "      <td>2001: a space odyssey</td>\n",
       "      <td>8.40</td>\n",
       "    </tr>\n",
       "    <tr>\n",
       "      <th>4</th>\n",
       "      <td>m4</td>\n",
       "      <td>48 hrs.</td>\n",
       "      <td>6.90</td>\n",
       "    </tr>\n",
       "  </tbody>\n",
       "</table>\n",
       "</div>"
      ],
      "text/plain": [
       "  movie_id                 movie_title imdb_rating\n",
       "0       m0  10 things i hate about you        6.90\n",
       "1       m1  1492: conquest of paradise        6.20\n",
       "2       m2                  15 minutes        6.10\n",
       "3       m3       2001: a space odyssey        8.40\n",
       "4       m4                     48 hrs.        6.90"
      ]
     },
     "execution_count": 150,
     "metadata": {},
     "output_type": "execute_result"
    }
   ],
   "source": [
    "headers = ['movie_id', 'movie_title', 'movie_year', 'imdb_rating', 'imdb_vote', 'genre']\n",
    "\n",
    "filepath = '../cornell_movie_dialogs_corpus/movie_titles_metadata.txt'\n",
    "\n",
    "lines = []\n",
    "\n",
    "with open(filepath, 'r', encoding = 'iso-8859-1') as f:\n",
    "    for line in f:\n",
    "        cols = line.split(' +++$+++ ')\n",
    "        lines.append(cols)\n",
    "            \n",
    "movies = pd.DataFrame(lines, columns = headers)\n",
    "    \n",
    "movies = movies[['movie_id', 'movie_title', 'imdb_rating']]\n",
    "\n",
    "movies.head()"
   ]
  },
  {
   "cell_type": "markdown",
   "metadata": {},
   "source": [
    "# Limit genres to top 10"
   ]
  },
  {
   "cell_type": "code",
   "execution_count": 151,
   "metadata": {},
   "outputs": [],
   "source": [
    "top_10 = pd.DataFrame(df.groupby('genre').size().sort_values(ascending = False).head(10)).reset_index()"
   ]
  },
  {
   "cell_type": "code",
   "execution_count": 152,
   "metadata": {},
   "outputs": [
    {
     "data": {
      "text/plain": [
       "['action',\n",
       " 'drama',\n",
       " 'comedy',\n",
       " 'crime',\n",
       " 'horror',\n",
       " 'adventure',\n",
       " 'biography',\n",
       " 'fantasy',\n",
       " 'animation',\n",
       " 'thriller']"
      ]
     },
     "execution_count": 152,
     "metadata": {},
     "output_type": "execute_result"
    }
   ],
   "source": [
    "top_10 = list(top_10['genre'])\n",
    "top_10"
   ]
  },
  {
   "cell_type": "code",
   "execution_count": 153,
   "metadata": {},
   "outputs": [],
   "source": [
    "df = df[df['genre'].isin(top_10)]"
   ]
  },
  {
   "cell_type": "markdown",
   "metadata": {},
   "source": [
    "# Join centrality and movie metadata"
   ]
  },
  {
   "cell_type": "code",
   "execution_count": 154,
   "metadata": {},
   "outputs": [
    {
     "data": {
      "text/html": [
       "<div>\n",
       "<style scoped>\n",
       "    .dataframe tbody tr th:only-of-type {\n",
       "        vertical-align: middle;\n",
       "    }\n",
       "\n",
       "    .dataframe tbody tr th {\n",
       "        vertical-align: top;\n",
       "    }\n",
       "\n",
       "    .dataframe thead th {\n",
       "        text-align: right;\n",
       "    }\n",
       "</style>\n",
       "<table border=\"1\" class=\"dataframe\">\n",
       "  <thead>\n",
       "    <tr style=\"text-align: right;\">\n",
       "      <th></th>\n",
       "      <th>gender</th>\n",
       "      <th>degree</th>\n",
       "      <th>closeness</th>\n",
       "      <th>betweenness</th>\n",
       "      <th>eigenvector</th>\n",
       "      <th>overall_avg</th>\n",
       "      <th>movie_id</th>\n",
       "      <th>year</th>\n",
       "      <th>genre</th>\n",
       "      <th>movie_title</th>\n",
       "      <th>imdb_rating</th>\n",
       "    </tr>\n",
       "  </thead>\n",
       "  <tbody>\n",
       "    <tr>\n",
       "      <th>0</th>\n",
       "      <td>f</td>\n",
       "      <td>0.272727</td>\n",
       "      <td>0.504914</td>\n",
       "      <td>0.123273</td>\n",
       "      <td>0.226173</td>\n",
       "      <td>0.281772</td>\n",
       "      <td>m0</td>\n",
       "      <td>1999</td>\n",
       "      <td>comedy</td>\n",
       "      <td>10 things i hate about you</td>\n",
       "      <td>6.90</td>\n",
       "    </tr>\n",
       "    <tr>\n",
       "      <th>1</th>\n",
       "      <td>m</td>\n",
       "      <td>0.318182</td>\n",
       "      <td>0.526121</td>\n",
       "      <td>0.100303</td>\n",
       "      <td>0.291073</td>\n",
       "      <td>0.308920</td>\n",
       "      <td>m0</td>\n",
       "      <td>1999</td>\n",
       "      <td>comedy</td>\n",
       "      <td>10 things i hate about you</td>\n",
       "      <td>6.90</td>\n",
       "    </tr>\n",
       "  </tbody>\n",
       "</table>\n",
       "</div>"
      ],
      "text/plain": [
       "  gender    degree  closeness  betweenness  eigenvector  overall_avg movie_id  \\\n",
       "0      f  0.272727   0.504914     0.123273     0.226173     0.281772       m0   \n",
       "1      m  0.318182   0.526121     0.100303     0.291073     0.308920       m0   \n",
       "\n",
       "   year   genre                 movie_title imdb_rating  \n",
       "0  1999  comedy  10 things i hate about you        6.90  \n",
       "1  1999  comedy  10 things i hate about you        6.90  "
      ]
     },
     "execution_count": 154,
     "metadata": {},
     "output_type": "execute_result"
    }
   ],
   "source": [
    "df = df.merge(movies, on = 'movie_id')\n",
    "\n",
    "df.head(2)"
   ]
  },
  {
   "cell_type": "markdown",
   "metadata": {},
   "source": [
    "# By gender"
   ]
  },
  {
   "cell_type": "code",
   "execution_count": 129,
   "metadata": {},
   "outputs": [
    {
     "data": {
      "text/html": [
       "<div>\n",
       "<style scoped>\n",
       "    .dataframe tbody tr th:only-of-type {\n",
       "        vertical-align: middle;\n",
       "    }\n",
       "\n",
       "    .dataframe tbody tr th {\n",
       "        vertical-align: top;\n",
       "    }\n",
       "\n",
       "    .dataframe thead th {\n",
       "        text-align: right;\n",
       "    }\n",
       "</style>\n",
       "<table border=\"1\" class=\"dataframe\">\n",
       "  <thead>\n",
       "    <tr style=\"text-align: right;\">\n",
       "      <th></th>\n",
       "      <th>degree</th>\n",
       "      <th>closeness</th>\n",
       "      <th>betweenness</th>\n",
       "      <th>eigenvector</th>\n",
       "      <th>overall_avg</th>\n",
       "    </tr>\n",
       "    <tr>\n",
       "      <th>gender</th>\n",
       "      <th></th>\n",
       "      <th></th>\n",
       "      <th></th>\n",
       "      <th></th>\n",
       "      <th></th>\n",
       "    </tr>\n",
       "  </thead>\n",
       "  <tbody>\n",
       "    <tr>\n",
       "      <th>f</th>\n",
       "      <td>0.222084</td>\n",
       "      <td>0.468528</td>\n",
       "      <td>0.098725</td>\n",
       "      <td>0.266861</td>\n",
       "      <td>0.264050</td>\n",
       "    </tr>\n",
       "    <tr>\n",
       "      <th>m</th>\n",
       "      <td>0.272597</td>\n",
       "      <td>0.489536</td>\n",
       "      <td>0.156600</td>\n",
       "      <td>0.291997</td>\n",
       "      <td>0.302683</td>\n",
       "    </tr>\n",
       "  </tbody>\n",
       "</table>\n",
       "</div>"
      ],
      "text/plain": [
       "          degree  closeness  betweenness  eigenvector  overall_avg\n",
       "gender                                                            \n",
       "f       0.222084   0.468528     0.098725     0.266861     0.264050\n",
       "m       0.272597   0.489536     0.156600     0.291997     0.302683"
      ]
     },
     "execution_count": 129,
     "metadata": {},
     "output_type": "execute_result"
    }
   ],
   "source": [
    "df.groupby('gender').mean()"
   ]
  },
  {
   "cell_type": "markdown",
   "metadata": {},
   "source": [
    "# By genre"
   ]
  },
  {
   "cell_type": "code",
   "execution_count": 130,
   "metadata": {},
   "outputs": [],
   "source": [
    "by_genre_f = by_genre[by_genre['gender'] == 'f']\n",
    "by_genre_m = by_genre[by_genre['gender'] == 'm']\n",
    "\n",
    "by_genre_wide = by_genre_f.merge(by_genre_m, on = 'genre', suffixes=('_f', '_m'))\n",
    "\n",
    "by_genre_wide['diff'] = by_genre_wide['overall_avg_m'] - by_genre_wide['overall_avg_f']\n",
    "\n",
    "cols = ['genre', 'overall_avg_f', 'overall_avg_m', 'diff']\n",
    "\n",
    "by_genre_wide = by_genre_wide[cols]"
   ]
  },
  {
   "cell_type": "code",
   "execution_count": 131,
   "metadata": {},
   "outputs": [
    {
     "data": {
      "text/html": [
       "<div>\n",
       "<style scoped>\n",
       "    .dataframe tbody tr th:only-of-type {\n",
       "        vertical-align: middle;\n",
       "    }\n",
       "\n",
       "    .dataframe tbody tr th {\n",
       "        vertical-align: top;\n",
       "    }\n",
       "\n",
       "    .dataframe thead th {\n",
       "        text-align: right;\n",
       "    }\n",
       "</style>\n",
       "<table border=\"1\" class=\"dataframe\">\n",
       "  <thead>\n",
       "    <tr style=\"text-align: right;\">\n",
       "      <th></th>\n",
       "      <th>genre</th>\n",
       "      <th>overall_avg_f</th>\n",
       "      <th>overall_avg_m</th>\n",
       "      <th>diff</th>\n",
       "    </tr>\n",
       "  </thead>\n",
       "  <tbody>\n",
       "    <tr>\n",
       "      <th>7</th>\n",
       "      <td>fantasy</td>\n",
       "      <td>0.367086</td>\n",
       "      <td>0.324687</td>\n",
       "      <td>-0.042399</td>\n",
       "    </tr>\n",
       "    <tr>\n",
       "      <th>8</th>\n",
       "      <td>horror</td>\n",
       "      <td>0.307255</td>\n",
       "      <td>0.270660</td>\n",
       "      <td>-0.036595</td>\n",
       "    </tr>\n",
       "    <tr>\n",
       "      <th>9</th>\n",
       "      <td>thriller</td>\n",
       "      <td>0.262997</td>\n",
       "      <td>0.275967</td>\n",
       "      <td>0.012970</td>\n",
       "    </tr>\n",
       "    <tr>\n",
       "      <th>4</th>\n",
       "      <td>comedy</td>\n",
       "      <td>0.259546</td>\n",
       "      <td>0.275997</td>\n",
       "      <td>0.016451</td>\n",
       "    </tr>\n",
       "    <tr>\n",
       "      <th>6</th>\n",
       "      <td>drama</td>\n",
       "      <td>0.258788</td>\n",
       "      <td>0.301287</td>\n",
       "      <td>0.042499</td>\n",
       "    </tr>\n",
       "    <tr>\n",
       "      <th>2</th>\n",
       "      <td>animation</td>\n",
       "      <td>0.227930</td>\n",
       "      <td>0.280516</td>\n",
       "      <td>0.052586</td>\n",
       "    </tr>\n",
       "    <tr>\n",
       "      <th>5</th>\n",
       "      <td>crime</td>\n",
       "      <td>0.263162</td>\n",
       "      <td>0.320144</td>\n",
       "      <td>0.056983</td>\n",
       "    </tr>\n",
       "    <tr>\n",
       "      <th>1</th>\n",
       "      <td>adventure</td>\n",
       "      <td>0.284263</td>\n",
       "      <td>0.345986</td>\n",
       "      <td>0.061723</td>\n",
       "    </tr>\n",
       "    <tr>\n",
       "      <th>0</th>\n",
       "      <td>action</td>\n",
       "      <td>0.260214</td>\n",
       "      <td>0.322901</td>\n",
       "      <td>0.062687</td>\n",
       "    </tr>\n",
       "    <tr>\n",
       "      <th>3</th>\n",
       "      <td>biography</td>\n",
       "      <td>0.203854</td>\n",
       "      <td>0.276876</td>\n",
       "      <td>0.073022</td>\n",
       "    </tr>\n",
       "  </tbody>\n",
       "</table>\n",
       "</div>"
      ],
      "text/plain": [
       "       genre  overall_avg_f  overall_avg_m      diff\n",
       "7    fantasy       0.367086       0.324687 -0.042399\n",
       "8     horror       0.307255       0.270660 -0.036595\n",
       "9   thriller       0.262997       0.275967  0.012970\n",
       "4     comedy       0.259546       0.275997  0.016451\n",
       "6      drama       0.258788       0.301287  0.042499\n",
       "2  animation       0.227930       0.280516  0.052586\n",
       "5      crime       0.263162       0.320144  0.056983\n",
       "1  adventure       0.284263       0.345986  0.061723\n",
       "0     action       0.260214       0.322901  0.062687\n",
       "3  biography       0.203854       0.276876  0.073022"
      ]
     },
     "execution_count": 131,
     "metadata": {},
     "output_type": "execute_result"
    }
   ],
   "source": [
    "by_genre_wide.sort_values('diff')"
   ]
  },
  {
   "cell_type": "markdown",
   "metadata": {},
   "source": [
    "# By movie"
   ]
  },
  {
   "cell_type": "code",
   "execution_count": 143,
   "metadata": {},
   "outputs": [],
   "source": [
    "df_f = df[df['gender'] == 'f']\n",
    "df_m = df[df['gender'] == 'm']\n",
    "\n",
    "df_wide = df_f.merge(df_m, on = ['genre', 'movie_id'], suffixes=('_f', '_m'))\n",
    "\n",
    "df_wide['diff'] = df_wide['overall_avg_m'] - df_wide['overall_avg_f']\n",
    "\n",
    "cols = ['genre', 'overall_avg_f', 'overall_avg_m', 'diff', 'movie_title_f', 'movie_id', 'imdb_rating_f']\n",
    "\n",
    "df_wide = df_wide[cols]"
   ]
  },
  {
   "cell_type": "code",
   "execution_count": 144,
   "metadata": {},
   "outputs": [],
   "source": [
    "top_5 = df_wide.sort_values('diff').head()\n",
    "bottom_5 = df_wide.sort_values('diff', ascending = False).head()"
   ]
  },
  {
   "cell_type": "code",
   "execution_count": 145,
   "metadata": {},
   "outputs": [
    {
     "data": {
      "text/html": [
       "<div>\n",
       "<style scoped>\n",
       "    .dataframe tbody tr th:only-of-type {\n",
       "        vertical-align: middle;\n",
       "    }\n",
       "\n",
       "    .dataframe tbody tr th {\n",
       "        vertical-align: top;\n",
       "    }\n",
       "\n",
       "    .dataframe thead th {\n",
       "        text-align: right;\n",
       "    }\n",
       "</style>\n",
       "<table border=\"1\" class=\"dataframe\">\n",
       "  <thead>\n",
       "    <tr style=\"text-align: right;\">\n",
       "      <th></th>\n",
       "      <th>genre</th>\n",
       "      <th>overall_avg_f</th>\n",
       "      <th>overall_avg_m</th>\n",
       "      <th>diff</th>\n",
       "      <th>movie_title_f</th>\n",
       "      <th>movie_id</th>\n",
       "      <th>imdb_rating_f</th>\n",
       "    </tr>\n",
       "  </thead>\n",
       "  <tbody>\n",
       "    <tr>\n",
       "      <th>287</th>\n",
       "      <td>drama</td>\n",
       "      <td>0.866915</td>\n",
       "      <td>0.211642</td>\n",
       "      <td>-0.655273</td>\n",
       "      <td>contact</td>\n",
       "      <td>m304</td>\n",
       "      <td>7.40</td>\n",
       "    </tr>\n",
       "    <tr>\n",
       "      <th>534</th>\n",
       "      <td>fantasy</td>\n",
       "      <td>0.926777</td>\n",
       "      <td>0.335395</td>\n",
       "      <td>-0.591381</td>\n",
       "      <td>the magic toyshop</td>\n",
       "      <td>m580</td>\n",
       "      <td>6.20</td>\n",
       "    </tr>\n",
       "    <tr>\n",
       "      <th>470</th>\n",
       "      <td>drama</td>\n",
       "      <td>0.765404</td>\n",
       "      <td>0.312124</td>\n",
       "      <td>-0.453281</td>\n",
       "      <td>seven days to live</td>\n",
       "      <td>m510</td>\n",
       "      <td>5.20</td>\n",
       "    </tr>\n",
       "    <tr>\n",
       "      <th>409</th>\n",
       "      <td>drama</td>\n",
       "      <td>0.755146</td>\n",
       "      <td>0.307316</td>\n",
       "      <td>-0.447829</td>\n",
       "      <td>mimic</td>\n",
       "      <td>m440</td>\n",
       "      <td>5.70</td>\n",
       "    </tr>\n",
       "    <tr>\n",
       "      <th>553</th>\n",
       "      <td>drama</td>\n",
       "      <td>0.838377</td>\n",
       "      <td>0.408664</td>\n",
       "      <td>-0.429713</td>\n",
       "      <td>white angel</td>\n",
       "      <td>m604</td>\n",
       "      <td>4.40</td>\n",
       "    </tr>\n",
       "  </tbody>\n",
       "</table>\n",
       "</div>"
      ],
      "text/plain": [
       "       genre  overall_avg_f  overall_avg_m      diff       movie_title_f  \\\n",
       "287    drama       0.866915       0.211642 -0.655273             contact   \n",
       "534  fantasy       0.926777       0.335395 -0.591381   the magic toyshop   \n",
       "470    drama       0.765404       0.312124 -0.453281  seven days to live   \n",
       "409    drama       0.755146       0.307316 -0.447829               mimic   \n",
       "553    drama       0.838377       0.408664 -0.429713         white angel   \n",
       "\n",
       "    movie_id imdb_rating_f  \n",
       "287     m304          7.40  \n",
       "534     m580          6.20  \n",
       "470     m510          5.20  \n",
       "409     m440          5.70  \n",
       "553     m604          4.40  "
      ]
     },
     "execution_count": 145,
     "metadata": {},
     "output_type": "execute_result"
    }
   ],
   "source": [
    "top_5"
   ]
  },
  {
   "cell_type": "code",
   "execution_count": 146,
   "metadata": {},
   "outputs": [
    {
     "data": {
      "text/html": [
       "<div>\n",
       "<style scoped>\n",
       "    .dataframe tbody tr th:only-of-type {\n",
       "        vertical-align: middle;\n",
       "    }\n",
       "\n",
       "    .dataframe tbody tr th {\n",
       "        vertical-align: top;\n",
       "    }\n",
       "\n",
       "    .dataframe thead th {\n",
       "        text-align: right;\n",
       "    }\n",
       "</style>\n",
       "<table border=\"1\" class=\"dataframe\">\n",
       "  <thead>\n",
       "    <tr style=\"text-align: right;\">\n",
       "      <th></th>\n",
       "      <th>genre</th>\n",
       "      <th>overall_avg_f</th>\n",
       "      <th>overall_avg_m</th>\n",
       "      <th>diff</th>\n",
       "      <th>movie_title_f</th>\n",
       "      <th>movie_id</th>\n",
       "      <th>imdb_rating_f</th>\n",
       "    </tr>\n",
       "  </thead>\n",
       "  <tbody>\n",
       "    <tr>\n",
       "      <th>93</th>\n",
       "      <td>drama</td>\n",
       "      <td>0.293745</td>\n",
       "      <td>0.926777</td>\n",
       "      <td>0.633031</td>\n",
       "      <td>i am legend</td>\n",
       "      <td>m95</td>\n",
       "      <td>7.10</td>\n",
       "    </tr>\n",
       "    <tr>\n",
       "      <th>545</th>\n",
       "      <td>crime</td>\n",
       "      <td>0.241027</td>\n",
       "      <td>0.865346</td>\n",
       "      <td>0.624319</td>\n",
       "      <td>vertigo</td>\n",
       "      <td>m594</td>\n",
       "      <td>8.60</td>\n",
       "    </tr>\n",
       "    <tr>\n",
       "      <th>423</th>\n",
       "      <td>action</td>\n",
       "      <td>0.266602</td>\n",
       "      <td>0.835773</td>\n",
       "      <td>0.569171</td>\n",
       "      <td>neuromancer</td>\n",
       "      <td>m457</td>\n",
       "      <td>9.30</td>\n",
       "    </tr>\n",
       "    <tr>\n",
       "      <th>240</th>\n",
       "      <td>crime</td>\n",
       "      <td>0.339397</td>\n",
       "      <td>0.862568</td>\n",
       "      <td>0.523171</td>\n",
       "      <td>badlands</td>\n",
       "      <td>m254</td>\n",
       "      <td>7.90</td>\n",
       "    </tr>\n",
       "    <tr>\n",
       "      <th>58</th>\n",
       "      <td>drama</td>\n",
       "      <td>0.221916</td>\n",
       "      <td>0.629513</td>\n",
       "      <td>0.407597</td>\n",
       "      <td>fear and loathing in las vegas</td>\n",
       "      <td>m60</td>\n",
       "      <td>7.60</td>\n",
       "    </tr>\n",
       "  </tbody>\n",
       "</table>\n",
       "</div>"
      ],
      "text/plain": [
       "      genre  overall_avg_f  overall_avg_m      diff  \\\n",
       "93    drama       0.293745       0.926777  0.633031   \n",
       "545   crime       0.241027       0.865346  0.624319   \n",
       "423  action       0.266602       0.835773  0.569171   \n",
       "240   crime       0.339397       0.862568  0.523171   \n",
       "58    drama       0.221916       0.629513  0.407597   \n",
       "\n",
       "                      movie_title_f movie_id imdb_rating_f  \n",
       "93                      i am legend      m95          7.10  \n",
       "545                         vertigo     m594          8.60  \n",
       "423                     neuromancer     m457          9.30  \n",
       "240                        badlands     m254          7.90  \n",
       "58   fear and loathing in las vegas      m60          7.60  "
      ]
     },
     "execution_count": 146,
     "metadata": {},
     "output_type": "execute_result"
    }
   ],
   "source": [
    "bottom_5"
   ]
  },
  {
   "cell_type": "code",
   "execution_count": null,
   "metadata": {},
   "outputs": [],
   "source": []
  }
 ],
 "metadata": {
  "kernelspec": {
   "display_name": "Python 3",
   "language": "python",
   "name": "python3"
  },
  "language_info": {
   "codemirror_mode": {
    "name": "ipython",
    "version": 3
   },
   "file_extension": ".py",
   "mimetype": "text/x-python",
   "name": "python",
   "nbconvert_exporter": "python",
   "pygments_lexer": "ipython3",
   "version": "3.6.4"
  }
 },
 "nbformat": 4,
 "nbformat_minor": 2
}
