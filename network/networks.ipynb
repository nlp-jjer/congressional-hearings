{
 "cells": [
  {
   "cell_type": "code",
   "execution_count": 1,
   "metadata": {},
   "outputs": [],
   "source": [
    "import pickle\n",
    "import networkx as nx\n",
    "import pandas as pd\n",
    "from functools import reduce\n",
    "import matplotlib.pyplot as plt\n",
    "from matplotlib.lines import Line2D\n",
    "import numpy as np\n",
    "\n",
    "\n",
    "\n",
    "%matplotlib inline"
   ]
  },
  {
   "cell_type": "markdown",
   "metadata": {},
   "source": [
    "# Setup"
   ]
  },
  {
   "cell_type": "code",
   "execution_count": 2,
   "metadata": {},
   "outputs": [],
   "source": [
    "movies = pickle.load(open('../data/movies.p', 'rb'))"
   ]
  },
  {
   "cell_type": "code",
   "execution_count": 3,
   "metadata": {},
   "outputs": [],
   "source": [
    "movie_0 = movies[movies['movie_id'] == 'm0']"
   ]
  },
  {
   "cell_type": "code",
   "execution_count": 4,
   "metadata": {},
   "outputs": [],
   "source": [
    "# count character interactions and add to df\n",
    "\n",
    "counts = movie_0.groupby(['char_id_from', 'char_id_to']).size().reset_index(name = 'count')\n",
    "\n",
    "movie_0 = movie_0.merge(counts, on = ['char_id_from', 'char_id_to'])"
   ]
  },
  {
   "cell_type": "code",
   "execution_count": 5,
   "metadata": {},
   "outputs": [
    {
     "data": {
      "text/html": [
       "<div>\n",
       "<style scoped>\n",
       "    .dataframe tbody tr th:only-of-type {\n",
       "        vertical-align: middle;\n",
       "    }\n",
       "\n",
       "    .dataframe tbody tr th {\n",
       "        vertical-align: top;\n",
       "    }\n",
       "\n",
       "    .dataframe thead th {\n",
       "        text-align: right;\n",
       "    }\n",
       "</style>\n",
       "<table border=\"1\" class=\"dataframe\">\n",
       "  <thead>\n",
       "    <tr style=\"text-align: right;\">\n",
       "      <th></th>\n",
       "      <th>gender_to</th>\n",
       "      <th>movie_id</th>\n",
       "      <th>gender_from</th>\n",
       "      <th>char_id_from</th>\n",
       "      <th>char_id_to</th>\n",
       "      <th>line_id</th>\n",
       "      <th>words</th>\n",
       "      <th>movie_year</th>\n",
       "      <th>genre</th>\n",
       "      <th>count</th>\n",
       "    </tr>\n",
       "  </thead>\n",
       "  <tbody>\n",
       "    <tr>\n",
       "      <th>0</th>\n",
       "      <td>m</td>\n",
       "      <td>m0</td>\n",
       "      <td>f</td>\n",
       "      <td>u0</td>\n",
       "      <td>u2</td>\n",
       "      <td>L194</td>\n",
       "      <td>we make quick roxanne korrine andrew barrett i...</td>\n",
       "      <td>1999</td>\n",
       "      <td>comedy</td>\n",
       "      <td>69</td>\n",
       "    </tr>\n",
       "    <tr>\n",
       "      <th>1</th>\n",
       "      <td>m</td>\n",
       "      <td>m0</td>\n",
       "      <td>f</td>\n",
       "      <td>u0</td>\n",
       "      <td>u2</td>\n",
       "      <td>L195</td>\n",
       "      <td>well i think we start pronunciation okay you</td>\n",
       "      <td>1999</td>\n",
       "      <td>comedy</td>\n",
       "      <td>69</td>\n",
       "    </tr>\n",
       "    <tr>\n",
       "      <th>2</th>\n",
       "      <td>m</td>\n",
       "      <td>m0</td>\n",
       "      <td>f</td>\n",
       "      <td>u0</td>\n",
       "      <td>u2</td>\n",
       "      <td>L196</td>\n",
       "      <td>hacking gagging spit part please</td>\n",
       "      <td>1999</td>\n",
       "      <td>comedy</td>\n",
       "      <td>69</td>\n",
       "    </tr>\n",
       "  </tbody>\n",
       "</table>\n",
       "</div>"
      ],
      "text/plain": [
       "  gender_to movie_id gender_from char_id_from char_id_to line_id  \\\n",
       "0         m       m0           f           u0         u2    L194   \n",
       "1         m       m0           f           u0         u2    L195   \n",
       "2         m       m0           f           u0         u2    L196   \n",
       "\n",
       "                                               words movie_year   genre  count  \n",
       "0  we make quick roxanne korrine andrew barrett i...       1999  comedy     69  \n",
       "1       well i think we start pronunciation okay you       1999  comedy     69  \n",
       "2                   hacking gagging spit part please       1999  comedy     69  "
      ]
     },
     "execution_count": 5,
     "metadata": {},
     "output_type": "execute_result"
    }
   ],
   "source": [
    "movie_0.head(3)"
   ]
  },
  {
   "cell_type": "markdown",
   "metadata": {},
   "source": [
    "# Network analysis"
   ]
  },
  {
   "cell_type": "markdown",
   "metadata": {},
   "source": [
    "### Create graph"
   ]
  },
  {
   "cell_type": "code",
   "execution_count": 6,
   "metadata": {},
   "outputs": [],
   "source": [
    "g = nx.from_pandas_edgelist(movie_0, source = 'char_id_from', target = 'char_id_to', edge_attr = ['count'])"
   ]
  },
  {
   "cell_type": "code",
   "execution_count": 7,
   "metadata": {},
   "outputs": [
    {
     "data": {
      "text/plain": [
       "EdgeDataView([('u0', 'u2', {'count': 69}), ('u0', 'u3', {'count': 18}), ('u0', 'u4', {'count': 14}), ('u0', 'u5', {'count': 60}), ('u0', 'u11', {'count': 31}), ('u2', 'u7', {'count': 69}), ('u2', 'u9', {'count': 24}), ('u4', 'u5', {'count': 10}), ('u4', 'u7', {'count': 15}), ('u4', 'u9', {'count': 32}), ('u5', 'u6', {'count': 42}), ('u5', 'u8', {'count': 9}), ('u5', 'u9', {'count': 171}), ('u5', 'u11', {'count': 30}), ('u6', 'u7', {'count': 10}), ('u7', 'u9', {'count': 26}), ('u8', 'u9', {'count': 13}), ('u1', 'u9', {'count': 6}), ('u11', 'u10', {'count': 20})])"
      ]
     },
     "execution_count": 7,
     "metadata": {},
     "output_type": "execute_result"
    }
   ],
   "source": [
    "g.edges(data = True)"
   ]
  },
  {
   "cell_type": "markdown",
   "metadata": {},
   "source": [
    "### Create {character: gender} dictionary"
   ]
  },
  {
   "cell_type": "code",
   "execution_count": 8,
   "metadata": {},
   "outputs": [],
   "source": [
    "gender_from = pd.Series(movie_0['gender_from'].values, index = movie_0['char_id_from']).to_dict()\n",
    "gender_to = pd.Series(movie_0['gender_to'].values, index = movie_0['char_id_to']).to_dict()\n",
    "gender_dict = {**gender_from, **gender_to} #combines the two dictionaries"
   ]
  },
  {
   "cell_type": "markdown",
   "metadata": {},
   "source": [
    "### Set gender attribute for the character nodes"
   ]
  },
  {
   "cell_type": "code",
   "execution_count": 9,
   "metadata": {},
   "outputs": [],
   "source": [
    "nx.set_node_attributes(g, name = 'gender', values = gender_dict)"
   ]
  },
  {
   "cell_type": "code",
   "execution_count": 10,
   "metadata": {},
   "outputs": [
    {
     "data": {
      "text/plain": [
       "NodeDataView({'u0': {'gender': 'f'}, 'u2': {'gender': 'm'}, 'u3': {'gender': 'f'}, 'u4': {'gender': 'm'}, 'u5': {'gender': 'f'}, 'u6': {'gender': 'f'}, 'u7': {'gender': 'm'}, 'u8': {'gender': '?'}, 'u1': {'gender': 'm'}, 'u9': {'gender': 'm'}, 'u11': {'gender': 'm'}, 'u10': {'gender': 'f'}})"
      ]
     },
     "execution_count": 10,
     "metadata": {},
     "output_type": "execute_result"
    }
   ],
   "source": [
    "g.nodes(data = True)"
   ]
  },
  {
   "cell_type": "markdown",
   "metadata": {},
   "source": [
    "### Exploration"
   ]
  },
  {
   "cell_type": "code",
   "execution_count": 11,
   "metadata": {},
   "outputs": [
    {
     "data": {
      "text/plain": [
       "5"
      ]
     },
     "execution_count": 11,
     "metadata": {},
     "output_type": "execute_result"
    }
   ],
   "source": [
    "g.degree('u0') #number of connections"
   ]
  },
  {
   "cell_type": "code",
   "execution_count": 12,
   "metadata": {},
   "outputs": [
    {
     "data": {
      "text/plain": [
       "192"
      ]
     },
     "execution_count": 12,
     "metadata": {},
     "output_type": "execute_result"
    }
   ],
   "source": [
    "g.degree('u0', weight = 'count') #number of interactions that u0 has"
   ]
  },
  {
   "cell_type": "code",
   "execution_count": 13,
   "metadata": {},
   "outputs": [
    {
     "data": {
      "text/plain": [
       "['u2', 'u3', 'u4', 'u5', 'u11']"
      ]
     },
     "execution_count": 13,
     "metadata": {},
     "output_type": "execute_result"
    }
   ],
   "source": [
    "list(g.neighbors('u0')) #connections"
   ]
  },
  {
   "cell_type": "code",
   "execution_count": 14,
   "metadata": {},
   "outputs": [
    {
     "data": {
      "image/png": "[encoded data removed]",
      "text/plain": [
       "<matplotlib.figure.Figure at 0x1098cea90>"
      ]
     },
     "metadata": {},
     "output_type": "display_data"
    }
   ],
   "source": [
    "nx.draw_circular(g) #circle shaped graph"
   ]
  },
  {
   "cell_type": "code",
   "execution_count": 15,
   "metadata": {},
   "outputs": [
    {
     "data": {
      "text/plain": [
       "[0, 3, 2, 2, 2, 1, 2]"
      ]
     },
     "execution_count": 15,
     "metadata": {},
     "output_type": "execute_result"
    }
   ],
   "source": [
    "nx.degree_histogram(g) #the degree values are the index in the list"
   ]
  },
  {
   "cell_type": "markdown",
   "metadata": {},
   "source": [
    "# Measuring centrality\n",
    "* Degree centrality: fraction of nodes that each node is connected to\n",
    "* Closeness centrality: average length of the shortest path from one node to each other node\n",
    "* Betweenness centrality: quantifies how often a node acts as a bridge along the shortest path between two other nodes\n",
    "* Eigenvector centrality: a measure of the influence of a node in the network\n",
    "    * Connections to high-scoring nodes contribute more to the score than connections to low-scoring nodes\n",
    "    * PageRank is a variant of eigenvector centrality\n",
    "\n",
    "*Sources:* networkx documentation and https://en.wikipedia.org/wiki/Centrality"
   ]
  },
  {
   "cell_type": "code",
   "execution_count": 16,
   "metadata": {},
   "outputs": [],
   "source": [
    "gender = pd.DataFrame(list(gender_dict.items()), columns = ['char_id', 'gender'])\n",
    "degree = pd.DataFrame(list(nx.degree_centrality(g).items()), columns=['char_id','degree'])\n",
    "closeness = pd.DataFrame(list(nx.closeness_centrality(g).items()), columns=['char_id','closeness'])\n",
    "betweenness = pd.DataFrame(list(nx.betweenness_centrality(g).items()), columns=['char_id','betweenness'])\n",
    "eigenvector = pd.DataFrame(list(nx.eigenvector_centrality(g).items()), columns=['char_id','eigenvector'])"
   ]
  },
  {
   "cell_type": "code",
   "execution_count": 17,
   "metadata": {},
   "outputs": [],
   "source": [
    "dfs = [gender, degree, closeness, betweenness, eigenvector]\n",
    "\n",
    "network = reduce(lambda left, right: pd.merge(left, right, on='char_id'), dfs)"
   ]
  },
  {
   "cell_type": "code",
   "execution_count": 18,
   "metadata": {},
   "outputs": [
    {
     "data": {
      "text/html": [
       "<div>\n",
       "<style scoped>\n",
       "    .dataframe tbody tr th:only-of-type {\n",
       "        vertical-align: middle;\n",
       "    }\n",
       "\n",
       "    .dataframe tbody tr th {\n",
       "        vertical-align: top;\n",
       "    }\n",
       "\n",
       "    .dataframe thead th {\n",
       "        text-align: right;\n",
       "    }\n",
       "</style>\n",
       "<table border=\"1\" class=\"dataframe\">\n",
       "  <thead>\n",
       "    <tr style=\"text-align: right;\">\n",
       "      <th></th>\n",
       "      <th>char_id</th>\n",
       "      <th>gender</th>\n",
       "      <th>degree</th>\n",
       "      <th>closeness</th>\n",
       "      <th>betweenness</th>\n",
       "      <th>eigenvector</th>\n",
       "    </tr>\n",
       "  </thead>\n",
       "  <tbody>\n",
       "    <tr>\n",
       "      <th>0</th>\n",
       "      <td>u0</td>\n",
       "      <td>f</td>\n",
       "      <td>0.454545</td>\n",
       "      <td>0.611111</td>\n",
       "      <td>0.266061</td>\n",
       "      <td>0.351143</td>\n",
       "    </tr>\n",
       "    <tr>\n",
       "      <th>1</th>\n",
       "      <td>u4</td>\n",
       "      <td>m</td>\n",
       "      <td>0.363636</td>\n",
       "      <td>0.578947</td>\n",
       "      <td>0.063030</td>\n",
       "      <td>0.388006</td>\n",
       "    </tr>\n",
       "    <tr>\n",
       "      <th>2</th>\n",
       "      <td>u5</td>\n",
       "      <td>f</td>\n",
       "      <td>0.545455</td>\n",
       "      <td>0.687500</td>\n",
       "      <td>0.336970</td>\n",
       "      <td>0.448150</td>\n",
       "    </tr>\n",
       "    <tr>\n",
       "      <th>3</th>\n",
       "      <td>u2</td>\n",
       "      <td>m</td>\n",
       "      <td>0.272727</td>\n",
       "      <td>0.550000</td>\n",
       "      <td>0.049697</td>\n",
       "      <td>0.276552</td>\n",
       "    </tr>\n",
       "    <tr>\n",
       "      <th>4</th>\n",
       "      <td>u6</td>\n",
       "      <td>f</td>\n",
       "      <td>0.181818</td>\n",
       "      <td>0.478261</td>\n",
       "      <td>0.013333</td>\n",
       "      <td>0.191545</td>\n",
       "    </tr>\n",
       "    <tr>\n",
       "      <th>5</th>\n",
       "      <td>u1</td>\n",
       "      <td>m</td>\n",
       "      <td>0.090909</td>\n",
       "      <td>0.392857</td>\n",
       "      <td>0.000000</td>\n",
       "      <td>0.109133</td>\n",
       "    </tr>\n",
       "    <tr>\n",
       "      <th>6</th>\n",
       "      <td>u7</td>\n",
       "      <td>m</td>\n",
       "      <td>0.363636</td>\n",
       "      <td>0.500000</td>\n",
       "      <td>0.051515</td>\n",
       "      <td>0.322043</td>\n",
       "    </tr>\n",
       "    <tr>\n",
       "      <th>7</th>\n",
       "      <td>u8</td>\n",
       "      <td>?</td>\n",
       "      <td>0.181818</td>\n",
       "      <td>0.500000</td>\n",
       "      <td>0.000000</td>\n",
       "      <td>0.220586</td>\n",
       "    </tr>\n",
       "    <tr>\n",
       "      <th>8</th>\n",
       "      <td>u10</td>\n",
       "      <td>f</td>\n",
       "      <td>0.090909</td>\n",
       "      <td>0.354839</td>\n",
       "      <td>0.000000</td>\n",
       "      <td>0.052697</td>\n",
       "    </tr>\n",
       "    <tr>\n",
       "      <th>9</th>\n",
       "      <td>u3</td>\n",
       "      <td>f</td>\n",
       "      <td>0.090909</td>\n",
       "      <td>0.392857</td>\n",
       "      <td>0.000000</td>\n",
       "      <td>0.087329</td>\n",
       "    </tr>\n",
       "    <tr>\n",
       "      <th>10</th>\n",
       "      <td>u9</td>\n",
       "      <td>m</td>\n",
       "      <td>0.545455</td>\n",
       "      <td>0.611111</td>\n",
       "      <td>0.255758</td>\n",
       "      <td>0.438818</td>\n",
       "    </tr>\n",
       "    <tr>\n",
       "      <th>11</th>\n",
       "      <td>u11</td>\n",
       "      <td>m</td>\n",
       "      <td>0.272727</td>\n",
       "      <td>0.523810</td>\n",
       "      <td>0.181818</td>\n",
       "      <td>0.211888</td>\n",
       "    </tr>\n",
       "  </tbody>\n",
       "</table>\n",
       "</div>"
      ],
      "text/plain": [
       "   char_id gender    degree  closeness  betweenness  eigenvector\n",
       "0       u0      f  0.454545   0.611111     0.266061     0.351143\n",
       "1       u4      m  0.363636   0.578947     0.063030     0.388006\n",
       "2       u5      f  0.545455   0.687500     0.336970     0.448150\n",
       "3       u2      m  0.272727   0.550000     0.049697     0.276552\n",
       "4       u6      f  0.181818   0.478261     0.013333     0.191545\n",
       "5       u1      m  0.090909   0.392857     0.000000     0.109133\n",
       "6       u7      m  0.363636   0.500000     0.051515     0.322043\n",
       "7       u8      ?  0.181818   0.500000     0.000000     0.220586\n",
       "8      u10      f  0.090909   0.354839     0.000000     0.052697\n",
       "9       u3      f  0.090909   0.392857     0.000000     0.087329\n",
       "10      u9      m  0.545455   0.611111     0.255758     0.438818\n",
       "11     u11      m  0.272727   0.523810     0.181818     0.211888"
      ]
     },
     "execution_count": 18,
     "metadata": {},
     "output_type": "execute_result"
    }
   ],
   "source": [
    "network"
   ]
  },
  {
   "cell_type": "markdown",
   "metadata": {},
   "source": [
    "### Analysis by gender"
   ]
  },
  {
   "cell_type": "code",
   "execution_count": 19,
   "metadata": {},
   "outputs": [],
   "source": [
    "operations = {'degree': np.mean, 'closeness': np.mean, 'betweenness': np.mean, 'eigenvector': np.mean}\n",
    "\n",
    "grouped = network.groupby('gender').agg(operations).reset_index()"
   ]
  },
  {
   "cell_type": "code",
   "execution_count": 20,
   "metadata": {},
   "outputs": [
    {
     "data": {
      "text/html": [
       "<div>\n",
       "<style scoped>\n",
       "    .dataframe tbody tr th:only-of-type {\n",
       "        vertical-align: middle;\n",
       "    }\n",
       "\n",
       "    .dataframe tbody tr th {\n",
       "        vertical-align: top;\n",
       "    }\n",
       "\n",
       "    .dataframe thead th {\n",
       "        text-align: right;\n",
       "    }\n",
       "</style>\n",
       "<table border=\"1\" class=\"dataframe\">\n",
       "  <thead>\n",
       "    <tr style=\"text-align: right;\">\n",
       "      <th></th>\n",
       "      <th>gender</th>\n",
       "      <th>degree</th>\n",
       "      <th>closeness</th>\n",
       "      <th>betweenness</th>\n",
       "      <th>eigenvector</th>\n",
       "    </tr>\n",
       "  </thead>\n",
       "  <tbody>\n",
       "    <tr>\n",
       "      <th>1</th>\n",
       "      <td>f</td>\n",
       "      <td>0.272727</td>\n",
       "      <td>0.504914</td>\n",
       "      <td>0.123273</td>\n",
       "      <td>0.226173</td>\n",
       "    </tr>\n",
       "    <tr>\n",
       "      <th>2</th>\n",
       "      <td>m</td>\n",
       "      <td>0.318182</td>\n",
       "      <td>0.526121</td>\n",
       "      <td>0.100303</td>\n",
       "      <td>0.291073</td>\n",
       "    </tr>\n",
       "  </tbody>\n",
       "</table>\n",
       "</div>"
      ],
      "text/plain": [
       "  gender    degree  closeness  betweenness  eigenvector\n",
       "1      f  0.272727   0.504914     0.123273     0.226173\n",
       "2      m  0.318182   0.526121     0.100303     0.291073"
      ]
     },
     "execution_count": 20,
     "metadata": {},
     "output_type": "execute_result"
    }
   ],
   "source": [
    "grouped = grouped[grouped['gender'] != '?']\n",
    "grouped"
   ]
  },
  {
   "cell_type": "markdown",
   "metadata": {},
   "source": [
    "# Drawing the graph"
   ]
  },
  {
   "cell_type": "markdown",
   "metadata": {},
   "source": [
    "### Setup"
   ]
  },
  {
   "cell_type": "code",
   "execution_count": 21,
   "metadata": {},
   "outputs": [
    {
     "data": {
      "text/plain": [
       "<matplotlib.figure.Figure at 0x1512d73be0>"
      ]
     },
     "metadata": {},
     "output_type": "display_data"
    }
   ],
   "source": [
    "plt.figure(figsize = (12, 12))\n",
    "\n",
    "layout = nx.spring_layout(g, iterations = 50)\n",
    "#layout = nx.circular_layout(g)"
   ]
  },
  {
   "cell_type": "markdown",
   "metadata": {},
   "source": [
    "### Node sizes based on number of connections"
   ]
  },
  {
   "cell_type": "code",
   "execution_count": 22,
   "metadata": {},
   "outputs": [],
   "source": [
    "female = [char for char, gender in gender_dict.items() if gender == 'f']\n",
    "male = [char for char, gender in gender_dict.items() if gender == 'm']\n",
    "unknown = [char for char, gender in gender_dict.items() if gender == '?']\n",
    "\n",
    "female_sizes = [g.degree(char) * 50 for char in female]\n",
    "male_sizes = [g.degree(char) * 50 for char in male]\n",
    "unknown_sizes = [g.degree(char) * 50 for char in unknown]"
   ]
  },
  {
   "cell_type": "markdown",
   "metadata": {},
   "source": [
    "### Edge widths based on number of interactions between two nodes"
   ]
  },
  {
   "cell_type": "code",
   "execution_count": 23,
   "metadata": {},
   "outputs": [
    {
     "data": {
      "text/plain": [
       "array([ 69,  18,  14,  60,  31,  69,  24,  10,  15,  32,  42,   9, 171,\n",
       "        30,  10,  26,  13,   6,  20])"
      ]
     },
     "execution_count": 23,
     "metadata": {},
     "output_type": "execute_result"
    }
   ],
   "source": [
    "lst = list(g.edges(data = True))\n",
    "counts = np.array([d['count'] for c1, c2, d in lst])\n",
    "\n",
    "counts\n"
   ]
  },
  {
   "cell_type": "code",
   "execution_count": 24,
   "metadata": {},
   "outputs": [],
   "source": [
    "#normalize the counts\n",
    "minimum = np.min(counts)\n",
    "maximum = np.max(counts)\n",
    "\n",
    "counts = (counts - minimum) / (maximum - minimum) + 0.05 #add a little bit so none are zero\n",
    "\n",
    "counts = counts * 5"
   ]
  },
  {
   "cell_type": "markdown",
   "metadata": {},
   "source": [
    "### Draw"
   ]
  },
  {
   "cell_type": "markdown",
   "metadata": {},
   "source": [
    "#### Get character names to use as labels"
   ]
  },
  {
   "cell_type": "code",
   "execution_count": 66,
   "metadata": {},
   "outputs": [],
   "source": [
    "headers = ['character_id', 'name', 'movie_id', 'movie_title', 'gender', 'position']\n",
    "\n",
    "filepath = '../cornell_movie_dialogs_corpus/movie_characters_metadata.txt'\n",
    "\n",
    "lines = []\n",
    "\n",
    "with open(filepath, 'r', encoding = 'iso-8859-1') as f:\n",
    "    for line in f:\n",
    "        cols = line.split(' +++$+++ ')\n",
    "        lines.append(cols)\n",
    "            \n",
    "characters = pd.DataFrame(lines, columns = headers)\n",
    "    \n",
    "characters = characters[['character_id', 'movie_id', 'name', 'movie_title']]\n",
    "\n",
    "characters = characters[characters['movie_id'] == 'm0']\n",
    "\n",
    "movie_0 = movie_0.merge(characters, on = 'movie_id')"
   ]
  },
  {
   "cell_type": "code",
   "execution_count": 67,
   "metadata": {},
   "outputs": [],
   "source": [
    "f = dict(zip(female, female_sizes))\n",
    "m = dict(zip(male, male_sizes))\n",
    "fm = pd.DataFrame(list({**f, **m}.items()), columns=['character_id','size'])"
   ]
  },
  {
   "cell_type": "code",
   "execution_count": 63,
   "metadata": {},
   "outputs": [],
   "source": [
    "top_3 = list(fm.sort_values('size', ascending = False).head(3)['character_id'])\n",
    "\n",
    "top_3_chars = characters[characters['character_id'].isin(top_3)]"
   ]
  },
  {
   "cell_type": "code",
   "execution_count": 68,
   "metadata": {},
   "outputs": [],
   "source": [
    "fm = fm.merge(top_3_chars, on = 'character_id')\n",
    "fm = pd.Series(fm['name'].values, index = fm['character_id']).to_dict()"
   ]
  },
  {
   "cell_type": "code",
   "execution_count": 69,
   "metadata": {},
   "outputs": [
    {
     "data": {
      "text/plain": [
       "<matplotlib.legend.Legend at 0x1523fc1a58>"
      ]
     },
     "execution_count": 69,
     "metadata": {},
     "output_type": "execute_result"
    },
    {
     "data": {
      "image/png": "[encoded data removed]",
      "text/plain": [
       "<matplotlib.figure.Figure at 0x1517314be0>"
      ]
     },
     "metadata": {},
     "output_type": "display_data"
    }
   ],
   "source": [
    "nx.draw_networkx_nodes(g, layout, nodelist = female, node_color = '#ADA342', node_size = female_sizes)\n",
    "nx.draw_networkx_nodes(g, layout, nodelist = male, node_color = '#40616c', node_size = male_sizes)\n",
    "nx.draw_networkx_nodes(g, layout, nodelist = unknown, node_color = '#f6ca0e', node_size = unknown_sizes)\n",
    "\n",
    "nx.draw_networkx_edges(g, layout, width=counts, edge_color=\"#AEAEAE\")\n",
    "\n",
    "plt.axis('off')\n",
    "\n",
    "node_labels = fm\n",
    "nx.draw_networkx_labels(g, layout, labels=node_labels)\n",
    "\n",
    "legend_elements = [Line2D([0], [0], color = '#ADA342', marker = 'o', label = 'Female', markersize = 8, linestyle = 'None'),\n",
    "                   Line2D([0], [0], color = '#40616c', marker = 'o', label = 'Male', markersize = 8, linestyle = 'None'),\n",
    "                   Line2D([0], [0], color = '#f6ca0e', marker = 'o', label = 'Unknown', markersize = 8, linestyle = 'None')]\n",
    "\n",
    "plt.legend(handles = legend_elements, loc = 'best', frameon = False, handletextpad = 0)"
   ]
  },
  {
   "cell_type": "code",
   "execution_count": null,
   "metadata": {},
   "outputs": [],
   "source": []
  }
 ],
 "metadata": {
  "kernelspec": {
   "display_name": "Python 3",
   "language": "python",
   "name": "python3"
  },
  "language_info": {
   "codemirror_mode": {
    "name": "ipython",
    "version": 3
   },
   "file_extension": ".py",
   "mimetype": "text/x-python",
   "name": "python",
   "nbconvert_exporter": "python",
   "pygments_lexer": "ipython3",
   "version": "3.6.4"
  }
 },
 "nbformat": 4,
 "nbformat_minor": 2
}
