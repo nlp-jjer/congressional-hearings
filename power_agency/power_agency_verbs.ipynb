{
 "cells": [
  {
   "cell_type": "code",
   "execution_count": 77,
   "metadata": {},
   "outputs": [],
   "source": [
    "import pandas as pd\n",
    "import numpy as np\n",
    "import pickle\n",
    "import nltk\n",
    "\n",
    "%matplotlib inline"
   ]
  },
  {
   "cell_type": "code",
   "execution_count": 2,
   "metadata": {},
   "outputs": [],
   "source": [
    "verbs = pd.read_csv('../data/agency_power.csv')"
   ]
  },
  {
   "cell_type": "code",
   "execution_count": 3,
   "metadata": {},
   "outputs": [
    {
     "data": {
      "text/html": [
       "<div>\n",
       "<style scoped>\n",
       "    .dataframe tbody tr th:only-of-type {\n",
       "        vertical-align: middle;\n",
       "    }\n",
       "\n",
       "    .dataframe tbody tr th {\n",
       "        vertical-align: top;\n",
       "    }\n",
       "\n",
       "    .dataframe thead th {\n",
       "        text-align: right;\n",
       "    }\n",
       "</style>\n",
       "<table border=\"1\" class=\"dataframe\">\n",
       "  <thead>\n",
       "    <tr style=\"text-align: right;\">\n",
       "      <th></th>\n",
       "      <th>verb</th>\n",
       "      <th>agency</th>\n",
       "      <th>power</th>\n",
       "    </tr>\n",
       "  </thead>\n",
       "  <tbody>\n",
       "    <tr>\n",
       "      <th>0</th>\n",
       "      <td>abandons</td>\n",
       "      <td>agency_pos</td>\n",
       "      <td>power_agent</td>\n",
       "    </tr>\n",
       "    <tr>\n",
       "      <th>1</th>\n",
       "      <td>abolishes</td>\n",
       "      <td>agency_pos</td>\n",
       "      <td>power_agent</td>\n",
       "    </tr>\n",
       "    <tr>\n",
       "      <th>2</th>\n",
       "      <td>absorbs</td>\n",
       "      <td>agency_pos</td>\n",
       "      <td>power_agent</td>\n",
       "    </tr>\n",
       "    <tr>\n",
       "      <th>3</th>\n",
       "      <td>abuses</td>\n",
       "      <td>agency_pos</td>\n",
       "      <td>power_agent</td>\n",
       "    </tr>\n",
       "    <tr>\n",
       "      <th>4</th>\n",
       "      <td>accelerates</td>\n",
       "      <td>agency_pos</td>\n",
       "      <td>power_agent</td>\n",
       "    </tr>\n",
       "  </tbody>\n",
       "</table>\n",
       "</div>"
      ],
      "text/plain": [
       "          verb      agency        power\n",
       "0     abandons  agency_pos  power_agent\n",
       "1    abolishes  agency_pos  power_agent\n",
       "2      absorbs  agency_pos  power_agent\n",
       "3       abuses  agency_pos  power_agent\n",
       "4  accelerates  agency_pos  power_agent"
      ]
     },
     "execution_count": 3,
     "metadata": {},
     "output_type": "execute_result"
    }
   ],
   "source": [
    "verbs.head()"
   ]
  },
  {
   "cell_type": "code",
   "execution_count": 4,
   "metadata": {},
   "outputs": [
    {
     "data": {
      "text/html": [
       "<div>\n",
       "<style scoped>\n",
       "    .dataframe tbody tr th:only-of-type {\n",
       "        vertical-align: middle;\n",
       "    }\n",
       "\n",
       "    .dataframe tbody tr th {\n",
       "        vertical-align: top;\n",
       "    }\n",
       "\n",
       "    .dataframe thead th {\n",
       "        text-align: right;\n",
       "    }\n",
       "</style>\n",
       "<table border=\"1\" class=\"dataframe\">\n",
       "  <thead>\n",
       "    <tr style=\"text-align: right;\">\n",
       "      <th></th>\n",
       "      <th>verb</th>\n",
       "      <th>power</th>\n",
       "    </tr>\n",
       "    <tr>\n",
       "      <th>agency</th>\n",
       "      <th></th>\n",
       "      <th></th>\n",
       "    </tr>\n",
       "  </thead>\n",
       "  <tbody>\n",
       "    <tr>\n",
       "      <th>agency_equal</th>\n",
       "      <td>242</td>\n",
       "      <td>156</td>\n",
       "    </tr>\n",
       "    <tr>\n",
       "      <th>agency_neg</th>\n",
       "      <td>228</td>\n",
       "      <td>117</td>\n",
       "    </tr>\n",
       "    <tr>\n",
       "      <th>agency_pos</th>\n",
       "      <td>1676</td>\n",
       "      <td>1455</td>\n",
       "    </tr>\n",
       "  </tbody>\n",
       "</table>\n",
       "</div>"
      ],
      "text/plain": [
       "              verb  power\n",
       "agency                   \n",
       "agency_equal   242    156\n",
       "agency_neg     228    117\n",
       "agency_pos    1676   1455"
      ]
     },
     "execution_count": 4,
     "metadata": {},
     "output_type": "execute_result"
    }
   ],
   "source": [
    "verbs.groupby('agency').count()"
   ]
  },
  {
   "cell_type": "code",
   "execution_count": 5,
   "metadata": {},
   "outputs": [
    {
     "data": {
      "text/html": [
       "<div>\n",
       "<style scoped>\n",
       "    .dataframe tbody tr th:only-of-type {\n",
       "        vertical-align: middle;\n",
       "    }\n",
       "\n",
       "    .dataframe tbody tr th {\n",
       "        vertical-align: top;\n",
       "    }\n",
       "\n",
       "    .dataframe thead th {\n",
       "        text-align: right;\n",
       "    }\n",
       "</style>\n",
       "<table border=\"1\" class=\"dataframe\">\n",
       "  <thead>\n",
       "    <tr style=\"text-align: right;\">\n",
       "      <th></th>\n",
       "      <th>verb</th>\n",
       "      <th>agency</th>\n",
       "    </tr>\n",
       "    <tr>\n",
       "      <th>power</th>\n",
       "      <th></th>\n",
       "      <th></th>\n",
       "    </tr>\n",
       "  </thead>\n",
       "  <tbody>\n",
       "    <tr>\n",
       "      <th>power_agent</th>\n",
       "      <td>1222</td>\n",
       "      <td>1216</td>\n",
       "    </tr>\n",
       "    <tr>\n",
       "      <th>power_equal</th>\n",
       "      <td>309</td>\n",
       "      <td>308</td>\n",
       "    </tr>\n",
       "    <tr>\n",
       "      <th>power_theme</th>\n",
       "      <td>206</td>\n",
       "      <td>204</td>\n",
       "    </tr>\n",
       "  </tbody>\n",
       "</table>\n",
       "</div>"
      ],
      "text/plain": [
       "             verb  agency\n",
       "power                    \n",
       "power_agent  1222    1216\n",
       "power_equal   309     308\n",
       "power_theme   206     204"
      ]
     },
     "execution_count": 5,
     "metadata": {},
     "output_type": "execute_result"
    }
   ],
   "source": [
    "verbs.groupby('power').count()"
   ]
  },
  {
   "cell_type": "markdown",
   "metadata": {},
   "source": [
    "# Lemmatize the verbs"
   ]
  },
  {
   "cell_type": "code",
   "execution_count": 6,
   "metadata": {},
   "outputs": [],
   "source": [
    "from nltk.stem import WordNetLemmatizer\n",
    "\n",
    "lemmatizer = WordNetLemmatizer()\n",
    "\n",
    "verbs['verb'] = verbs['verb'].apply(lambda x: lemmatizer.lemmatize(x))"
   ]
  },
  {
   "cell_type": "code",
   "execution_count": 7,
   "metadata": {},
   "outputs": [
    {
     "data": {
      "text/html": [
       "<div>\n",
       "<style scoped>\n",
       "    .dataframe tbody tr th:only-of-type {\n",
       "        vertical-align: middle;\n",
       "    }\n",
       "\n",
       "    .dataframe tbody tr th {\n",
       "        vertical-align: top;\n",
       "    }\n",
       "\n",
       "    .dataframe thead th {\n",
       "        text-align: right;\n",
       "    }\n",
       "</style>\n",
       "<table border=\"1\" class=\"dataframe\">\n",
       "  <thead>\n",
       "    <tr style=\"text-align: right;\">\n",
       "      <th></th>\n",
       "      <th>verb</th>\n",
       "      <th>agency</th>\n",
       "      <th>power</th>\n",
       "    </tr>\n",
       "  </thead>\n",
       "  <tbody>\n",
       "    <tr>\n",
       "      <th>0</th>\n",
       "      <td>abandon</td>\n",
       "      <td>agency_pos</td>\n",
       "      <td>power_agent</td>\n",
       "    </tr>\n",
       "    <tr>\n",
       "      <th>1</th>\n",
       "      <td>abolishes</td>\n",
       "      <td>agency_pos</td>\n",
       "      <td>power_agent</td>\n",
       "    </tr>\n",
       "    <tr>\n",
       "      <th>2</th>\n",
       "      <td>absorbs</td>\n",
       "      <td>agency_pos</td>\n",
       "      <td>power_agent</td>\n",
       "    </tr>\n",
       "    <tr>\n",
       "      <th>3</th>\n",
       "      <td>abuse</td>\n",
       "      <td>agency_pos</td>\n",
       "      <td>power_agent</td>\n",
       "    </tr>\n",
       "    <tr>\n",
       "      <th>4</th>\n",
       "      <td>accelerates</td>\n",
       "      <td>agency_pos</td>\n",
       "      <td>power_agent</td>\n",
       "    </tr>\n",
       "  </tbody>\n",
       "</table>\n",
       "</div>"
      ],
      "text/plain": [
       "          verb      agency        power\n",
       "0      abandon  agency_pos  power_agent\n",
       "1    abolishes  agency_pos  power_agent\n",
       "2      absorbs  agency_pos  power_agent\n",
       "3        abuse  agency_pos  power_agent\n",
       "4  accelerates  agency_pos  power_agent"
      ]
     },
     "execution_count": 7,
     "metadata": {},
     "output_type": "execute_result"
    }
   ],
   "source": [
    "verbs.head()"
   ]
  },
  {
   "cell_type": "markdown",
   "metadata": {},
   "source": [
    "# Part of Speech Tagging"
   ]
  },
  {
   "cell_type": "code",
   "execution_count": 8,
   "metadata": {},
   "outputs": [],
   "source": [
    "movies = pickle.load(open(\"../data/movies.p\", 'rb'))"
   ]
  },
  {
   "cell_type": "code",
   "execution_count": 9,
   "metadata": {},
   "outputs": [],
   "source": [
    "def get_verbs(x):\n",
    "\n",
    "    verb_tags = ['VB', 'VBG', 'VBN', 'VBP', 'VBZ']\n",
    "    text = nltk.word_tokenize(x)\n",
    "    tags = nltk.pos_tag(text)\n",
    "    \n",
    "    verbs = [word for (word, tag) in tags if tag in verb_tags]\n",
    "    \n",
    "    return verbs\n",
    "\n",
    "movies['verbs'] = movies['words'].apply(get_verbs)\n",
    "\n",
    "movies['verb_count'] = movies['verbs'].apply(lambda x: len(x))"
   ]
  },
  {
   "cell_type": "code",
   "execution_count": 10,
   "metadata": {},
   "outputs": [
    {
     "data": {
      "text/html": [
       "<div>\n",
       "<style scoped>\n",
       "    .dataframe tbody tr th:only-of-type {\n",
       "        vertical-align: middle;\n",
       "    }\n",
       "\n",
       "    .dataframe tbody tr th {\n",
       "        vertical-align: top;\n",
       "    }\n",
       "\n",
       "    .dataframe thead th {\n",
       "        text-align: right;\n",
       "    }\n",
       "</style>\n",
       "<table border=\"1\" class=\"dataframe\">\n",
       "  <thead>\n",
       "    <tr style=\"text-align: right;\">\n",
       "      <th></th>\n",
       "      <th>gender_to</th>\n",
       "      <th>movie_id</th>\n",
       "      <th>gender_from</th>\n",
       "      <th>char_id_from</th>\n",
       "      <th>char_id_to</th>\n",
       "      <th>line_id</th>\n",
       "      <th>words</th>\n",
       "      <th>movie_year</th>\n",
       "      <th>genre</th>\n",
       "      <th>verbs</th>\n",
       "      <th>verb_count</th>\n",
       "    </tr>\n",
       "  </thead>\n",
       "  <tbody>\n",
       "    <tr>\n",
       "      <th>0</th>\n",
       "      <td>m</td>\n",
       "      <td>m0</td>\n",
       "      <td>f</td>\n",
       "      <td>u0</td>\n",
       "      <td>u2</td>\n",
       "      <td>L194</td>\n",
       "      <td>we make quick roxanne korrine andrew barrett i...</td>\n",
       "      <td>1999</td>\n",
       "      <td>comedy</td>\n",
       "      <td>[make]</td>\n",
       "      <td>1</td>\n",
       "    </tr>\n",
       "    <tr>\n",
       "      <th>1</th>\n",
       "      <td>m</td>\n",
       "      <td>m0</td>\n",
       "      <td>f</td>\n",
       "      <td>u0</td>\n",
       "      <td>u2</td>\n",
       "      <td>L195</td>\n",
       "      <td>well i think we start pronunciation okay you</td>\n",
       "      <td>1999</td>\n",
       "      <td>comedy</td>\n",
       "      <td>[think, start]</td>\n",
       "      <td>2</td>\n",
       "    </tr>\n",
       "    <tr>\n",
       "      <th>2</th>\n",
       "      <td>m</td>\n",
       "      <td>m0</td>\n",
       "      <td>f</td>\n",
       "      <td>u0</td>\n",
       "      <td>u2</td>\n",
       "      <td>L196</td>\n",
       "      <td>hacking gagging spit part please</td>\n",
       "      <td>1999</td>\n",
       "      <td>comedy</td>\n",
       "      <td>[hacking, gagging]</td>\n",
       "      <td>2</td>\n",
       "    </tr>\n",
       "    <tr>\n",
       "      <th>3</th>\n",
       "      <td>m</td>\n",
       "      <td>m0</td>\n",
       "      <td>f</td>\n",
       "      <td>u0</td>\n",
       "      <td>u2</td>\n",
       "      <td>L197</td>\n",
       "      <td>okay bout we try french cuisine saturday night</td>\n",
       "      <td>1999</td>\n",
       "      <td>comedy</td>\n",
       "      <td>[try]</td>\n",
       "      <td>1</td>\n",
       "    </tr>\n",
       "    <tr>\n",
       "      <th>4</th>\n",
       "      <td>m</td>\n",
       "      <td>m0</td>\n",
       "      <td>f</td>\n",
       "      <td>u0</td>\n",
       "      <td>u2</td>\n",
       "      <td>L198</td>\n",
       "      <td>you ask me cute your name</td>\n",
       "      <td>1999</td>\n",
       "      <td>comedy</td>\n",
       "      <td>[ask, cute]</td>\n",
       "      <td>2</td>\n",
       "    </tr>\n",
       "  </tbody>\n",
       "</table>\n",
       "</div>"
      ],
      "text/plain": [
       "  gender_to movie_id gender_from char_id_from char_id_to line_id  \\\n",
       "0         m       m0           f           u0         u2    L194   \n",
       "1         m       m0           f           u0         u2    L195   \n",
       "2         m       m0           f           u0         u2    L196   \n",
       "3         m       m0           f           u0         u2    L197   \n",
       "4         m       m0           f           u0         u2    L198   \n",
       "\n",
       "                                               words movie_year   genre  \\\n",
       "0  we make quick roxanne korrine andrew barrett i...       1999  comedy   \n",
       "1       well i think we start pronunciation okay you       1999  comedy   \n",
       "2                   hacking gagging spit part please       1999  comedy   \n",
       "3     okay bout we try french cuisine saturday night       1999  comedy   \n",
       "4                          you ask me cute your name       1999  comedy   \n",
       "\n",
       "                verbs  verb_count  \n",
       "0              [make]           1  \n",
       "1      [think, start]           2  \n",
       "2  [hacking, gagging]           2  \n",
       "3               [try]           1  \n",
       "4         [ask, cute]           2  "
      ]
     },
     "execution_count": 10,
     "metadata": {},
     "output_type": "execute_result"
    }
   ],
   "source": [
    "movies.head()"
   ]
  },
  {
   "cell_type": "code",
   "execution_count": 22,
   "metadata": {},
   "outputs": [],
   "source": [
    "#source: https://gist.github.com/jlln/338b4b0b55bd6984f883\n",
    "\n",
    "def split_data_frame_list(df, \n",
    "                       target_column,\n",
    "                       output_type=float):\n",
    "    ''' \n",
    "    Accepts a column with multiple types and splits list variables to several rows.\n",
    "\n",
    "    df: dataframe to split\n",
    "    target_column: the column containing the values to split\n",
    "    output_type: type of all outputs\n",
    "    returns: a dataframe with each entry for the target column separated, with each element moved into a new row. \n",
    "    The values in the other columns are duplicated across the newly divided rows.\n",
    "    '''\n",
    "    row_accumulator = []\n",
    "\n",
    "    def split_list_to_rows(row):\n",
    "        split_row = row[target_column]\n",
    "        if isinstance(split_row, list):\n",
    "          for s in split_row:\n",
    "              new_row = row.to_dict()\n",
    "              new_row[target_column] = output_type(s)\n",
    "              row_accumulator.append(new_row)\n",
    "        else:\n",
    "          new_row = row.to_dict()\n",
    "          new_row[target_column] = output_type(split_row)\n",
    "          row_accumulator.append(new_row)\n",
    "  \n",
    "    df.apply(split_list_to_rows, axis=1)\n",
    "    new_df = pd.DataFrame(row_accumulator)\n",
    "  \n",
    "    return new_df"
   ]
  },
  {
   "cell_type": "code",
   "execution_count": 23,
   "metadata": {},
   "outputs": [
    {
     "data": {
      "text/html": [
       "<div>\n",
       "<style scoped>\n",
       "    .dataframe tbody tr th:only-of-type {\n",
       "        vertical-align: middle;\n",
       "    }\n",
       "\n",
       "    .dataframe tbody tr th {\n",
       "        vertical-align: top;\n",
       "    }\n",
       "\n",
       "    .dataframe thead th {\n",
       "        text-align: right;\n",
       "    }\n",
       "</style>\n",
       "<table border=\"1\" class=\"dataframe\">\n",
       "  <thead>\n",
       "    <tr style=\"text-align: right;\">\n",
       "      <th></th>\n",
       "      <th>char_id_from</th>\n",
       "      <th>char_id_to</th>\n",
       "      <th>gender_from</th>\n",
       "      <th>gender_to</th>\n",
       "      <th>genre</th>\n",
       "      <th>line_id</th>\n",
       "      <th>movie_id</th>\n",
       "      <th>movie_year</th>\n",
       "      <th>verb_count</th>\n",
       "      <th>verbs</th>\n",
       "      <th>words</th>\n",
       "    </tr>\n",
       "  </thead>\n",
       "  <tbody>\n",
       "    <tr>\n",
       "      <th>0</th>\n",
       "      <td>u0</td>\n",
       "      <td>u2</td>\n",
       "      <td>f</td>\n",
       "      <td>m</td>\n",
       "      <td>comedy</td>\n",
       "      <td>L194</td>\n",
       "      <td>m0</td>\n",
       "      <td>1999</td>\n",
       "      <td>1</td>\n",
       "      <td>make</td>\n",
       "      <td>we make quick roxanne korrine andrew barrett i...</td>\n",
       "    </tr>\n",
       "    <tr>\n",
       "      <th>1</th>\n",
       "      <td>u0</td>\n",
       "      <td>u2</td>\n",
       "      <td>f</td>\n",
       "      <td>m</td>\n",
       "      <td>comedy</td>\n",
       "      <td>L195</td>\n",
       "      <td>m0</td>\n",
       "      <td>1999</td>\n",
       "      <td>2</td>\n",
       "      <td>think</td>\n",
       "      <td>well i think we start pronunciation okay you</td>\n",
       "    </tr>\n",
       "  </tbody>\n",
       "</table>\n",
       "</div>"
      ],
      "text/plain": [
       "  char_id_from char_id_to gender_from gender_to   genre line_id movie_id  \\\n",
       "0           u0         u2           f         m  comedy    L194       m0   \n",
       "1           u0         u2           f         m  comedy    L195       m0   \n",
       "\n",
       "  movie_year  verb_count  verbs  \\\n",
       "0       1999           1   make   \n",
       "1       1999           2  think   \n",
       "\n",
       "                                               words  \n",
       "0  we make quick roxanne korrine andrew barrett i...  \n",
       "1       well i think we start pronunciation okay you  "
      ]
     },
     "execution_count": 23,
     "metadata": {},
     "output_type": "execute_result"
    }
   ],
   "source": [
    "movies_long = split_data_frame_list(movies, 'verbs', output_type = str)\n",
    "movies_long.head(2)"
   ]
  },
  {
   "cell_type": "code",
   "execution_count": 24,
   "metadata": {},
   "outputs": [],
   "source": [
    "movies_verbs = movies_long.merge(verbs, left_on = 'verbs', right_on = 'verb')"
   ]
  },
  {
   "cell_type": "code",
   "execution_count": 25,
   "metadata": {},
   "outputs": [
    {
     "data": {
      "text/html": [
       "<div>\n",
       "<style scoped>\n",
       "    .dataframe tbody tr th:only-of-type {\n",
       "        vertical-align: middle;\n",
       "    }\n",
       "\n",
       "    .dataframe tbody tr th {\n",
       "        vertical-align: top;\n",
       "    }\n",
       "\n",
       "    .dataframe thead th {\n",
       "        text-align: right;\n",
       "    }\n",
       "</style>\n",
       "<table border=\"1\" class=\"dataframe\">\n",
       "  <thead>\n",
       "    <tr style=\"text-align: right;\">\n",
       "      <th></th>\n",
       "      <th>char_id_from</th>\n",
       "      <th>char_id_to</th>\n",
       "      <th>gender_from</th>\n",
       "      <th>gender_to</th>\n",
       "      <th>genre</th>\n",
       "      <th>line_id</th>\n",
       "      <th>movie_id</th>\n",
       "      <th>movie_year</th>\n",
       "      <th>verb_count</th>\n",
       "      <th>verbs</th>\n",
       "      <th>words</th>\n",
       "      <th>verb</th>\n",
       "      <th>agency</th>\n",
       "      <th>power</th>\n",
       "    </tr>\n",
       "  </thead>\n",
       "  <tbody>\n",
       "    <tr>\n",
       "      <th>0</th>\n",
       "      <td>u0</td>\n",
       "      <td>u2</td>\n",
       "      <td>f</td>\n",
       "      <td>m</td>\n",
       "      <td>comedy</td>\n",
       "      <td>L194</td>\n",
       "      <td>m0</td>\n",
       "      <td>1999</td>\n",
       "      <td>1</td>\n",
       "      <td>make</td>\n",
       "      <td>we make quick roxanne korrine andrew barrett i...</td>\n",
       "      <td>make</td>\n",
       "      <td>agency_pos</td>\n",
       "      <td>power_agent</td>\n",
       "    </tr>\n",
       "    <tr>\n",
       "      <th>1</th>\n",
       "      <td>u0</td>\n",
       "      <td>u5</td>\n",
       "      <td>f</td>\n",
       "      <td>f</td>\n",
       "      <td>comedy</td>\n",
       "      <td>L907</td>\n",
       "      <td>m0</td>\n",
       "      <td>1999</td>\n",
       "      <td>2</td>\n",
       "      <td>make</td>\n",
       "      <td>i want let you make your mind him</td>\n",
       "      <td>make</td>\n",
       "      <td>agency_pos</td>\n",
       "      <td>power_agent</td>\n",
       "    </tr>\n",
       "  </tbody>\n",
       "</table>\n",
       "</div>"
      ],
      "text/plain": [
       "  char_id_from char_id_to gender_from gender_to   genre line_id movie_id  \\\n",
       "0           u0         u2           f         m  comedy    L194       m0   \n",
       "1           u0         u5           f         f  comedy    L907       m0   \n",
       "\n",
       "  movie_year  verb_count verbs  \\\n",
       "0       1999           1  make   \n",
       "1       1999           2  make   \n",
       "\n",
       "                                               words  verb      agency  \\\n",
       "0  we make quick roxanne korrine andrew barrett i...  make  agency_pos   \n",
       "1                  i want let you make your mind him  make  agency_pos   \n",
       "\n",
       "         power  \n",
       "0  power_agent  \n",
       "1  power_agent  "
      ]
     },
     "execution_count": 25,
     "metadata": {},
     "output_type": "execute_result"
    }
   ],
   "source": [
    "movies_verbs.head(2)"
   ]
  },
  {
   "cell_type": "code",
   "execution_count": 26,
   "metadata": {},
   "outputs": [],
   "source": [
    "agency_dummies = pd.get_dummies(movies_verbs['agency'])\n",
    "power_dummies = pd.get_dummies(movies_verbs['power'])"
   ]
  },
  {
   "cell_type": "code",
   "execution_count": 27,
   "metadata": {},
   "outputs": [],
   "source": [
    "movies_verbs = pd.concat([movies_verbs, agency_dummies], axis = 1)\n",
    "movies_verbs = pd.concat([movies_verbs, power_dummies], axis = 1)"
   ]
  },
  {
   "cell_type": "code",
   "execution_count": 28,
   "metadata": {},
   "outputs": [
    {
     "data": {
      "text/html": [
       "<div>\n",
       "<style scoped>\n",
       "    .dataframe tbody tr th:only-of-type {\n",
       "        vertical-align: middle;\n",
       "    }\n",
       "\n",
       "    .dataframe tbody tr th {\n",
       "        vertical-align: top;\n",
       "    }\n",
       "\n",
       "    .dataframe thead th {\n",
       "        text-align: right;\n",
       "    }\n",
       "</style>\n",
       "<table border=\"1\" class=\"dataframe\">\n",
       "  <thead>\n",
       "    <tr style=\"text-align: right;\">\n",
       "      <th></th>\n",
       "      <th>char_id_from</th>\n",
       "      <th>char_id_to</th>\n",
       "      <th>gender_from</th>\n",
       "      <th>gender_to</th>\n",
       "      <th>genre</th>\n",
       "      <th>line_id</th>\n",
       "      <th>movie_id</th>\n",
       "      <th>movie_year</th>\n",
       "      <th>verb_count</th>\n",
       "      <th>verbs</th>\n",
       "      <th>words</th>\n",
       "      <th>verb</th>\n",
       "      <th>agency</th>\n",
       "      <th>power</th>\n",
       "      <th>agency_equal</th>\n",
       "      <th>agency_neg</th>\n",
       "      <th>agency_pos</th>\n",
       "      <th>power_agent</th>\n",
       "      <th>power_equal</th>\n",
       "      <th>power_theme</th>\n",
       "    </tr>\n",
       "  </thead>\n",
       "  <tbody>\n",
       "    <tr>\n",
       "      <th>0</th>\n",
       "      <td>u0</td>\n",
       "      <td>u2</td>\n",
       "      <td>f</td>\n",
       "      <td>m</td>\n",
       "      <td>comedy</td>\n",
       "      <td>L194</td>\n",
       "      <td>m0</td>\n",
       "      <td>1999</td>\n",
       "      <td>1</td>\n",
       "      <td>make</td>\n",
       "      <td>we make quick roxanne korrine andrew barrett i...</td>\n",
       "      <td>make</td>\n",
       "      <td>agency_pos</td>\n",
       "      <td>power_agent</td>\n",
       "      <td>0</td>\n",
       "      <td>0</td>\n",
       "      <td>1</td>\n",
       "      <td>1</td>\n",
       "      <td>0</td>\n",
       "      <td>0</td>\n",
       "    </tr>\n",
       "    <tr>\n",
       "      <th>1</th>\n",
       "      <td>u0</td>\n",
       "      <td>u5</td>\n",
       "      <td>f</td>\n",
       "      <td>f</td>\n",
       "      <td>comedy</td>\n",
       "      <td>L907</td>\n",
       "      <td>m0</td>\n",
       "      <td>1999</td>\n",
       "      <td>2</td>\n",
       "      <td>make</td>\n",
       "      <td>i want let you make your mind him</td>\n",
       "      <td>make</td>\n",
       "      <td>agency_pos</td>\n",
       "      <td>power_agent</td>\n",
       "      <td>0</td>\n",
       "      <td>0</td>\n",
       "      <td>1</td>\n",
       "      <td>1</td>\n",
       "      <td>0</td>\n",
       "      <td>0</td>\n",
       "    </tr>\n",
       "  </tbody>\n",
       "</table>\n",
       "</div>"
      ],
      "text/plain": [
       "  char_id_from char_id_to gender_from gender_to   genre line_id movie_id  \\\n",
       "0           u0         u2           f         m  comedy    L194       m0   \n",
       "1           u0         u5           f         f  comedy    L907       m0   \n",
       "\n",
       "  movie_year  verb_count verbs  \\\n",
       "0       1999           1  make   \n",
       "1       1999           2  make   \n",
       "\n",
       "                                               words  verb      agency  \\\n",
       "0  we make quick roxanne korrine andrew barrett i...  make  agency_pos   \n",
       "1                  i want let you make your mind him  make  agency_pos   \n",
       "\n",
       "         power  agency_equal  agency_neg  agency_pos  power_agent  \\\n",
       "0  power_agent             0           0           1            1   \n",
       "1  power_agent             0           0           1            1   \n",
       "\n",
       "   power_equal  power_theme  \n",
       "0            0            0  \n",
       "1            0            0  "
      ]
     },
     "execution_count": 28,
     "metadata": {},
     "output_type": "execute_result"
    }
   ],
   "source": [
    "movies_verbs.head(2)"
   ]
  },
  {
   "cell_type": "code",
   "execution_count": 29,
   "metadata": {},
   "outputs": [],
   "source": [
    "movies_verbs['agency_pos_prop'] = movies_verbs['agency_pos'] / movies_verbs['verb_count']\n",
    "movies_verbs['power_pos_prop'] = movies_verbs['power_agent'] / movies_verbs['verb_count']\n",
    "\n",
    "movies_verbs['agency_neg_prop'] = movies_verbs['agency_neg'] / movies_verbs['verb_count']\n",
    "movies_verbs['power_neg_prop'] = movies_verbs['power_theme'] / movies_verbs['verb_count']"
   ]
  },
  {
   "cell_type": "code",
   "execution_count": 30,
   "metadata": {},
   "outputs": [
    {
     "data": {
      "text/html": [
       "<div>\n",
       "<style scoped>\n",
       "    .dataframe tbody tr th:only-of-type {\n",
       "        vertical-align: middle;\n",
       "    }\n",
       "\n",
       "    .dataframe tbody tr th {\n",
       "        vertical-align: top;\n",
       "    }\n",
       "\n",
       "    .dataframe thead th {\n",
       "        text-align: right;\n",
       "    }\n",
       "</style>\n",
       "<table border=\"1\" class=\"dataframe\">\n",
       "  <thead>\n",
       "    <tr style=\"text-align: right;\">\n",
       "      <th></th>\n",
       "      <th>char_id_from</th>\n",
       "      <th>char_id_to</th>\n",
       "      <th>gender_from</th>\n",
       "      <th>gender_to</th>\n",
       "      <th>genre</th>\n",
       "      <th>line_id</th>\n",
       "      <th>movie_id</th>\n",
       "      <th>movie_year</th>\n",
       "      <th>verb_count</th>\n",
       "      <th>verbs</th>\n",
       "      <th>...</th>\n",
       "      <th>agency_equal</th>\n",
       "      <th>agency_neg</th>\n",
       "      <th>agency_pos</th>\n",
       "      <th>power_agent</th>\n",
       "      <th>power_equal</th>\n",
       "      <th>power_theme</th>\n",
       "      <th>agency_pos_prop</th>\n",
       "      <th>power_pos_prop</th>\n",
       "      <th>agency_neg_prop</th>\n",
       "      <th>power_neg_prop</th>\n",
       "    </tr>\n",
       "  </thead>\n",
       "  <tbody>\n",
       "    <tr>\n",
       "      <th>0</th>\n",
       "      <td>u0</td>\n",
       "      <td>u2</td>\n",
       "      <td>f</td>\n",
       "      <td>m</td>\n",
       "      <td>comedy</td>\n",
       "      <td>L194</td>\n",
       "      <td>m0</td>\n",
       "      <td>1999</td>\n",
       "      <td>1</td>\n",
       "      <td>make</td>\n",
       "      <td>...</td>\n",
       "      <td>0</td>\n",
       "      <td>0</td>\n",
       "      <td>1</td>\n",
       "      <td>1</td>\n",
       "      <td>0</td>\n",
       "      <td>0</td>\n",
       "      <td>1.000000</td>\n",
       "      <td>1.000000</td>\n",
       "      <td>0.0</td>\n",
       "      <td>0.0</td>\n",
       "    </tr>\n",
       "    <tr>\n",
       "      <th>1</th>\n",
       "      <td>u0</td>\n",
       "      <td>u5</td>\n",
       "      <td>f</td>\n",
       "      <td>f</td>\n",
       "      <td>comedy</td>\n",
       "      <td>L907</td>\n",
       "      <td>m0</td>\n",
       "      <td>1999</td>\n",
       "      <td>2</td>\n",
       "      <td>make</td>\n",
       "      <td>...</td>\n",
       "      <td>0</td>\n",
       "      <td>0</td>\n",
       "      <td>1</td>\n",
       "      <td>1</td>\n",
       "      <td>0</td>\n",
       "      <td>0</td>\n",
       "      <td>0.500000</td>\n",
       "      <td>0.500000</td>\n",
       "      <td>0.0</td>\n",
       "      <td>0.0</td>\n",
       "    </tr>\n",
       "    <tr>\n",
       "      <th>2</th>\n",
       "      <td>u0</td>\n",
       "      <td>u5</td>\n",
       "      <td>f</td>\n",
       "      <td>f</td>\n",
       "      <td>comedy</td>\n",
       "      <td>L908</td>\n",
       "      <td>m0</td>\n",
       "      <td>1999</td>\n",
       "      <td>7</td>\n",
       "      <td>make</td>\n",
       "      <td>...</td>\n",
       "      <td>0</td>\n",
       "      <td>0</td>\n",
       "      <td>1</td>\n",
       "      <td>1</td>\n",
       "      <td>0</td>\n",
       "      <td>0</td>\n",
       "      <td>0.142857</td>\n",
       "      <td>0.142857</td>\n",
       "      <td>0.0</td>\n",
       "      <td>0.0</td>\n",
       "    </tr>\n",
       "    <tr>\n",
       "      <th>3</th>\n",
       "      <td>u5</td>\n",
       "      <td>u6</td>\n",
       "      <td>f</td>\n",
       "      <td>f</td>\n",
       "      <td>comedy</td>\n",
       "      <td>L754</td>\n",
       "      <td>m0</td>\n",
       "      <td>1999</td>\n",
       "      <td>2</td>\n",
       "      <td>make</td>\n",
       "      <td>...</td>\n",
       "      <td>0</td>\n",
       "      <td>0</td>\n",
       "      <td>1</td>\n",
       "      <td>1</td>\n",
       "      <td>0</td>\n",
       "      <td>0</td>\n",
       "      <td>0.500000</td>\n",
       "      <td>0.500000</td>\n",
       "      <td>0.0</td>\n",
       "      <td>0.0</td>\n",
       "    </tr>\n",
       "    <tr>\n",
       "      <th>4</th>\n",
       "      <td>u2</td>\n",
       "      <td>u7</td>\n",
       "      <td>m</td>\n",
       "      <td>m</td>\n",
       "      <td>comedy</td>\n",
       "      <td>L215</td>\n",
       "      <td>m0</td>\n",
       "      <td>1999</td>\n",
       "      <td>2</td>\n",
       "      <td>make</td>\n",
       "      <td>...</td>\n",
       "      <td>0</td>\n",
       "      <td>0</td>\n",
       "      <td>1</td>\n",
       "      <td>1</td>\n",
       "      <td>0</td>\n",
       "      <td>0</td>\n",
       "      <td>0.500000</td>\n",
       "      <td>0.500000</td>\n",
       "      <td>0.0</td>\n",
       "      <td>0.0</td>\n",
       "    </tr>\n",
       "  </tbody>\n",
       "</table>\n",
       "<p>5 rows × 24 columns</p>\n",
       "</div>"
      ],
      "text/plain": [
       "  char_id_from char_id_to gender_from gender_to   genre line_id movie_id  \\\n",
       "0           u0         u2           f         m  comedy    L194       m0   \n",
       "1           u0         u5           f         f  comedy    L907       m0   \n",
       "2           u0         u5           f         f  comedy    L908       m0   \n",
       "3           u5         u6           f         f  comedy    L754       m0   \n",
       "4           u2         u7           m         m  comedy    L215       m0   \n",
       "\n",
       "  movie_year  verb_count verbs       ...       agency_equal agency_neg  \\\n",
       "0       1999           1  make       ...                  0          0   \n",
       "1       1999           2  make       ...                  0          0   \n",
       "2       1999           7  make       ...                  0          0   \n",
       "3       1999           2  make       ...                  0          0   \n",
       "4       1999           2  make       ...                  0          0   \n",
       "\n",
       "  agency_pos power_agent  power_equal  power_theme  agency_pos_prop  \\\n",
       "0          1           1            0            0         1.000000   \n",
       "1          1           1            0            0         0.500000   \n",
       "2          1           1            0            0         0.142857   \n",
       "3          1           1            0            0         0.500000   \n",
       "4          1           1            0            0         0.500000   \n",
       "\n",
       "   power_pos_prop  agency_neg_prop  power_neg_prop  \n",
       "0        1.000000              0.0             0.0  \n",
       "1        0.500000              0.0             0.0  \n",
       "2        0.142857              0.0             0.0  \n",
       "3        0.500000              0.0             0.0  \n",
       "4        0.500000              0.0             0.0  \n",
       "\n",
       "[5 rows x 24 columns]"
      ]
     },
     "execution_count": 30,
     "metadata": {},
     "output_type": "execute_result"
    }
   ],
   "source": [
    "movies_verbs.head()"
   ]
  },
  {
   "cell_type": "markdown",
   "metadata": {},
   "source": [
    "# Agency/power by gender"
   ]
  },
  {
   "cell_type": "code",
   "execution_count": 31,
   "metadata": {},
   "outputs": [
    {
     "data": {
      "text/plain": [
       "gender_from\n",
       "?    0.256687\n",
       "f    0.239076\n",
       "m    0.242197\n",
       "Name: agency_pos_prop, dtype: float64"
      ]
     },
     "execution_count": 31,
     "metadata": {},
     "output_type": "execute_result"
    }
   ],
   "source": [
    "movies_verbs.groupby('gender_from')['agency_pos_prop'].mean()"
   ]
  },
  {
   "cell_type": "code",
   "execution_count": 32,
   "metadata": {},
   "outputs": [
    {
     "data": {
      "text/plain": [
       "gender_from\n",
       "?    0.185526\n",
       "f    0.162110\n",
       "m    0.173953\n",
       "Name: power_pos_prop, dtype: float64"
      ]
     },
     "execution_count": 32,
     "metadata": {},
     "output_type": "execute_result"
    }
   ],
   "source": [
    "movies_verbs.groupby('gender_from')['power_pos_prop'].mean()"
   ]
  },
  {
   "cell_type": "code",
   "execution_count": 33,
   "metadata": {},
   "outputs": [
    {
     "data": {
      "text/plain": [
       "gender_from\n",
       "?    0.099455\n",
       "f    0.104053\n",
       "m    0.097057\n",
       "Name: agency_neg_prop, dtype: float64"
      ]
     },
     "execution_count": 33,
     "metadata": {},
     "output_type": "execute_result"
    }
   ],
   "source": [
    "movies_verbs.groupby('gender_from')['agency_neg_prop'].mean()"
   ]
  },
  {
   "cell_type": "code",
   "execution_count": 34,
   "metadata": {},
   "outputs": [
    {
     "data": {
      "text/plain": [
       "gender_from\n",
       "?    0.047360\n",
       "f    0.048530\n",
       "m    0.043774\n",
       "Name: power_neg_prop, dtype: float64"
      ]
     },
     "execution_count": 34,
     "metadata": {},
     "output_type": "execute_result"
    }
   ],
   "source": [
    "movies_verbs.groupby('gender_from')['power_neg_prop'].mean()"
   ]
  },
  {
   "cell_type": "markdown",
   "metadata": {},
   "source": [
    "# Check whether the difference is bigger for some movies"
   ]
  },
  {
   "cell_type": "code",
   "execution_count": 59,
   "metadata": {},
   "outputs": [],
   "source": [
    "by_movie = pd.DataFrame(movies_verbs.groupby(['movie_id', 'gender_from'])['power_pos_prop'].mean())"
   ]
  },
  {
   "cell_type": "code",
   "execution_count": 65,
   "metadata": {},
   "outputs": [],
   "source": [
    "by_movie = pd.DataFrame({'mean' : movies_verbs.groupby( [ \"movie_id\", \"gender_from\"] )['power_pos_prop'].mean()}).reset_index()"
   ]
  },
  {
   "cell_type": "code",
   "execution_count": 67,
   "metadata": {},
   "outputs": [],
   "source": [
    "by_movie = by_movie[by_movie['gender_from'] != '?']"
   ]
  },
  {
   "cell_type": "code",
   "execution_count": 73,
   "metadata": {},
   "outputs": [],
   "source": [
    "by_movie = by_movie.pivot(index='movie_id', columns='gender_from', values='mean').reset_index()"
   ]
  },
  {
   "cell_type": "code",
   "execution_count": 74,
   "metadata": {},
   "outputs": [],
   "source": [
    "by_movie['diff'] = by_movie['m'] - by_movie['f']"
   ]
  },
  {
   "cell_type": "code",
   "execution_count": 80,
   "metadata": {},
   "outputs": [],
   "source": [
    "test = by_movie.sort_values('diff', ascending=False)"
   ]
  },
  {
   "cell_type": "code",
   "execution_count": 85,
   "metadata": {},
   "outputs": [
    {
     "data": {
      "text/plain": [
       "(613, 4)"
      ]
     },
     "execution_count": 85,
     "metadata": {},
     "output_type": "execute_result"
    }
   ],
   "source": [
    "test.shape"
   ]
  },
  {
   "cell_type": "code",
   "execution_count": 93,
   "metadata": {
    "scrolled": true
   },
   "outputs": [
    {
     "data": {
      "text/plain": [
       "(99, 4)"
      ]
     },
     "execution_count": 93,
     "metadata": {},
     "output_type": "execute_result"
    }
   ],
   "source": [
    "test[test['diff'] > 0.05].shape"
   ]
  },
  {
   "cell_type": "markdown",
   "metadata": {},
   "source": [
    "### About 16% of movies have a gender difference greater than 5%."
   ]
  }
 ],
 "metadata": {
  "kernelspec": {
   "display_name": "Python 3",
   "language": "python",
   "name": "python3"
  },
  "language_info": {
   "codemirror_mode": {
    "name": "ipython",
    "version": 3
   },
   "file_extension": ".py",
   "mimetype": "text/x-python",
   "name": "python",
   "nbconvert_exporter": "python",
   "pygments_lexer": "ipython3",
   "version": "3.6.4"
  }
 },
 "nbformat": 4,
 "nbformat_minor": 2
}
