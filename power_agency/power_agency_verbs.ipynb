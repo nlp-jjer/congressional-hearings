{
 "cells": [
  {
   "cell_type": "code",
   "execution_count": 67,
   "metadata": {},
   "outputs": [],
   "source": [
    "import pandas as pd\n",
    "import numpy as np\n",
    "import pickle\n",
    "import nltk\n",
    "\n",
    "%matplotlib inline"
   ]
  },
  {
   "cell_type": "code",
   "execution_count": 68,
   "metadata": {},
   "outputs": [],
   "source": [
    "verbs = pd.read_csv('../data/agency_power.csv')"
   ]
  },
  {
   "cell_type": "code",
   "execution_count": 69,
   "metadata": {},
   "outputs": [
    {
     "data": {
      "text/html": [
       "<div>\n",
       "<style scoped>\n",
       "    .dataframe tbody tr th:only-of-type {\n",
       "        vertical-align: middle;\n",
       "    }\n",
       "\n",
       "    .dataframe tbody tr th {\n",
       "        vertical-align: top;\n",
       "    }\n",
       "\n",
       "    .dataframe thead th {\n",
       "        text-align: right;\n",
       "    }\n",
       "</style>\n",
       "<table border=\"1\" class=\"dataframe\">\n",
       "  <thead>\n",
       "    <tr style=\"text-align: right;\">\n",
       "      <th></th>\n",
       "      <th>verb</th>\n",
       "      <th>agency</th>\n",
       "      <th>power</th>\n",
       "    </tr>\n",
       "  </thead>\n",
       "  <tbody>\n",
       "    <tr>\n",
       "      <th>0</th>\n",
       "      <td>abandons</td>\n",
       "      <td>agency_pos</td>\n",
       "      <td>power_agent</td>\n",
       "    </tr>\n",
       "    <tr>\n",
       "      <th>1</th>\n",
       "      <td>abolishes</td>\n",
       "      <td>agency_pos</td>\n",
       "      <td>power_agent</td>\n",
       "    </tr>\n",
       "    <tr>\n",
       "      <th>2</th>\n",
       "      <td>absorbs</td>\n",
       "      <td>agency_pos</td>\n",
       "      <td>power_agent</td>\n",
       "    </tr>\n",
       "    <tr>\n",
       "      <th>3</th>\n",
       "      <td>abuses</td>\n",
       "      <td>agency_pos</td>\n",
       "      <td>power_agent</td>\n",
       "    </tr>\n",
       "    <tr>\n",
       "      <th>4</th>\n",
       "      <td>accelerates</td>\n",
       "      <td>agency_pos</td>\n",
       "      <td>power_agent</td>\n",
       "    </tr>\n",
       "  </tbody>\n",
       "</table>\n",
       "</div>"
      ],
      "text/plain": [
       "          verb      agency        power\n",
       "0     abandons  agency_pos  power_agent\n",
       "1    abolishes  agency_pos  power_agent\n",
       "2      absorbs  agency_pos  power_agent\n",
       "3       abuses  agency_pos  power_agent\n",
       "4  accelerates  agency_pos  power_agent"
      ]
     },
     "execution_count": 69,
     "metadata": {},
     "output_type": "execute_result"
    }
   ],
   "source": [
    "verbs.head()"
   ]
  },
  {
   "cell_type": "code",
   "execution_count": 70,
   "metadata": {},
   "outputs": [
    {
     "data": {
      "text/html": [
       "<div>\n",
       "<style scoped>\n",
       "    .dataframe tbody tr th:only-of-type {\n",
       "        vertical-align: middle;\n",
       "    }\n",
       "\n",
       "    .dataframe tbody tr th {\n",
       "        vertical-align: top;\n",
       "    }\n",
       "\n",
       "    .dataframe thead th {\n",
       "        text-align: right;\n",
       "    }\n",
       "</style>\n",
       "<table border=\"1\" class=\"dataframe\">\n",
       "  <thead>\n",
       "    <tr style=\"text-align: right;\">\n",
       "      <th></th>\n",
       "      <th>verb</th>\n",
       "      <th>power</th>\n",
       "    </tr>\n",
       "    <tr>\n",
       "      <th>agency</th>\n",
       "      <th></th>\n",
       "      <th></th>\n",
       "    </tr>\n",
       "  </thead>\n",
       "  <tbody>\n",
       "    <tr>\n",
       "      <th>agency_equal</th>\n",
       "      <td>242</td>\n",
       "      <td>156</td>\n",
       "    </tr>\n",
       "    <tr>\n",
       "      <th>agency_neg</th>\n",
       "      <td>228</td>\n",
       "      <td>117</td>\n",
       "    </tr>\n",
       "    <tr>\n",
       "      <th>agency_pos</th>\n",
       "      <td>1676</td>\n",
       "      <td>1455</td>\n",
       "    </tr>\n",
       "  </tbody>\n",
       "</table>\n",
       "</div>"
      ],
      "text/plain": [
       "              verb  power\n",
       "agency                   \n",
       "agency_equal   242    156\n",
       "agency_neg     228    117\n",
       "agency_pos    1676   1455"
      ]
     },
     "execution_count": 70,
     "metadata": {},
     "output_type": "execute_result"
    }
   ],
   "source": [
    "verbs.groupby('agency').count()"
   ]
  },
  {
   "cell_type": "code",
   "execution_count": 71,
   "metadata": {},
   "outputs": [
    {
     "data": {
      "text/html": [
       "<div>\n",
       "<style scoped>\n",
       "    .dataframe tbody tr th:only-of-type {\n",
       "        vertical-align: middle;\n",
       "    }\n",
       "\n",
       "    .dataframe tbody tr th {\n",
       "        vertical-align: top;\n",
       "    }\n",
       "\n",
       "    .dataframe thead th {\n",
       "        text-align: right;\n",
       "    }\n",
       "</style>\n",
       "<table border=\"1\" class=\"dataframe\">\n",
       "  <thead>\n",
       "    <tr style=\"text-align: right;\">\n",
       "      <th></th>\n",
       "      <th>verb</th>\n",
       "      <th>agency</th>\n",
       "    </tr>\n",
       "    <tr>\n",
       "      <th>power</th>\n",
       "      <th></th>\n",
       "      <th></th>\n",
       "    </tr>\n",
       "  </thead>\n",
       "  <tbody>\n",
       "    <tr>\n",
       "      <th>power_agent</th>\n",
       "      <td>1222</td>\n",
       "      <td>1216</td>\n",
       "    </tr>\n",
       "    <tr>\n",
       "      <th>power_equal</th>\n",
       "      <td>309</td>\n",
       "      <td>308</td>\n",
       "    </tr>\n",
       "    <tr>\n",
       "      <th>power_theme</th>\n",
       "      <td>206</td>\n",
       "      <td>204</td>\n",
       "    </tr>\n",
       "  </tbody>\n",
       "</table>\n",
       "</div>"
      ],
      "text/plain": [
       "             verb  agency\n",
       "power                    \n",
       "power_agent  1222    1216\n",
       "power_equal   309     308\n",
       "power_theme   206     204"
      ]
     },
     "execution_count": 71,
     "metadata": {},
     "output_type": "execute_result"
    }
   ],
   "source": [
    "verbs.groupby('power').count()"
   ]
  },
  {
   "cell_type": "markdown",
   "metadata": {},
   "source": [
    "# Lemmatize the verbs"
   ]
  },
  {
   "cell_type": "code",
   "execution_count": 72,
   "metadata": {},
   "outputs": [],
   "source": [
    "from nltk.stem import WordNetLemmatizer\n",
    "\n",
    "lemmatizer = WordNetLemmatizer()\n",
    "\n",
    "verbs['verb'] = verbs['verb'].apply(lambda x: lemmatizer.lemmatize(x))"
   ]
  },
  {
   "cell_type": "code",
   "execution_count": 73,
   "metadata": {},
   "outputs": [
    {
     "data": {
      "text/html": [
       "<div>\n",
       "<style scoped>\n",
       "    .dataframe tbody tr th:only-of-type {\n",
       "        vertical-align: middle;\n",
       "    }\n",
       "\n",
       "    .dataframe tbody tr th {\n",
       "        vertical-align: top;\n",
       "    }\n",
       "\n",
       "    .dataframe thead th {\n",
       "        text-align: right;\n",
       "    }\n",
       "</style>\n",
       "<table border=\"1\" class=\"dataframe\">\n",
       "  <thead>\n",
       "    <tr style=\"text-align: right;\">\n",
       "      <th></th>\n",
       "      <th>verb</th>\n",
       "      <th>agency</th>\n",
       "      <th>power</th>\n",
       "    </tr>\n",
       "  </thead>\n",
       "  <tbody>\n",
       "    <tr>\n",
       "      <th>0</th>\n",
       "      <td>abandon</td>\n",
       "      <td>agency_pos</td>\n",
       "      <td>power_agent</td>\n",
       "    </tr>\n",
       "    <tr>\n",
       "      <th>1</th>\n",
       "      <td>abolishes</td>\n",
       "      <td>agency_pos</td>\n",
       "      <td>power_agent</td>\n",
       "    </tr>\n",
       "    <tr>\n",
       "      <th>2</th>\n",
       "      <td>absorbs</td>\n",
       "      <td>agency_pos</td>\n",
       "      <td>power_agent</td>\n",
       "    </tr>\n",
       "    <tr>\n",
       "      <th>3</th>\n",
       "      <td>abuse</td>\n",
       "      <td>agency_pos</td>\n",
       "      <td>power_agent</td>\n",
       "    </tr>\n",
       "    <tr>\n",
       "      <th>4</th>\n",
       "      <td>accelerates</td>\n",
       "      <td>agency_pos</td>\n",
       "      <td>power_agent</td>\n",
       "    </tr>\n",
       "  </tbody>\n",
       "</table>\n",
       "</div>"
      ],
      "text/plain": [
       "          verb      agency        power\n",
       "0      abandon  agency_pos  power_agent\n",
       "1    abolishes  agency_pos  power_agent\n",
       "2      absorbs  agency_pos  power_agent\n",
       "3        abuse  agency_pos  power_agent\n",
       "4  accelerates  agency_pos  power_agent"
      ]
     },
     "execution_count": 73,
     "metadata": {},
     "output_type": "execute_result"
    }
   ],
   "source": [
    "verbs.head()"
   ]
  },
  {
   "cell_type": "markdown",
   "metadata": {},
   "source": [
    "# Part of Speech Tagging"
   ]
  },
  {
   "cell_type": "code",
   "execution_count": 74,
   "metadata": {},
   "outputs": [],
   "source": [
    "movies = pickle.load(open(\"../data/movies_lines_holdout.p\", 'rb'))"
   ]
  },
  {
   "cell_type": "code",
   "execution_count": 75,
   "metadata": {},
   "outputs": [
    {
     "data": {
      "text/plain": [
       "(101960,)"
      ]
     },
     "execution_count": 75,
     "metadata": {},
     "output_type": "execute_result"
    }
   ],
   "source": [
    "movies['line_id'].unique().shape #number of unique lines"
   ]
  },
  {
   "cell_type": "code",
   "execution_count": 76,
   "metadata": {},
   "outputs": [],
   "source": [
    "def get_verbs(x):\n",
    "\n",
    "    verb_tags = ['VB', 'VBG', 'VBN', 'VBP', 'VBZ']\n",
    "    text = nltk.word_tokenize(x)\n",
    "    tags = nltk.pos_tag(text)\n",
    "    \n",
    "    verbs = [word for (word, tag) in tags if tag in verb_tags]\n",
    "    \n",
    "    return verbs\n",
    "\n",
    "movies['verbs'] = movies['words'].apply(get_verbs)\n",
    "\n",
    "movies['verb_count'] = movies['verbs'].apply(lambda x: len(x))"
   ]
  },
  {
   "cell_type": "code",
   "execution_count": 22,
   "metadata": {},
   "outputs": [],
   "source": [
    "#source: https://gist.github.com/jlln/338b4b0b55bd6984f883\n",
    "\n",
    "def split_data_frame_list(df, \n",
    "                       target_column,\n",
    "                       output_type=float):\n",
    "    ''' \n",
    "    Accepts a column with multiple types and splits list variables to several rows.\n",
    "\n",
    "    df: dataframe to split\n",
    "    target_column: the column containing the values to split\n",
    "    output_type: type of all outputs\n",
    "    returns: a dataframe with each entry for the target column separated, with each element moved into a new row. \n",
    "    The values in the other columns are duplicated across the newly divided rows.\n",
    "    '''\n",
    "    row_accumulator = []\n",
    "\n",
    "    def split_list_to_rows(row):\n",
    "        split_row = row[target_column]\n",
    "        if isinstance(split_row, list):\n",
    "          for s in split_row:\n",
    "              new_row = row.to_dict()\n",
    "              new_row[target_column] = output_type(s)\n",
    "              row_accumulator.append(new_row)\n",
    "        else:\n",
    "          new_row = row.to_dict()\n",
    "          new_row[target_column] = output_type(split_row)\n",
    "          row_accumulator.append(new_row)\n",
    "  \n",
    "    df.apply(split_list_to_rows, axis=1)\n",
    "    new_df = pd.DataFrame(row_accumulator)\n",
    "  \n",
    "    return new_df"
   ]
  },
  {
   "cell_type": "code",
   "execution_count": 23,
   "metadata": {},
   "outputs": [],
   "source": [
    "movies_long = split_data_frame_list(movies, 'verbs', output_type = str)"
   ]
  },
  {
   "cell_type": "code",
   "execution_count": 24,
   "metadata": {},
   "outputs": [
    {
     "data": {
      "text/html": [
       "<div>\n",
       "<style scoped>\n",
       "    .dataframe tbody tr th:only-of-type {\n",
       "        vertical-align: middle;\n",
       "    }\n",
       "\n",
       "    .dataframe tbody tr th {\n",
       "        vertical-align: top;\n",
       "    }\n",
       "\n",
       "    .dataframe thead th {\n",
       "        text-align: right;\n",
       "    }\n",
       "</style>\n",
       "<table border=\"1\" class=\"dataframe\">\n",
       "  <thead>\n",
       "    <tr style=\"text-align: right;\">\n",
       "      <th></th>\n",
       "      <th>movie_id</th>\n",
       "      <th>gender_to</th>\n",
       "      <th>gender_from</th>\n",
       "      <th>char_id_from</th>\n",
       "      <th>char_id_to</th>\n",
       "      <th>line_id</th>\n",
       "      <th>words</th>\n",
       "      <th>movie_year</th>\n",
       "      <th>genre</th>\n",
       "      <th>verbs</th>\n",
       "      <th>verb_count</th>\n",
       "    </tr>\n",
       "  </thead>\n",
       "  <tbody>\n",
       "    <tr>\n",
       "      <th>0</th>\n",
       "      <td>m49</td>\n",
       "      <td>m</td>\n",
       "      <td>f</td>\n",
       "      <td>u761</td>\n",
       "      <td>u765</td>\n",
       "      <td>L163186</td>\n",
       "      <td>thanks miss</td>\n",
       "      <td>1999</td>\n",
       "      <td>comedy</td>\n",
       "      <td>[miss]</td>\n",
       "      <td>1</td>\n",
       "    </tr>\n",
       "    <tr>\n",
       "      <th>1</th>\n",
       "      <td>m49</td>\n",
       "      <td>m</td>\n",
       "      <td>f</td>\n",
       "      <td>u761</td>\n",
       "      <td>u765</td>\n",
       "      <td>L163187</td>\n",
       "      <td>you kind i amanda</td>\n",
       "      <td>1999</td>\n",
       "      <td>comedy</td>\n",
       "      <td>[]</td>\n",
       "      <td>0</td>\n",
       "    </tr>\n",
       "    <tr>\n",
       "      <th>2</th>\n",
       "      <td>m49</td>\n",
       "      <td>m</td>\n",
       "      <td>f</td>\n",
       "      <td>u761</td>\n",
       "      <td>u765</td>\n",
       "      <td>L163188</td>\n",
       "      <td>right well thanks drink stuff amanda reason me...</td>\n",
       "      <td>1999</td>\n",
       "      <td>comedy</td>\n",
       "      <td>[drink, stick]</td>\n",
       "      <td>2</td>\n",
       "    </tr>\n",
       "    <tr>\n",
       "      <th>3</th>\n",
       "      <td>m49</td>\n",
       "      <td>m</td>\n",
       "      <td>f</td>\n",
       "      <td>u761</td>\n",
       "      <td>u765</td>\n",
       "      <td>L163189</td>\n",
       "      <td>glum hawk night still young fill plenty compen...</td>\n",
       "      <td>1999</td>\n",
       "      <td>comedy</td>\n",
       "      <td>[]</td>\n",
       "      <td>0</td>\n",
       "    </tr>\n",
       "    <tr>\n",
       "      <th>4</th>\n",
       "      <td>m49</td>\n",
       "      <td>m</td>\n",
       "      <td>f</td>\n",
       "      <td>u761</td>\n",
       "      <td>u765</td>\n",
       "      <td>L163190</td>\n",
       "      <td>huh</td>\n",
       "      <td>1999</td>\n",
       "      <td>comedy</td>\n",
       "      <td>[]</td>\n",
       "      <td>0</td>\n",
       "    </tr>\n",
       "  </tbody>\n",
       "</table>\n",
       "</div>"
      ],
      "text/plain": [
       "  movie_id gender_to gender_from char_id_from char_id_to  line_id  \\\n",
       "0      m49         m           f         u761       u765  L163186   \n",
       "1      m49         m           f         u761       u765  L163187   \n",
       "2      m49         m           f         u761       u765  L163188   \n",
       "3      m49         m           f         u761       u765  L163189   \n",
       "4      m49         m           f         u761       u765  L163190   \n",
       "\n",
       "                                               words movie_year   genre  \\\n",
       "0                                        thanks miss       1999  comedy   \n",
       "1                                  you kind i amanda       1999  comedy   \n",
       "2  right well thanks drink stuff amanda reason me...       1999  comedy   \n",
       "3  glum hawk night still young fill plenty compen...       1999  comedy   \n",
       "4                                                huh       1999  comedy   \n",
       "\n",
       "            verbs  verb_count  \n",
       "0          [miss]           1  \n",
       "1              []           0  \n",
       "2  [drink, stick]           2  \n",
       "3              []           0  \n",
       "4              []           0  "
      ]
     },
     "execution_count": 24,
     "metadata": {},
     "output_type": "execute_result"
    }
   ],
   "source": [
    "movies.head()"
   ]
  },
  {
   "cell_type": "markdown",
   "metadata": {},
   "source": [
    "# Add back the lines with no verbs\n",
    "* Give them a verb count of 0"
   ]
  },
  {
   "cell_type": "code",
   "execution_count": 35,
   "metadata": {},
   "outputs": [],
   "source": [
    "movies = pickle.load(open(\"../data/movies_lines_holdout.p\", 'rb'))\n",
    "\n",
    "cols_to_use = ['verbs', 'verb_count', 'line_id']\n",
    "movies_verbs = movies.merge(movies_long[cols_to_use], on = 'line_id', how='left', indicator = True)"
   ]
  },
  {
   "cell_type": "code",
   "execution_count": 36,
   "metadata": {},
   "outputs": [
    {
     "data": {
      "text/html": [
       "<div>\n",
       "<style scoped>\n",
       "    .dataframe tbody tr th:only-of-type {\n",
       "        vertical-align: middle;\n",
       "    }\n",
       "\n",
       "    .dataframe tbody tr th {\n",
       "        vertical-align: top;\n",
       "    }\n",
       "\n",
       "    .dataframe thead th {\n",
       "        text-align: right;\n",
       "    }\n",
       "</style>\n",
       "<table border=\"1\" class=\"dataframe\">\n",
       "  <thead>\n",
       "    <tr style=\"text-align: right;\">\n",
       "      <th></th>\n",
       "      <th>movie_id</th>\n",
       "      <th>gender_to</th>\n",
       "      <th>gender_from</th>\n",
       "      <th>char_id_from</th>\n",
       "      <th>char_id_to</th>\n",
       "      <th>line_id</th>\n",
       "      <th>words</th>\n",
       "      <th>movie_year</th>\n",
       "      <th>genre</th>\n",
       "      <th>verbs</th>\n",
       "      <th>verb_count</th>\n",
       "      <th>_merge</th>\n",
       "    </tr>\n",
       "  </thead>\n",
       "  <tbody>\n",
       "    <tr>\n",
       "      <th>1</th>\n",
       "      <td>m49</td>\n",
       "      <td>m</td>\n",
       "      <td>f</td>\n",
       "      <td>u761</td>\n",
       "      <td>u765</td>\n",
       "      <td>L163187</td>\n",
       "      <td>you kind i amanda</td>\n",
       "      <td>1999</td>\n",
       "      <td>comedy</td>\n",
       "      <td>NaN</td>\n",
       "      <td>NaN</td>\n",
       "      <td>left_only</td>\n",
       "    </tr>\n",
       "    <tr>\n",
       "      <th>4</th>\n",
       "      <td>m49</td>\n",
       "      <td>m</td>\n",
       "      <td>f</td>\n",
       "      <td>u761</td>\n",
       "      <td>u765</td>\n",
       "      <td>L163189</td>\n",
       "      <td>glum hawk night still young fill plenty compen...</td>\n",
       "      <td>1999</td>\n",
       "      <td>comedy</td>\n",
       "      <td>NaN</td>\n",
       "      <td>NaN</td>\n",
       "      <td>left_only</td>\n",
       "    </tr>\n",
       "  </tbody>\n",
       "</table>\n",
       "</div>"
      ],
      "text/plain": [
       "  movie_id gender_to gender_from char_id_from char_id_to  line_id  \\\n",
       "1      m49         m           f         u761       u765  L163187   \n",
       "4      m49         m           f         u761       u765  L163189   \n",
       "\n",
       "                                               words movie_year   genre verbs  \\\n",
       "1                                  you kind i amanda       1999  comedy   NaN   \n",
       "4  glum hawk night still young fill plenty compen...       1999  comedy   NaN   \n",
       "\n",
       "   verb_count     _merge  \n",
       "1         NaN  left_only  \n",
       "4         NaN  left_only  "
      ]
     },
     "execution_count": 36,
     "metadata": {},
     "output_type": "execute_result"
    }
   ],
   "source": [
    "movies_verbs[movies_verbs['_merge'] != 'both'].head(2)"
   ]
  },
  {
   "cell_type": "code",
   "execution_count": 37,
   "metadata": {},
   "outputs": [],
   "source": [
    "movies_verbs['verb_count'].fillna(value = 0, inplace = True)"
   ]
  },
  {
   "cell_type": "code",
   "execution_count": 38,
   "metadata": {},
   "outputs": [
    {
     "data": {
      "text/html": [
       "<div>\n",
       "<style scoped>\n",
       "    .dataframe tbody tr th:only-of-type {\n",
       "        vertical-align: middle;\n",
       "    }\n",
       "\n",
       "    .dataframe tbody tr th {\n",
       "        vertical-align: top;\n",
       "    }\n",
       "\n",
       "    .dataframe thead th {\n",
       "        text-align: right;\n",
       "    }\n",
       "</style>\n",
       "<table border=\"1\" class=\"dataframe\">\n",
       "  <thead>\n",
       "    <tr style=\"text-align: right;\">\n",
       "      <th></th>\n",
       "      <th>movie_id</th>\n",
       "      <th>gender_to</th>\n",
       "      <th>gender_from</th>\n",
       "      <th>char_id_from</th>\n",
       "      <th>char_id_to</th>\n",
       "      <th>line_id</th>\n",
       "      <th>words</th>\n",
       "      <th>movie_year</th>\n",
       "      <th>genre</th>\n",
       "      <th>verbs</th>\n",
       "      <th>verb_count</th>\n",
       "      <th>_merge</th>\n",
       "    </tr>\n",
       "  </thead>\n",
       "  <tbody>\n",
       "    <tr>\n",
       "      <th>1</th>\n",
       "      <td>m49</td>\n",
       "      <td>m</td>\n",
       "      <td>f</td>\n",
       "      <td>u761</td>\n",
       "      <td>u765</td>\n",
       "      <td>L163187</td>\n",
       "      <td>you kind i amanda</td>\n",
       "      <td>1999</td>\n",
       "      <td>comedy</td>\n",
       "      <td>NaN</td>\n",
       "      <td>0.0</td>\n",
       "      <td>left_only</td>\n",
       "    </tr>\n",
       "    <tr>\n",
       "      <th>4</th>\n",
       "      <td>m49</td>\n",
       "      <td>m</td>\n",
       "      <td>f</td>\n",
       "      <td>u761</td>\n",
       "      <td>u765</td>\n",
       "      <td>L163189</td>\n",
       "      <td>glum hawk night still young fill plenty compen...</td>\n",
       "      <td>1999</td>\n",
       "      <td>comedy</td>\n",
       "      <td>NaN</td>\n",
       "      <td>0.0</td>\n",
       "      <td>left_only</td>\n",
       "    </tr>\n",
       "  </tbody>\n",
       "</table>\n",
       "</div>"
      ],
      "text/plain": [
       "  movie_id gender_to gender_from char_id_from char_id_to  line_id  \\\n",
       "1      m49         m           f         u761       u765  L163187   \n",
       "4      m49         m           f         u761       u765  L163189   \n",
       "\n",
       "                                               words movie_year   genre verbs  \\\n",
       "1                                  you kind i amanda       1999  comedy   NaN   \n",
       "4  glum hawk night still young fill plenty compen...       1999  comedy   NaN   \n",
       "\n",
       "   verb_count     _merge  \n",
       "1         0.0  left_only  \n",
       "4         0.0  left_only  "
      ]
     },
     "execution_count": 38,
     "metadata": {},
     "output_type": "execute_result"
    }
   ],
   "source": [
    "movies_verbs[movies_verbs['_merge'] != 'both'].head(2)"
   ]
  },
  {
   "cell_type": "code",
   "execution_count": 39,
   "metadata": {},
   "outputs": [],
   "source": [
    "movies_verbs = movies_verbs.merge(verbs, left_on = 'verbs', right_on = 'verb', how = 'left')"
   ]
  },
  {
   "cell_type": "code",
   "execution_count": 40,
   "metadata": {},
   "outputs": [],
   "source": [
    "agency_dummies = pd.get_dummies(movies_verbs['agency'])\n",
    "power_dummies = pd.get_dummies(movies_verbs['power'])"
   ]
  },
  {
   "cell_type": "code",
   "execution_count": 41,
   "metadata": {},
   "outputs": [],
   "source": [
    "movies_verbs = pd.concat([movies_verbs, power_dummies], axis = 1)\n",
    "movies_verbs = pd.concat([movies_verbs, agency_dummies], axis = 1)"
   ]
  },
  {
   "cell_type": "markdown",
   "metadata": {},
   "source": [
    "# Sum the verb counts by line"
   ]
  },
  {
   "cell_type": "code",
   "execution_count": 42,
   "metadata": {},
   "outputs": [],
   "source": [
    "counts = movies_verbs.groupby('line_id').agg({'agency_neg': sum, 'agency_pos': sum, 'power_agent': sum, 'power_theme': sum})\n",
    "counts = counts.reset_index()\n",
    "\n",
    "drop_list = ['agency_neg', 'agency_pos', 'power_agent', 'power_theme', 'agency_equal', \n",
    "             'power_equal', 'verbs', 'verb', 'agency', 'power', '_merge']\n",
    "\n",
    "movies_verbs.drop(drop_list, axis = 1, inplace = True)"
   ]
  },
  {
   "cell_type": "code",
   "execution_count": 43,
   "metadata": {},
   "outputs": [],
   "source": [
    "movies_verbs = counts.merge(movies_verbs, on = 'line_id', how = 'left')\n",
    "movies_verbs.drop_duplicates(inplace = True)"
   ]
  },
  {
   "cell_type": "code",
   "execution_count": 44,
   "metadata": {},
   "outputs": [
    {
     "data": {
      "text/plain": [
       "(101960, 14)"
      ]
     },
     "execution_count": 44,
     "metadata": {},
     "output_type": "execute_result"
    }
   ],
   "source": [
    "movies_verbs.shape #correct number of unique lines"
   ]
  },
  {
   "cell_type": "code",
   "execution_count": 45,
   "metadata": {},
   "outputs": [],
   "source": [
    "movies_verbs['agency_pos_prop'] = movies_verbs['agency_pos'] / movies_verbs['verb_count']\n",
    "movies_verbs['power_pos_prop'] = movies_verbs['power_agent'] / movies_verbs['verb_count']\n",
    "\n",
    "movies_verbs['agency_neg_prop'] = movies_verbs['agency_neg'] / movies_verbs['verb_count']\n",
    "movies_verbs['power_neg_prop'] = movies_verbs['power_theme'] / movies_verbs['verb_count']"
   ]
  },
  {
   "cell_type": "code",
   "execution_count": 46,
   "metadata": {},
   "outputs": [
    {
     "data": {
      "text/html": [
       "<div>\n",
       "<style scoped>\n",
       "    .dataframe tbody tr th:only-of-type {\n",
       "        vertical-align: middle;\n",
       "    }\n",
       "\n",
       "    .dataframe tbody tr th {\n",
       "        vertical-align: top;\n",
       "    }\n",
       "\n",
       "    .dataframe thead th {\n",
       "        text-align: right;\n",
       "    }\n",
       "</style>\n",
       "<table border=\"1\" class=\"dataframe\">\n",
       "  <thead>\n",
       "    <tr style=\"text-align: right;\">\n",
       "      <th></th>\n",
       "      <th>line_id</th>\n",
       "      <th>agency_neg</th>\n",
       "      <th>agency_pos</th>\n",
       "      <th>power_agent</th>\n",
       "      <th>power_theme</th>\n",
       "      <th>movie_id</th>\n",
       "      <th>gender_to</th>\n",
       "      <th>gender_from</th>\n",
       "      <th>char_id_from</th>\n",
       "      <th>char_id_to</th>\n",
       "      <th>words</th>\n",
       "      <th>movie_year</th>\n",
       "      <th>genre</th>\n",
       "      <th>verb_count</th>\n",
       "      <th>agency_pos_prop</th>\n",
       "      <th>power_pos_prop</th>\n",
       "      <th>agency_neg_prop</th>\n",
       "      <th>power_neg_prop</th>\n",
       "    </tr>\n",
       "  </thead>\n",
       "  <tbody>\n",
       "    <tr>\n",
       "      <th>0</th>\n",
       "      <td>L1000</td>\n",
       "      <td>0</td>\n",
       "      <td>2</td>\n",
       "      <td>1</td>\n",
       "      <td>0</td>\n",
       "      <td>m0</td>\n",
       "      <td>m</td>\n",
       "      <td>f</td>\n",
       "      <td>u5</td>\n",
       "      <td>u11</td>\n",
       "      <td>oh christ tell me you change your mind i alrea...</td>\n",
       "      <td>1999</td>\n",
       "      <td>comedy</td>\n",
       "      <td>3.0</td>\n",
       "      <td>0.666667</td>\n",
       "      <td>0.333333</td>\n",
       "      <td>0.0</td>\n",
       "      <td>0.0</td>\n",
       "    </tr>\n",
       "    <tr>\n",
       "      <th>3</th>\n",
       "      <td>L100058</td>\n",
       "      <td>0</td>\n",
       "      <td>0</td>\n",
       "      <td>0</td>\n",
       "      <td>0</td>\n",
       "      <td>m279</td>\n",
       "      <td>m</td>\n",
       "      <td>f</td>\n",
       "      <td>u4183</td>\n",
       "      <td>u4191</td>\n",
       "      <td>you feel good franny</td>\n",
       "      <td>1995</td>\n",
       "      <td>drama</td>\n",
       "      <td>1.0</td>\n",
       "      <td>0.000000</td>\n",
       "      <td>0.000000</td>\n",
       "      <td>0.0</td>\n",
       "      <td>0.0</td>\n",
       "    </tr>\n",
       "    <tr>\n",
       "      <th>4</th>\n",
       "      <td>L100059</td>\n",
       "      <td>0</td>\n",
       "      <td>1</td>\n",
       "      <td>0</td>\n",
       "      <td>0</td>\n",
       "      <td>m279</td>\n",
       "      <td>m</td>\n",
       "      <td>f</td>\n",
       "      <td>u4183</td>\n",
       "      <td>u4191</td>\n",
       "      <td>yes i fine it heat i think</td>\n",
       "      <td>1995</td>\n",
       "      <td>drama</td>\n",
       "      <td>3.0</td>\n",
       "      <td>0.333333</td>\n",
       "      <td>0.000000</td>\n",
       "      <td>0.0</td>\n",
       "      <td>0.0</td>\n",
       "    </tr>\n",
       "    <tr>\n",
       "      <th>7</th>\n",
       "      <td>L100062</td>\n",
       "      <td>0</td>\n",
       "      <td>0</td>\n",
       "      <td>0</td>\n",
       "      <td>0</td>\n",
       "      <td>m279</td>\n",
       "      <td>m</td>\n",
       "      <td>f</td>\n",
       "      <td>u4183</td>\n",
       "      <td>u4191</td>\n",
       "      <td>it chicago station i find it day</td>\n",
       "      <td>1995</td>\n",
       "      <td>drama</td>\n",
       "      <td>2.0</td>\n",
       "      <td>0.000000</td>\n",
       "      <td>0.000000</td>\n",
       "      <td>0.0</td>\n",
       "      <td>0.0</td>\n",
       "    </tr>\n",
       "    <tr>\n",
       "      <th>9</th>\n",
       "      <td>L100063</td>\n",
       "      <td>0</td>\n",
       "      <td>0</td>\n",
       "      <td>0</td>\n",
       "      <td>0</td>\n",
       "      <td>m279</td>\n",
       "      <td>m</td>\n",
       "      <td>f</td>\n",
       "      <td>u4183</td>\n",
       "      <td>u4191</td>\n",
       "      <td>kinda pretty uh jazz kinda singing</td>\n",
       "      <td>1995</td>\n",
       "      <td>drama</td>\n",
       "      <td>1.0</td>\n",
       "      <td>0.000000</td>\n",
       "      <td>0.000000</td>\n",
       "      <td>0.0</td>\n",
       "      <td>0.0</td>\n",
       "    </tr>\n",
       "  </tbody>\n",
       "</table>\n",
       "</div>"
      ],
      "text/plain": [
       "   line_id  agency_neg  agency_pos  power_agent  power_theme movie_id  \\\n",
       "0    L1000           0           2            1            0       m0   \n",
       "3  L100058           0           0            0            0     m279   \n",
       "4  L100059           0           1            0            0     m279   \n",
       "7  L100062           0           0            0            0     m279   \n",
       "9  L100063           0           0            0            0     m279   \n",
       "\n",
       "  gender_to gender_from char_id_from char_id_to  \\\n",
       "0         m           f           u5        u11   \n",
       "3         m           f        u4183      u4191   \n",
       "4         m           f        u4183      u4191   \n",
       "7         m           f        u4183      u4191   \n",
       "9         m           f        u4183      u4191   \n",
       "\n",
       "                                               words movie_year   genre  \\\n",
       "0  oh christ tell me you change your mind i alrea...       1999  comedy   \n",
       "3                               you feel good franny       1995   drama   \n",
       "4                         yes i fine it heat i think       1995   drama   \n",
       "7                   it chicago station i find it day       1995   drama   \n",
       "9                 kinda pretty uh jazz kinda singing       1995   drama   \n",
       "\n",
       "   verb_count  agency_pos_prop  power_pos_prop  agency_neg_prop  \\\n",
       "0         3.0         0.666667        0.333333              0.0   \n",
       "3         1.0         0.000000        0.000000              0.0   \n",
       "4         3.0         0.333333        0.000000              0.0   \n",
       "7         2.0         0.000000        0.000000              0.0   \n",
       "9         1.0         0.000000        0.000000              0.0   \n",
       "\n",
       "   power_neg_prop  \n",
       "0             0.0  \n",
       "3             0.0  \n",
       "4             0.0  \n",
       "7             0.0  \n",
       "9             0.0  "
      ]
     },
     "execution_count": 46,
     "metadata": {},
     "output_type": "execute_result"
    }
   ],
   "source": [
    "movies_verbs.head()"
   ]
  },
  {
   "cell_type": "markdown",
   "metadata": {},
   "source": [
    "# Agency/power by gender"
   ]
  },
  {
   "cell_type": "code",
   "execution_count": 47,
   "metadata": {},
   "outputs": [
    {
     "data": {
      "text/plain": [
       "gender_from\n",
       "?    0.370080\n",
       "f    0.374493\n",
       "m    0.380031\n",
       "Name: agency_pos_prop, dtype: float64"
      ]
     },
     "execution_count": 47,
     "metadata": {},
     "output_type": "execute_result"
    }
   ],
   "source": [
    "movies_verbs.groupby('gender_from')['agency_pos_prop'].mean()"
   ]
  },
  {
   "cell_type": "code",
   "execution_count": 48,
   "metadata": {},
   "outputs": [
    {
     "data": {
      "text/plain": [
       "gender_from\n",
       "?    0.267942\n",
       "f    0.251378\n",
       "m    0.271910\n",
       "Name: power_pos_prop, dtype: float64"
      ]
     },
     "execution_count": 48,
     "metadata": {},
     "output_type": "execute_result"
    }
   ],
   "source": [
    "movies_verbs.groupby('gender_from')['power_pos_prop'].mean()"
   ]
  },
  {
   "cell_type": "code",
   "execution_count": 49,
   "metadata": {},
   "outputs": [
    {
     "data": {
      "text/plain": [
       "gender_from\n",
       "?    0.147343\n",
       "f    0.164047\n",
       "m    0.154008\n",
       "Name: agency_neg_prop, dtype: float64"
      ]
     },
     "execution_count": 49,
     "metadata": {},
     "output_type": "execute_result"
    }
   ],
   "source": [
    "movies_verbs.groupby('gender_from')['agency_neg_prop'].mean()"
   ]
  },
  {
   "cell_type": "code",
   "execution_count": 51,
   "metadata": {},
   "outputs": [
    {
     "data": {
      "text/plain": [
       "gender_from\n",
       "?    0.070530\n",
       "f    0.077743\n",
       "m    0.067734\n",
       "Name: power_neg_prop, dtype: float64"
      ]
     },
     "execution_count": 51,
     "metadata": {},
     "output_type": "execute_result"
    }
   ],
   "source": [
    "movies_verbs.groupby('gender_from')['power_neg_prop'].mean()"
   ]
  },
  {
   "cell_type": "markdown",
   "metadata": {},
   "source": [
    "# Check whether the difference is bigger for some movies"
   ]
  },
  {
   "cell_type": "markdown",
   "metadata": {},
   "source": [
    "### Calculate differences in proportions by gender and movie"
   ]
  },
  {
   "cell_type": "code",
   "execution_count": 52,
   "metadata": {},
   "outputs": [],
   "source": [
    "by_movie = pd.DataFrame(movies_verbs.groupby(['movie_id', 'gender_from'])['power_pos_prop'].mean())\n",
    "by_movie = pd.DataFrame({'mean': movies_verbs.groupby([\"movie_id\", \"gender_from\"])['power_pos_prop'].mean()}).reset_index()\n",
    "by_movie = by_movie[by_movie['gender_from'] != '?']\n",
    "by_movie = by_movie.pivot(index='movie_id', columns='gender_from', values='mean').reset_index()\n",
    "by_movie['diff'] = by_movie['m'] - by_movie['f']\n",
    "by_movie = by_movie.sort_values('diff', ascending=False)"
   ]
  },
  {
   "cell_type": "code",
   "execution_count": 53,
   "metadata": {},
   "outputs": [
    {
     "data": {
      "text/plain": [
       "(204, 4)"
      ]
     },
     "execution_count": 53,
     "metadata": {},
     "output_type": "execute_result"
    }
   ],
   "source": [
    "by_movie.shape"
   ]
  },
  {
   "cell_type": "code",
   "execution_count": 54,
   "metadata": {
    "scrolled": true
   },
   "outputs": [
    {
     "data": {
      "text/plain": [
       "(51, 4)"
      ]
     },
     "execution_count": 54,
     "metadata": {},
     "output_type": "execute_result"
    }
   ],
   "source": [
    "by_movie[by_movie['diff'] > 0.05].shape"
   ]
  },
  {
   "cell_type": "markdown",
   "metadata": {},
   "source": [
    "About 25% of movies have a gender difference greater than 5%."
   ]
  },
  {
   "cell_type": "markdown",
   "metadata": {},
   "source": [
    "# Analysis by gender pairs\n",
    "* Male-Male\n",
    "* Male-Female\n",
    "* Female-Male\n",
    "* Female-Female"
   ]
  },
  {
   "cell_type": "code",
   "execution_count": 55,
   "metadata": {},
   "outputs": [
    {
     "name": "stderr",
     "output_type": "stream",
     "text": [
      "/anaconda3/lib/python3.6/site-packages/ipykernel_launcher.py:11: SettingWithCopyWarning: \n",
      "A value is trying to be set on a copy of a slice from a DataFrame.\n",
      "Try using .loc[row_indexer,col_indexer] = value instead\n",
      "\n",
      "See the caveats in the documentation: http://pandas.pydata.org/pandas-docs/stable/indexing.html#indexing-view-versus-copy\n",
      "  # This is added back by InteractiveShellApp.init_path()\n"
     ]
    }
   ],
   "source": [
    "by_gender = movies_verbs[(movies_verbs['gender_to'] != '?') & (movies_verbs['gender_from'] != '?')]\n",
    "      \n",
    "# Create gender pair column\n",
    "conditions = [(by_gender.gender_from == 'm') & (by_gender.gender_to == 'm'),\n",
    "              (by_gender.gender_from == 'm') & (by_gender.gender_to == 'f'),\n",
    "              (by_gender.gender_from == 'f') & (by_gender.gender_to == 'm'),\n",
    "              (by_gender.gender_from == 'f') & (by_gender.gender_to == 'f')]\n",
    "\n",
    "choices = ['mm', 'mf', 'fm', 'ff']\n",
    "   \n",
    "by_gender['gender_pair'] = np.select(conditions, choices)"
   ]
  },
  {
   "cell_type": "code",
   "execution_count": 64,
   "metadata": {},
   "outputs": [
    {
     "data": {
      "text/plain": [
       "gender_pair\n",
       "ff    0.238997\n",
       "fm    0.253022\n",
       "mf    0.257855\n",
       "mm    0.279815\n",
       "Name: power_pos_prop, dtype: float64"
      ]
     },
     "execution_count": 64,
     "metadata": {},
     "output_type": "execute_result"
    }
   ],
   "source": [
    "by_gender.groupby('gender_pair')['power_pos_prop'].mean()"
   ]
  },
  {
   "cell_type": "markdown",
   "metadata": {},
   "source": [
    "# Analysis by genre"
   ]
  },
  {
   "cell_type": "code",
   "execution_count": 60,
   "metadata": {},
   "outputs": [
    {
     "data": {
      "text/html": [
       "<div>\n",
       "<style scoped>\n",
       "    .dataframe tbody tr th:only-of-type {\n",
       "        vertical-align: middle;\n",
       "    }\n",
       "\n",
       "    .dataframe tbody tr th {\n",
       "        vertical-align: top;\n",
       "    }\n",
       "\n",
       "    .dataframe thead th {\n",
       "        text-align: right;\n",
       "    }\n",
       "</style>\n",
       "<table border=\"1\" class=\"dataframe\">\n",
       "  <thead>\n",
       "    <tr style=\"text-align: right;\">\n",
       "      <th></th>\n",
       "      <th>gender_from</th>\n",
       "      <th>genre</th>\n",
       "      <th>power_pos_prop</th>\n",
       "    </tr>\n",
       "  </thead>\n",
       "  <tbody>\n",
       "    <tr>\n",
       "      <th>0</th>\n",
       "      <td>?</td>\n",
       "      <td>action</td>\n",
       "      <td>0.286699</td>\n",
       "    </tr>\n",
       "    <tr>\n",
       "      <th>1</th>\n",
       "      <td>?</td>\n",
       "      <td>adventure</td>\n",
       "      <td>0.251829</td>\n",
       "    </tr>\n",
       "    <tr>\n",
       "      <th>2</th>\n",
       "      <td>?</td>\n",
       "      <td>animation</td>\n",
       "      <td>0.259222</td>\n",
       "    </tr>\n",
       "    <tr>\n",
       "      <th>3</th>\n",
       "      <td>?</td>\n",
       "      <td>biography</td>\n",
       "      <td>0.281446</td>\n",
       "    </tr>\n",
       "    <tr>\n",
       "      <th>4</th>\n",
       "      <td>?</td>\n",
       "      <td>comedy</td>\n",
       "      <td>0.242982</td>\n",
       "    </tr>\n",
       "    <tr>\n",
       "      <th>5</th>\n",
       "      <td>?</td>\n",
       "      <td>crime</td>\n",
       "      <td>0.268476</td>\n",
       "    </tr>\n",
       "    <tr>\n",
       "      <th>6</th>\n",
       "      <td>?</td>\n",
       "      <td>drama</td>\n",
       "      <td>0.264861</td>\n",
       "    </tr>\n",
       "    <tr>\n",
       "      <th>7</th>\n",
       "      <td>?</td>\n",
       "      <td>fantasy</td>\n",
       "      <td>0.276327</td>\n",
       "    </tr>\n",
       "    <tr>\n",
       "      <th>8</th>\n",
       "      <td>?</td>\n",
       "      <td>film-noir</td>\n",
       "      <td>0.420635</td>\n",
       "    </tr>\n",
       "    <tr>\n",
       "      <th>9</th>\n",
       "      <td>?</td>\n",
       "      <td>horror</td>\n",
       "      <td>0.264985</td>\n",
       "    </tr>\n",
       "    <tr>\n",
       "      <th>10</th>\n",
       "      <td>?</td>\n",
       "      <td>mystery</td>\n",
       "      <td>0.148865</td>\n",
       "    </tr>\n",
       "    <tr>\n",
       "      <th>11</th>\n",
       "      <td>?</td>\n",
       "      <td>romance</td>\n",
       "      <td>0.256452</td>\n",
       "    </tr>\n",
       "    <tr>\n",
       "      <th>12</th>\n",
       "      <td>?</td>\n",
       "      <td>sci-fi</td>\n",
       "      <td>0.329279</td>\n",
       "    </tr>\n",
       "    <tr>\n",
       "      <th>13</th>\n",
       "      <td>?</td>\n",
       "      <td>thriller</td>\n",
       "      <td>0.278546</td>\n",
       "    </tr>\n",
       "    <tr>\n",
       "      <th>14</th>\n",
       "      <td>f</td>\n",
       "      <td>action</td>\n",
       "      <td>0.274512</td>\n",
       "    </tr>\n",
       "    <tr>\n",
       "      <th>15</th>\n",
       "      <td>f</td>\n",
       "      <td>adventure</td>\n",
       "      <td>0.248956</td>\n",
       "    </tr>\n",
       "    <tr>\n",
       "      <th>16</th>\n",
       "      <td>f</td>\n",
       "      <td>animation</td>\n",
       "      <td>0.228060</td>\n",
       "    </tr>\n",
       "    <tr>\n",
       "      <th>17</th>\n",
       "      <td>f</td>\n",
       "      <td>biography</td>\n",
       "      <td>0.256775</td>\n",
       "    </tr>\n",
       "    <tr>\n",
       "      <th>18</th>\n",
       "      <td>f</td>\n",
       "      <td>comedy</td>\n",
       "      <td>0.252291</td>\n",
       "    </tr>\n",
       "    <tr>\n",
       "      <th>19</th>\n",
       "      <td>f</td>\n",
       "      <td>crime</td>\n",
       "      <td>0.230964</td>\n",
       "    </tr>\n",
       "    <tr>\n",
       "      <th>20</th>\n",
       "      <td>f</td>\n",
       "      <td>drama</td>\n",
       "      <td>0.242133</td>\n",
       "    </tr>\n",
       "    <tr>\n",
       "      <th>21</th>\n",
       "      <td>f</td>\n",
       "      <td>fantasy</td>\n",
       "      <td>0.246974</td>\n",
       "    </tr>\n",
       "    <tr>\n",
       "      <th>22</th>\n",
       "      <td>f</td>\n",
       "      <td>film-noir</td>\n",
       "      <td>0.280108</td>\n",
       "    </tr>\n",
       "    <tr>\n",
       "      <th>23</th>\n",
       "      <td>f</td>\n",
       "      <td>horror</td>\n",
       "      <td>0.256447</td>\n",
       "    </tr>\n",
       "    <tr>\n",
       "      <th>24</th>\n",
       "      <td>f</td>\n",
       "      <td>mystery</td>\n",
       "      <td>0.200000</td>\n",
       "    </tr>\n",
       "    <tr>\n",
       "      <th>25</th>\n",
       "      <td>f</td>\n",
       "      <td>romance</td>\n",
       "      <td>0.205555</td>\n",
       "    </tr>\n",
       "    <tr>\n",
       "      <th>26</th>\n",
       "      <td>f</td>\n",
       "      <td>sci-fi</td>\n",
       "      <td>0.292281</td>\n",
       "    </tr>\n",
       "    <tr>\n",
       "      <th>27</th>\n",
       "      <td>f</td>\n",
       "      <td>thriller</td>\n",
       "      <td>0.260652</td>\n",
       "    </tr>\n",
       "    <tr>\n",
       "      <th>28</th>\n",
       "      <td>m</td>\n",
       "      <td>action</td>\n",
       "      <td>0.293866</td>\n",
       "    </tr>\n",
       "    <tr>\n",
       "      <th>29</th>\n",
       "      <td>m</td>\n",
       "      <td>adventure</td>\n",
       "      <td>0.233058</td>\n",
       "    </tr>\n",
       "    <tr>\n",
       "      <th>30</th>\n",
       "      <td>m</td>\n",
       "      <td>animation</td>\n",
       "      <td>0.258291</td>\n",
       "    </tr>\n",
       "    <tr>\n",
       "      <th>31</th>\n",
       "      <td>m</td>\n",
       "      <td>biography</td>\n",
       "      <td>0.254805</td>\n",
       "    </tr>\n",
       "    <tr>\n",
       "      <th>32</th>\n",
       "      <td>m</td>\n",
       "      <td>comedy</td>\n",
       "      <td>0.269248</td>\n",
       "    </tr>\n",
       "    <tr>\n",
       "      <th>33</th>\n",
       "      <td>m</td>\n",
       "      <td>crime</td>\n",
       "      <td>0.289269</td>\n",
       "    </tr>\n",
       "    <tr>\n",
       "      <th>34</th>\n",
       "      <td>m</td>\n",
       "      <td>drama</td>\n",
       "      <td>0.256999</td>\n",
       "    </tr>\n",
       "    <tr>\n",
       "      <th>35</th>\n",
       "      <td>m</td>\n",
       "      <td>fantasy</td>\n",
       "      <td>0.270436</td>\n",
       "    </tr>\n",
       "    <tr>\n",
       "      <th>36</th>\n",
       "      <td>m</td>\n",
       "      <td>film-noir</td>\n",
       "      <td>0.253743</td>\n",
       "    </tr>\n",
       "    <tr>\n",
       "      <th>37</th>\n",
       "      <td>m</td>\n",
       "      <td>horror</td>\n",
       "      <td>0.271171</td>\n",
       "    </tr>\n",
       "    <tr>\n",
       "      <th>38</th>\n",
       "      <td>m</td>\n",
       "      <td>mystery</td>\n",
       "      <td>0.231269</td>\n",
       "    </tr>\n",
       "    <tr>\n",
       "      <th>39</th>\n",
       "      <td>m</td>\n",
       "      <td>romance</td>\n",
       "      <td>0.255683</td>\n",
       "    </tr>\n",
       "    <tr>\n",
       "      <th>40</th>\n",
       "      <td>m</td>\n",
       "      <td>sci-fi</td>\n",
       "      <td>0.242271</td>\n",
       "    </tr>\n",
       "    <tr>\n",
       "      <th>41</th>\n",
       "      <td>m</td>\n",
       "      <td>thriller</td>\n",
       "      <td>0.314656</td>\n",
       "    </tr>\n",
       "  </tbody>\n",
       "</table>\n",
       "</div>"
      ],
      "text/plain": [
       "   gender_from      genre  power_pos_prop\n",
       "0            ?     action        0.286699\n",
       "1            ?  adventure        0.251829\n",
       "2            ?  animation        0.259222\n",
       "3            ?  biography        0.281446\n",
       "4            ?     comedy        0.242982\n",
       "5            ?      crime        0.268476\n",
       "6            ?      drama        0.264861\n",
       "7            ?    fantasy        0.276327\n",
       "8            ?  film-noir        0.420635\n",
       "9            ?     horror        0.264985\n",
       "10           ?    mystery        0.148865\n",
       "11           ?    romance        0.256452\n",
       "12           ?     sci-fi        0.329279\n",
       "13           ?   thriller        0.278546\n",
       "14           f     action        0.274512\n",
       "15           f  adventure        0.248956\n",
       "16           f  animation        0.228060\n",
       "17           f  biography        0.256775\n",
       "18           f     comedy        0.252291\n",
       "19           f      crime        0.230964\n",
       "20           f      drama        0.242133\n",
       "21           f    fantasy        0.246974\n",
       "22           f  film-noir        0.280108\n",
       "23           f     horror        0.256447\n",
       "24           f    mystery        0.200000\n",
       "25           f    romance        0.205555\n",
       "26           f     sci-fi        0.292281\n",
       "27           f   thriller        0.260652\n",
       "28           m     action        0.293866\n",
       "29           m  adventure        0.233058\n",
       "30           m  animation        0.258291\n",
       "31           m  biography        0.254805\n",
       "32           m     comedy        0.269248\n",
       "33           m      crime        0.289269\n",
       "34           m      drama        0.256999\n",
       "35           m    fantasy        0.270436\n",
       "36           m  film-noir        0.253743\n",
       "37           m     horror        0.271171\n",
       "38           m    mystery        0.231269\n",
       "39           m    romance        0.255683\n",
       "40           m     sci-fi        0.242271\n",
       "41           m   thriller        0.314656"
      ]
     },
     "execution_count": 60,
     "metadata": {},
     "output_type": "execute_result"
    }
   ],
   "source": [
    "pd.DataFrame(movies_verbs.groupby(['gender_from', 'genre'])['power_pos_prop'].mean()).reset_index()"
   ]
  },
  {
   "cell_type": "code",
   "execution_count": null,
   "metadata": {},
   "outputs": [],
   "source": []
  }
 ],
 "metadata": {
  "kernelspec": {
   "display_name": "Python 3",
   "language": "python",
   "name": "python3"
  },
  "language_info": {
   "codemirror_mode": {
    "name": "ipython",
    "version": 3
   },
   "file_extension": ".py",
   "mimetype": "text/x-python",
   "name": "python",
   "nbconvert_exporter": "python",
   "pygments_lexer": "ipython3",
   "version": "3.6.4"
  }
 },
 "nbformat": 4,
 "nbformat_minor": 2
}
