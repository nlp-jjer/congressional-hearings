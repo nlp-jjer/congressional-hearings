{
 "cells": [
  {
   "cell_type": "code",
   "execution_count": 7,
   "metadata": {},
   "outputs": [],
   "source": [
    "import pandas as pd\n",
    "import numpy as np\n",
    "import pickle\n",
    "import nltk\n",
    "import gensim, logging\n",
    "import cython\n",
    "from sklearn.feature_extraction.text import TfidfVectorizer\n",
    "from sklearn.metrics.pairwise import cosine_similarity\n",
    "#logging.basicConfig(format='%(asctime)s : %(levelname)s : %(message)s', level=logging.INFO)"
   ]
  },
  {
   "cell_type": "markdown",
   "metadata": {},
   "source": [
    "## Load Data"
   ]
  },
  {
   "cell_type": "code",
   "execution_count": 9,
   "metadata": {},
   "outputs": [],
   "source": [
    "movies = pickle.load(open(\"../data/movies.p\", 'rb'))"
   ]
  },
  {
   "cell_type": "markdown",
   "metadata": {},
   "source": [
    "### Train Vector Model"
   ]
  },
  {
   "cell_type": "code",
   "execution_count": 4,
   "metadata": {},
   "outputs": [
    {
     "data": {
      "text/plain": [
       "[['we',\n",
       "  'make',\n",
       "  'quick',\n",
       "  'roxanne',\n",
       "  'korrine',\n",
       "  'andrew',\n",
       "  'barrett',\n",
       "  'incredibly',\n",
       "  'horrendous',\n",
       "  'public',\n",
       "  'break',\n",
       "  'quad'],\n",
       " ['well', 'i', 'think', 'we', 'start', 'pronunciation', 'okay', 'you'],\n",
       " ['hacking', 'gagging', 'spit', 'part', 'please'],\n",
       " ['okay', 'bout', 'we', 'try', 'french', 'cuisine', 'saturday', 'night'],\n",
       " ['you', 'ask', 'me', 'cute', 'your', 'name']]"
      ]
     },
     "execution_count": 4,
     "metadata": {},
     "output_type": "execute_result"
    }
   ],
   "source": [
    "sentences = list(s.split(' ') for s in movies['words'] if s!=\"\")\n",
    "sentences[:5]"
   ]
  },
  {
   "cell_type": "code",
   "execution_count": 5,
   "metadata": {},
   "outputs": [
    {
     "name": "stderr",
     "output_type": "stream",
     "text": [
      "2018-05-28 18:39:31,793 : INFO : collecting all words and their counts\n",
      "2018-05-28 18:39:31,797 : INFO : PROGRESS: at sentence #0, processed 0 words, keeping 0 word types\n",
      "2018-05-28 18:39:31,848 : INFO : PROGRESS: at sentence #10000, processed 66935 words, keeping 6555 word types\n",
      "2018-05-28 18:39:31,932 : INFO : PROGRESS: at sentence #20000, processed 134947 words, keeping 9794 word types\n",
      "2018-05-28 18:39:31,994 : INFO : PROGRESS: at sentence #30000, processed 205174 words, keeping 12281 word types\n",
      "2018-05-28 18:39:32,044 : INFO : PROGRESS: at sentence #40000, processed 274660 words, keeping 14378 word types\n",
      "2018-05-28 18:39:32,101 : INFO : PROGRESS: at sentence #50000, processed 338950 words, keeping 16004 word types\n",
      "2018-05-28 18:39:32,153 : INFO : PROGRESS: at sentence #60000, processed 410874 words, keeping 17817 word types\n",
      "2018-05-28 18:39:32,198 : INFO : PROGRESS: at sentence #70000, processed 482188 words, keeping 19217 word types\n",
      "2018-05-28 18:39:32,253 : INFO : PROGRESS: at sentence #80000, processed 554796 words, keeping 20792 word types\n",
      "2018-05-28 18:39:32,312 : INFO : PROGRESS: at sentence #90000, processed 625203 words, keeping 22011 word types\n",
      "2018-05-28 18:39:32,369 : INFO : PROGRESS: at sentence #100000, processed 691723 words, keeping 23443 word types\n",
      "2018-05-28 18:39:32,517 : INFO : PROGRESS: at sentence #110000, processed 761861 words, keeping 24496 word types\n",
      "2018-05-28 18:39:32,568 : INFO : PROGRESS: at sentence #120000, processed 828005 words, keeping 25626 word types\n",
      "2018-05-28 18:39:32,643 : INFO : PROGRESS: at sentence #130000, processed 896778 words, keeping 26566 word types\n",
      "2018-05-28 18:39:32,753 : INFO : PROGRESS: at sentence #140000, processed 967000 words, keeping 27625 word types\n",
      "2018-05-28 18:39:32,818 : INFO : PROGRESS: at sentence #150000, processed 1029235 words, keeping 28383 word types\n",
      "2018-05-28 18:39:32,915 : INFO : PROGRESS: at sentence #160000, processed 1103187 words, keeping 29363 word types\n",
      "2018-05-28 18:39:32,970 : INFO : PROGRESS: at sentence #170000, processed 1172063 words, keeping 30317 word types\n",
      "2018-05-28 18:39:33,011 : INFO : PROGRESS: at sentence #180000, processed 1237383 words, keeping 31288 word types\n",
      "2018-05-28 18:39:33,096 : INFO : PROGRESS: at sentence #190000, processed 1306516 words, keeping 32075 word types\n",
      "2018-05-28 18:39:33,152 : INFO : PROGRESS: at sentence #200000, processed 1376087 words, keeping 32949 word types\n",
      "2018-05-28 18:39:33,199 : INFO : PROGRESS: at sentence #210000, processed 1444637 words, keeping 33867 word types\n",
      "2018-05-28 18:39:33,241 : INFO : PROGRESS: at sentence #220000, processed 1511729 words, keeping 34697 word types\n",
      "2018-05-28 18:39:33,330 : INFO : PROGRESS: at sentence #230000, processed 1578784 words, keeping 35421 word types\n",
      "2018-05-28 18:39:33,373 : INFO : PROGRESS: at sentence #240000, processed 1655241 words, keeping 36314 word types\n",
      "2018-05-28 18:39:33,482 : INFO : PROGRESS: at sentence #250000, processed 1720485 words, keeping 36944 word types\n",
      "2018-05-28 18:39:33,578 : INFO : PROGRESS: at sentence #260000, processed 1791632 words, keeping 37713 word types\n",
      "2018-05-28 18:39:33,657 : INFO : PROGRESS: at sentence #270000, processed 1862141 words, keeping 38501 word types\n",
      "2018-05-28 18:39:33,715 : INFO : PROGRESS: at sentence #280000, processed 1933365 words, keeping 39363 word types\n",
      "2018-05-28 18:39:33,776 : INFO : PROGRESS: at sentence #290000, processed 2010582 words, keeping 39980 word types\n",
      "2018-05-28 18:39:33,810 : INFO : collected 40477 word types from a corpus of 2048050 raw words and 295535 sentences\n",
      "2018-05-28 18:39:33,813 : INFO : Loading a fresh vocabulary\n",
      "2018-05-28 18:39:33,916 : INFO : min_count=3 retains 19362 unique words (47% of original 40477, drops 21115)\n",
      "2018-05-28 18:39:33,918 : INFO : min_count=3 leaves 2021454 word corpus (98% of original 2048050, drops 26596)\n",
      "2018-05-28 18:39:34,039 : INFO : deleting the raw counts dictionary of 40477 items\n",
      "2018-05-28 18:39:34,044 : INFO : sample=0.001 downsamples 47 most-common words\n",
      "2018-05-28 18:39:34,047 : INFO : downsampling leaves estimated 1480897 word corpus (73.3% of prior 2021454)\n",
      "2018-05-28 18:39:34,193 : INFO : estimated required memory for 19362 words and 100 dimensions: 25170600 bytes\n",
      "2018-05-28 18:39:34,194 : INFO : resetting layer weights\n",
      "2018-05-28 18:39:34,472 : INFO : training model with 4 workers on 19362 vocabulary and 100 features, using sg=0 hs=0 sample=0.001 negative=5 window=5\n",
      "2018-05-28 18:39:35,495 : INFO : EPOCH 1 - PROGRESS: at 53.43% examples, 780821 words/s, in_qsize 6, out_qsize 1\n",
      "2018-05-28 18:39:36,509 : INFO : EPOCH 1 - PROGRESS: at 93.54% examples, 682011 words/s, in_qsize 7, out_qsize 0\n",
      "2018-05-28 18:39:36,611 : INFO : worker thread finished; awaiting finish of 3 more threads\n",
      "2018-05-28 18:39:36,612 : INFO : worker thread finished; awaiting finish of 2 more threads\n",
      "2018-05-28 18:39:36,616 : INFO : worker thread finished; awaiting finish of 1 more threads\n",
      "2018-05-28 18:39:36,622 : INFO : worker thread finished; awaiting finish of 0 more threads\n",
      "2018-05-28 18:39:36,622 : INFO : EPOCH - 1 : training on 2048050 raw words (1479773 effective words) took 2.1s, 692685 effective words/s\n",
      "2018-05-28 18:39:37,648 : INFO : EPOCH 2 - PROGRESS: at 36.64% examples, 538597 words/s, in_qsize 7, out_qsize 0\n",
      "2018-05-28 18:39:38,659 : INFO : EPOCH 2 - PROGRESS: at 85.77% examples, 625461 words/s, in_qsize 8, out_qsize 0\n",
      "2018-05-28 18:39:38,971 : INFO : worker thread finished; awaiting finish of 3 more threads\n",
      "2018-05-28 18:39:38,979 : INFO : worker thread finished; awaiting finish of 2 more threads\n",
      "2018-05-28 18:39:38,989 : INFO : worker thread finished; awaiting finish of 1 more threads\n",
      "2018-05-28 18:39:38,991 : INFO : worker thread finished; awaiting finish of 0 more threads\n",
      "2018-05-28 18:39:38,992 : INFO : EPOCH - 2 : training on 2048050 raw words (1480969 effective words) took 2.4s, 629048 effective words/s\n",
      "2018-05-28 18:39:40,084 : INFO : EPOCH 3 - PROGRESS: at 41.63% examples, 574874 words/s, in_qsize 7, out_qsize 0\n",
      "2018-05-28 18:39:41,087 : INFO : EPOCH 3 - PROGRESS: at 73.24% examples, 518921 words/s, in_qsize 7, out_qsize 0\n",
      "2018-05-28 18:39:41,619 : INFO : worker thread finished; awaiting finish of 3 more threads\n",
      "2018-05-28 18:39:41,637 : INFO : worker thread finished; awaiting finish of 2 more threads\n",
      "2018-05-28 18:39:41,638 : INFO : worker thread finished; awaiting finish of 1 more threads\n",
      "2018-05-28 18:39:41,646 : INFO : worker thread finished; awaiting finish of 0 more threads\n",
      "2018-05-28 18:39:41,647 : INFO : EPOCH - 3 : training on 2048050 raw words (1480453 effective words) took 2.6s, 562297 effective words/s\n",
      "2018-05-28 18:39:42,662 : INFO : EPOCH 4 - PROGRESS: at 45.48% examples, 672631 words/s, in_qsize 6, out_qsize 1\n",
      "2018-05-28 18:39:43,684 : INFO : EPOCH 4 - PROGRESS: at 97.53% examples, 714212 words/s, in_qsize 4, out_qsize 1\n",
      "2018-05-28 18:39:43,697 : INFO : worker thread finished; awaiting finish of 3 more threads\n",
      "2018-05-28 18:39:43,699 : INFO : worker thread finished; awaiting finish of 2 more threads\n",
      "2018-05-28 18:39:43,703 : INFO : worker thread finished; awaiting finish of 1 more threads\n",
      "2018-05-28 18:39:43,717 : INFO : worker thread finished; awaiting finish of 0 more threads\n",
      "2018-05-28 18:39:43,718 : INFO : EPOCH - 4 : training on 2048050 raw words (1480664 effective words) took 2.1s, 719648 effective words/s\n",
      "2018-05-28 18:39:44,759 : INFO : EPOCH 5 - PROGRESS: at 35.63% examples, 523130 words/s, in_qsize 7, out_qsize 0\n",
      "2018-05-28 18:39:45,763 : INFO : EPOCH 5 - PROGRESS: at 83.49% examples, 609310 words/s, in_qsize 8, out_qsize 0\n",
      "2018-05-28 18:39:46,175 : INFO : worker thread finished; awaiting finish of 3 more threads\n",
      "2018-05-28 18:39:46,194 : INFO : worker thread finished; awaiting finish of 2 more threads\n",
      "2018-05-28 18:39:46,195 : INFO : worker thread finished; awaiting finish of 1 more threads\n",
      "2018-05-28 18:39:46,207 : INFO : worker thread finished; awaiting finish of 0 more threads\n",
      "2018-05-28 18:39:46,208 : INFO : EPOCH - 5 : training on 2048050 raw words (1480873 effective words) took 2.5s, 601839 effective words/s\n",
      "2018-05-28 18:39:46,209 : INFO : training on a 10240250 raw words (7402732 effective words) took 11.7s, 630836 effective words/s\n"
     ]
    }
   ],
   "source": [
    "model_all = gensim.models.Word2Vec(sentences, size=100, min_count=3, workers=4)"
   ]
  },
  {
   "cell_type": "markdown",
   "metadata": {},
   "source": [
    "### Test Model"
   ]
  },
  {
   "cell_type": "code",
   "execution_count": 6,
   "metadata": {},
   "outputs": [
    {
     "data": {
      "text/plain": [
       "0.9276335988352492"
      ]
     },
     "execution_count": 6,
     "metadata": {},
     "output_type": "execute_result"
    }
   ],
   "source": [
    "model_all.wv.similarity('fork', 'spoon')"
   ]
  },
  {
   "cell_type": "code",
   "execution_count": 7,
   "metadata": {},
   "outputs": [
    {
     "name": "stderr",
     "output_type": "stream",
     "text": [
      "2018-05-28 18:39:46,230 : INFO : precomputing L2-norms of word weight vectors\n"
     ]
    },
    {
     "data": {
      "text/plain": [
       "'cereal'"
      ]
     },
     "execution_count": 7,
     "metadata": {},
     "output_type": "execute_result"
    }
   ],
   "source": [
    "model_all.wv.doesnt_match(\"breakfast cereal dinner lunch\".split())"
   ]
  },
  {
   "cell_type": "code",
   "execution_count": 8,
   "metadata": {},
   "outputs": [
    {
     "data": {
      "text/plain": [
       "array([-1.0416529 , -0.3685856 ,  0.2857633 ,  0.7566998 , -0.36599946,\n",
       "       -1.1307472 ,  1.0142924 , -0.64130735, -0.506308  ,  0.40040955,\n",
       "        0.10267434,  1.4729713 , -0.23874965, -0.2390065 , -0.61051136,\n",
       "        0.17040619,  0.8940419 ,  1.9174225 ,  0.02209527,  1.5247627 ,\n",
       "        0.3151395 ,  0.96852213,  0.583615  , -1.1568229 ,  0.81528264,\n",
       "       -0.7475498 ,  0.8398345 , -0.22440444, -0.58057714,  0.08234546,\n",
       "       -0.9970148 , -2.3366795 , -0.5780174 ,  0.8116196 ,  0.37080163,\n",
       "       -1.3802438 ,  0.42913648, -0.39433882,  0.5978944 , -0.7098544 ,\n",
       "       -1.3424009 , -1.6490427 ,  1.0018047 , -0.601419  , -0.16713834,\n",
       "        1.0979226 , -0.5841204 ,  0.01826851, -0.41685054, -0.24803858,\n",
       "       -0.93822026, -0.64984745, -0.9849708 ,  1.2248198 , -0.12188079,\n",
       "       -0.00418284,  0.55344915, -0.287866  , -0.3271172 , -0.21001542,\n",
       "        0.5070263 ,  0.02648011, -0.9358283 , -0.24930817, -1.1819657 ,\n",
       "        0.24828771, -0.09647191, -0.12114934,  0.1779565 , -0.56490993,\n",
       "       -1.0538632 ,  0.12930782,  1.9515977 , -1.182063  ,  0.12552865,\n",
       "        0.6167883 , -0.12462636, -0.08656301, -0.37863722, -0.6146243 ,\n",
       "        0.12430405,  0.36362582, -0.60164654,  1.2081766 , -1.5664799 ,\n",
       "        2.003663  ,  0.7109077 , -0.18185751,  0.21280897, -0.69685745,\n",
       "       -1.3780937 ,  0.6966493 , -0.22715953,  1.3110963 ,  0.45761055,\n",
       "        0.85543454,  0.05110068,  0.09008881,  1.9597765 ,  0.47776717],\n",
       "      dtype=float32)"
      ]
     },
     "execution_count": 8,
     "metadata": {},
     "output_type": "execute_result"
    }
   ],
   "source": [
    "model_all.wv['woman']"
   ]
  },
  {
   "cell_type": "markdown",
   "metadata": {},
   "source": [
    "### Save Model"
   ]
  },
  {
   "cell_type": "code",
   "execution_count": 9,
   "metadata": {},
   "outputs": [
    {
     "name": "stderr",
     "output_type": "stream",
     "text": [
      "2018-05-28 18:39:46,281 : INFO : saving Word2Vec object under mdl/model_all, separately None\n",
      "2018-05-28 18:39:46,284 : INFO : not storing attribute vectors_norm\n",
      "2018-05-28 18:39:46,286 : INFO : not storing attribute cum_table\n",
      "2018-05-28 18:39:46,564 : INFO : saved mdl/model_all\n"
     ]
    }
   ],
   "source": [
    "model_all.save(\"mdl/model_all\")\n",
    "# To load: model_all = gensim.models.Word2Vec.load(\"mdl/model_all\")"
   ]
  },
  {
   "cell_type": "markdown",
   "metadata": {},
   "source": [
    "## Exploration"
   ]
  },
  {
   "cell_type": "code",
   "execution_count": 10,
   "metadata": {},
   "outputs": [
    {
     "data": {
      "text/html": [
       "<div>\n",
       "<style scoped>\n",
       "    .dataframe tbody tr th:only-of-type {\n",
       "        vertical-align: middle;\n",
       "    }\n",
       "\n",
       "    .dataframe tbody tr th {\n",
       "        vertical-align: top;\n",
       "    }\n",
       "\n",
       "    .dataframe thead th {\n",
       "        text-align: right;\n",
       "    }\n",
       "</style>\n",
       "<table border=\"1\" class=\"dataframe\">\n",
       "  <thead>\n",
       "    <tr style=\"text-align: right;\">\n",
       "      <th></th>\n",
       "      <th>genre</th>\n",
       "      <th>count</th>\n",
       "    </tr>\n",
       "  </thead>\n",
       "  <tbody>\n",
       "    <tr>\n",
       "      <th>0</th>\n",
       "      <td>action</td>\n",
       "      <td>62758</td>\n",
       "    </tr>\n",
       "    <tr>\n",
       "      <th>1</th>\n",
       "      <td>adventure</td>\n",
       "      <td>10805</td>\n",
       "    </tr>\n",
       "    <tr>\n",
       "      <th>2</th>\n",
       "      <td>animation</td>\n",
       "      <td>3618</td>\n",
       "    </tr>\n",
       "    <tr>\n",
       "      <th>3</th>\n",
       "      <td>biography</td>\n",
       "      <td>13467</td>\n",
       "    </tr>\n",
       "    <tr>\n",
       "      <th>4</th>\n",
       "      <td>comedy</td>\n",
       "      <td>71129</td>\n",
       "    </tr>\n",
       "    <tr>\n",
       "      <th>5</th>\n",
       "      <td>crime</td>\n",
       "      <td>35011</td>\n",
       "    </tr>\n",
       "    <tr>\n",
       "      <th>6</th>\n",
       "      <td>documentary</td>\n",
       "      <td>1458</td>\n",
       "    </tr>\n",
       "    <tr>\n",
       "      <th>7</th>\n",
       "      <td>drama</td>\n",
       "      <td>73909</td>\n",
       "    </tr>\n",
       "    <tr>\n",
       "      <th>8</th>\n",
       "      <td>family</td>\n",
       "      <td>543</td>\n",
       "    </tr>\n",
       "    <tr>\n",
       "      <th>9</th>\n",
       "      <td>fantasy</td>\n",
       "      <td>4657</td>\n",
       "    </tr>\n",
       "    <tr>\n",
       "      <th>10</th>\n",
       "      <td>film-noir</td>\n",
       "      <td>603</td>\n",
       "    </tr>\n",
       "    <tr>\n",
       "      <th>11</th>\n",
       "      <td>horror</td>\n",
       "      <td>14439</td>\n",
       "    </tr>\n",
       "    <tr>\n",
       "      <th>12</th>\n",
       "      <td>mystery</td>\n",
       "      <td>2319</td>\n",
       "    </tr>\n",
       "    <tr>\n",
       "      <th>13</th>\n",
       "      <td>romance</td>\n",
       "      <td>1650</td>\n",
       "    </tr>\n",
       "    <tr>\n",
       "      <th>14</th>\n",
       "      <td>sci-fi</td>\n",
       "      <td>1806</td>\n",
       "    </tr>\n",
       "    <tr>\n",
       "      <th>15</th>\n",
       "      <td>short</td>\n",
       "      <td>949</td>\n",
       "    </tr>\n",
       "    <tr>\n",
       "      <th>16</th>\n",
       "      <td>thriller</td>\n",
       "      <td>5233</td>\n",
       "    </tr>\n",
       "  </tbody>\n",
       "</table>\n",
       "</div>"
      ],
      "text/plain": [
       "          genre  count\n",
       "0        action  62758\n",
       "1     adventure  10805\n",
       "2     animation   3618\n",
       "3     biography  13467\n",
       "4        comedy  71129\n",
       "5         crime  35011\n",
       "6   documentary   1458\n",
       "7         drama  73909\n",
       "8        family    543\n",
       "9       fantasy   4657\n",
       "10    film-noir    603\n",
       "11       horror  14439\n",
       "12      mystery   2319\n",
       "13      romance   1650\n",
       "14       sci-fi   1806\n",
       "15        short    949\n",
       "16     thriller   5233"
      ]
     },
     "execution_count": 10,
     "metadata": {},
     "output_type": "execute_result"
    }
   ],
   "source": [
    "df11=movies.groupby('genre')['movie_id'].apply(lambda x: (x!='').sum()).reset_index(name='count')\n",
    "df11"
   ]
  },
  {
   "cell_type": "markdown",
   "metadata": {},
   "source": [
    "### Using TD-IDF & Calculate Cosine Similarities"
   ]
  },
  {
   "cell_type": "code",
   "execution_count": 11,
   "metadata": {},
   "outputs": [],
   "source": [
    "def calc_cosim_gender(movie_df):   \n",
    "    mcosim = movie_df.groupby(['movie_id', 'gender_from']).apply(lambda x: \" \".join(x['words'])).reset_index(name='raw_text')\n",
    "    mcosim = mcosim.pivot(index='movie_id', columns='gender_from', values='raw_text').reset_index().fillna('Empty')\n",
    "    \n",
    "    mcosim['fit'] = mcosim[['f','m']].apply(lambda x: TfidfVectorizer().fit_transform([x[0], x[1]]), axis=1)\n",
    "    mcosim['gender_cosim'] = mcosim['fit'].apply(lambda x: cosine_similarity(x[0], x[1])[0,0])\n",
    "    \n",
    "    mcosim = pd.merge(mcosim, movie_df[['movie_id', 'genre']], how='inner', on='movie_id')\n",
    "    \n",
    "    return mcosim[['movie_id', 'gender_cosim', 'genre']].drop_duplicates().reset_index(drop=True)"
   ]
  },
  {
   "cell_type": "code",
   "execution_count": 12,
   "metadata": {},
   "outputs": [
    {
     "data": {
      "text/html": [
       "<div>\n",
       "<style scoped>\n",
       "    .dataframe tbody tr th:only-of-type {\n",
       "        vertical-align: middle;\n",
       "    }\n",
       "\n",
       "    .dataframe tbody tr th {\n",
       "        vertical-align: top;\n",
       "    }\n",
       "\n",
       "    .dataframe thead th {\n",
       "        text-align: right;\n",
       "    }\n",
       "</style>\n",
       "<table border=\"1\" class=\"dataframe\">\n",
       "  <thead>\n",
       "    <tr style=\"text-align: right;\">\n",
       "      <th></th>\n",
       "      <th>movie_id</th>\n",
       "      <th>gender_cosim</th>\n",
       "      <th>genre</th>\n",
       "    </tr>\n",
       "  </thead>\n",
       "  <tbody>\n",
       "    <tr>\n",
       "      <th>0</th>\n",
       "      <td>m0</td>\n",
       "      <td>0.862061</td>\n",
       "      <td>comedy</td>\n",
       "    </tr>\n",
       "    <tr>\n",
       "      <th>1</th>\n",
       "      <td>m1</td>\n",
       "      <td>0.742550</td>\n",
       "      <td>adventure</td>\n",
       "    </tr>\n",
       "    <tr>\n",
       "      <th>2</th>\n",
       "      <td>m10</td>\n",
       "      <td>0.880711</td>\n",
       "      <td>drama</td>\n",
       "    </tr>\n",
       "    <tr>\n",
       "      <th>3</th>\n",
       "      <td>m100</td>\n",
       "      <td>0.000000</td>\n",
       "      <td>action</td>\n",
       "    </tr>\n",
       "    <tr>\n",
       "      <th>4</th>\n",
       "      <td>m101</td>\n",
       "      <td>0.763138</td>\n",
       "      <td>biography</td>\n",
       "    </tr>\n",
       "  </tbody>\n",
       "</table>\n",
       "</div>"
      ],
      "text/plain": [
       "  movie_id  gender_cosim      genre\n",
       "0       m0      0.862061     comedy\n",
       "1       m1      0.742550  adventure\n",
       "2      m10      0.880711      drama\n",
       "3     m100      0.000000     action\n",
       "4     m101      0.763138  biography"
      ]
     },
     "execution_count": 12,
     "metadata": {},
     "output_type": "execute_result"
    }
   ],
   "source": [
    "cosim_score = calc_cosim_gender(movies)\n",
    "cosim_score.head()"
   ]
  },
  {
   "cell_type": "code",
   "execution_count": 13,
   "metadata": {},
   "outputs": [
    {
     "data": {
      "text/html": [
       "<div>\n",
       "<style scoped>\n",
       "    .dataframe tbody tr th:only-of-type {\n",
       "        vertical-align: middle;\n",
       "    }\n",
       "\n",
       "    .dataframe tbody tr th {\n",
       "        vertical-align: top;\n",
       "    }\n",
       "\n",
       "    .dataframe thead th {\n",
       "        text-align: right;\n",
       "    }\n",
       "</style>\n",
       "<table border=\"1\" class=\"dataframe\">\n",
       "  <thead>\n",
       "    <tr style=\"text-align: right;\">\n",
       "      <th></th>\n",
       "      <th>gender_cosim</th>\n",
       "    </tr>\n",
       "  </thead>\n",
       "  <tbody>\n",
       "    <tr>\n",
       "      <th>count</th>\n",
       "      <td>616.000000</td>\n",
       "    </tr>\n",
       "    <tr>\n",
       "      <th>mean</th>\n",
       "      <td>0.618904</td>\n",
       "    </tr>\n",
       "    <tr>\n",
       "      <th>std</th>\n",
       "      <td>0.321106</td>\n",
       "    </tr>\n",
       "    <tr>\n",
       "      <th>min</th>\n",
       "      <td>0.000000</td>\n",
       "    </tr>\n",
       "    <tr>\n",
       "      <th>25%</th>\n",
       "      <td>0.507520</td>\n",
       "    </tr>\n",
       "    <tr>\n",
       "      <th>50%</th>\n",
       "      <td>0.753910</td>\n",
       "    </tr>\n",
       "    <tr>\n",
       "      <th>75%</th>\n",
       "      <td>0.851891</td>\n",
       "    </tr>\n",
       "    <tr>\n",
       "      <th>max</th>\n",
       "      <td>1.000000</td>\n",
       "    </tr>\n",
       "  </tbody>\n",
       "</table>\n",
       "</div>"
      ],
      "text/plain": [
       "       gender_cosim\n",
       "count    616.000000\n",
       "mean       0.618904\n",
       "std        0.321106\n",
       "min        0.000000\n",
       "25%        0.507520\n",
       "50%        0.753910\n",
       "75%        0.851891\n",
       "max        1.000000"
      ]
     },
     "execution_count": 13,
     "metadata": {},
     "output_type": "execute_result"
    }
   ],
   "source": [
    "cosim_score.describe()"
   ]
  },
  {
   "cell_type": "markdown",
   "metadata": {},
   "source": [
    "## Calculating Cosine Similarity of Training Dataset"
   ]
  },
  {
   "cell_type": "markdown",
   "metadata": {},
   "source": [
    "#### Read and Calculate Gender Cosine Similarity Score"
   ]
  },
  {
   "cell_type": "code",
   "execution_count": 14,
   "metadata": {},
   "outputs": [],
   "source": [
    "movies_train = pickle.load(open(\"../data/movies_lines_train.p\", 'rb'))"
   ]
  },
  {
   "cell_type": "code",
   "execution_count": 15,
   "metadata": {},
   "outputs": [],
   "source": [
    "movies_holdout= pickle.load(open(\"../data/movies_lines_holdout.p\", 'rb'))"
   ]
  },
  {
   "cell_type": "code",
   "execution_count": 16,
   "metadata": {},
   "outputs": [
    {
     "data": {
      "text/html": [
       "<div>\n",
       "<style scoped>\n",
       "    .dataframe tbody tr th:only-of-type {\n",
       "        vertical-align: middle;\n",
       "    }\n",
       "\n",
       "    .dataframe tbody tr th {\n",
       "        vertical-align: top;\n",
       "    }\n",
       "\n",
       "    .dataframe thead th {\n",
       "        text-align: right;\n",
       "    }\n",
       "</style>\n",
       "<table border=\"1\" class=\"dataframe\">\n",
       "  <thead>\n",
       "    <tr style=\"text-align: right;\">\n",
       "      <th></th>\n",
       "      <th>movie_id</th>\n",
       "      <th>gender_to</th>\n",
       "      <th>gender_from</th>\n",
       "      <th>char_id_from</th>\n",
       "      <th>char_id_to</th>\n",
       "      <th>line_id</th>\n",
       "      <th>words</th>\n",
       "      <th>movie_year</th>\n",
       "      <th>genre</th>\n",
       "    </tr>\n",
       "  </thead>\n",
       "  <tbody>\n",
       "    <tr>\n",
       "      <th>0</th>\n",
       "      <td>m49</td>\n",
       "      <td>m</td>\n",
       "      <td>f</td>\n",
       "      <td>u761</td>\n",
       "      <td>u765</td>\n",
       "      <td>L163186</td>\n",
       "      <td>thanks miss</td>\n",
       "      <td>1999</td>\n",
       "      <td>comedy</td>\n",
       "    </tr>\n",
       "    <tr>\n",
       "      <th>1</th>\n",
       "      <td>m49</td>\n",
       "      <td>m</td>\n",
       "      <td>f</td>\n",
       "      <td>u761</td>\n",
       "      <td>u765</td>\n",
       "      <td>L163187</td>\n",
       "      <td>you kind i amanda</td>\n",
       "      <td>1999</td>\n",
       "      <td>comedy</td>\n",
       "    </tr>\n",
       "    <tr>\n",
       "      <th>2</th>\n",
       "      <td>m49</td>\n",
       "      <td>m</td>\n",
       "      <td>f</td>\n",
       "      <td>u761</td>\n",
       "      <td>u765</td>\n",
       "      <td>L163188</td>\n",
       "      <td>right well thanks drink stuff amanda reason me...</td>\n",
       "      <td>1999</td>\n",
       "      <td>comedy</td>\n",
       "    </tr>\n",
       "    <tr>\n",
       "      <th>3</th>\n",
       "      <td>m49</td>\n",
       "      <td>m</td>\n",
       "      <td>f</td>\n",
       "      <td>u761</td>\n",
       "      <td>u765</td>\n",
       "      <td>L163189</td>\n",
       "      <td>glum hawk night still young fill plenty compen...</td>\n",
       "      <td>1999</td>\n",
       "      <td>comedy</td>\n",
       "    </tr>\n",
       "    <tr>\n",
       "      <th>4</th>\n",
       "      <td>m49</td>\n",
       "      <td>m</td>\n",
       "      <td>f</td>\n",
       "      <td>u761</td>\n",
       "      <td>u765</td>\n",
       "      <td>L163190</td>\n",
       "      <td>huh</td>\n",
       "      <td>1999</td>\n",
       "      <td>comedy</td>\n",
       "    </tr>\n",
       "  </tbody>\n",
       "</table>\n",
       "</div>"
      ],
      "text/plain": [
       "  movie_id gender_to gender_from char_id_from char_id_to  line_id  \\\n",
       "0      m49         m           f         u761       u765  L163186   \n",
       "1      m49         m           f         u761       u765  L163187   \n",
       "2      m49         m           f         u761       u765  L163188   \n",
       "3      m49         m           f         u761       u765  L163189   \n",
       "4      m49         m           f         u761       u765  L163190   \n",
       "\n",
       "                                               words movie_year   genre  \n",
       "0                                        thanks miss       1999  comedy  \n",
       "1                                  you kind i amanda       1999  comedy  \n",
       "2  right well thanks drink stuff amanda reason me...       1999  comedy  \n",
       "3  glum hawk night still young fill plenty compen...       1999  comedy  \n",
       "4                                                huh       1999  comedy  "
      ]
     },
     "execution_count": 16,
     "metadata": {},
     "output_type": "execute_result"
    }
   ],
   "source": [
    "movies_holdout.head()"
   ]
  },
  {
   "cell_type": "code",
   "execution_count": 66,
   "metadata": {},
   "outputs": [
    {
     "data": {
      "text/plain": [
       "101960"
      ]
     },
     "execution_count": 66,
     "metadata": {},
     "output_type": "execute_result"
    }
   ],
   "source": [
    "len(movies_holdout)"
   ]
  },
  {
   "cell_type": "code",
   "execution_count": 17,
   "metadata": {},
   "outputs": [
    {
     "data": {
      "text/html": [
       "<div>\n",
       "<style scoped>\n",
       "    .dataframe tbody tr th:only-of-type {\n",
       "        vertical-align: middle;\n",
       "    }\n",
       "\n",
       "    .dataframe tbody tr th {\n",
       "        vertical-align: top;\n",
       "    }\n",
       "\n",
       "    .dataframe thead th {\n",
       "        text-align: right;\n",
       "    }\n",
       "</style>\n",
       "<table border=\"1\" class=\"dataframe\">\n",
       "  <thead>\n",
       "    <tr style=\"text-align: right;\">\n",
       "      <th></th>\n",
       "      <th>movie_id</th>\n",
       "      <th>gender_to</th>\n",
       "      <th>gender_from</th>\n",
       "      <th>char_id_from</th>\n",
       "      <th>char_id_to</th>\n",
       "      <th>line_id</th>\n",
       "      <th>words</th>\n",
       "      <th>movie_year</th>\n",
       "      <th>genre</th>\n",
       "    </tr>\n",
       "  </thead>\n",
       "  <tbody>\n",
       "    <tr>\n",
       "      <th>0</th>\n",
       "      <td>m18</td>\n",
       "      <td>m</td>\n",
       "      <td>m</td>\n",
       "      <td>u284</td>\n",
       "      <td>u288</td>\n",
       "      <td>L34746</td>\n",
       "      <td>hello tom</td>\n",
       "      <td>1932</td>\n",
       "      <td>drama</td>\n",
       "    </tr>\n",
       "    <tr>\n",
       "      <th>1</th>\n",
       "      <td>m18</td>\n",
       "      <td>m</td>\n",
       "      <td>m</td>\n",
       "      <td>u284</td>\n",
       "      <td>u288</td>\n",
       "      <td>L34747</td>\n",
       "      <td>you you want</td>\n",
       "      <td>1932</td>\n",
       "      <td>drama</td>\n",
       "    </tr>\n",
       "    <tr>\n",
       "      <th>2</th>\n",
       "      <td>m18</td>\n",
       "      <td>m</td>\n",
       "      <td>m</td>\n",
       "      <td>u284</td>\n",
       "      <td>u288</td>\n",
       "      <td>L34748</td>\n",
       "      <td>you suppose anybody want money money money</td>\n",
       "      <td>1932</td>\n",
       "      <td>drama</td>\n",
       "    </tr>\n",
       "    <tr>\n",
       "      <th>3</th>\n",
       "      <td>m18</td>\n",
       "      <td>m</td>\n",
       "      <td>m</td>\n",
       "      <td>u284</td>\n",
       "      <td>u288</td>\n",
       "      <td>L34749</td>\n",
       "      <td>listen i tell you i interested deal i</td>\n",
       "      <td>1932</td>\n",
       "      <td>drama</td>\n",
       "    </tr>\n",
       "    <tr>\n",
       "      <th>4</th>\n",
       "      <td>m18</td>\n",
       "      <td>m</td>\n",
       "      <td>m</td>\n",
       "      <td>u284</td>\n",
       "      <td>u288</td>\n",
       "      <td>L34750</td>\n",
       "      <td>i want know</td>\n",
       "      <td>1932</td>\n",
       "      <td>drama</td>\n",
       "    </tr>\n",
       "  </tbody>\n",
       "</table>\n",
       "</div>"
      ],
      "text/plain": [
       "  movie_id gender_to gender_from char_id_from char_id_to line_id  \\\n",
       "0      m18         m           m         u284       u288  L34746   \n",
       "1      m18         m           m         u284       u288  L34747   \n",
       "2      m18         m           m         u284       u288  L34748   \n",
       "3      m18         m           m         u284       u288  L34749   \n",
       "4      m18         m           m         u284       u288  L34750   \n",
       "\n",
       "                                        words movie_year  genre  \n",
       "0                                   hello tom       1932  drama  \n",
       "1                                you you want       1932  drama  \n",
       "2  you suppose anybody want money money money       1932  drama  \n",
       "3       listen i tell you i interested deal i       1932  drama  \n",
       "4                                 i want know       1932  drama  "
      ]
     },
     "execution_count": 17,
     "metadata": {},
     "output_type": "execute_result"
    }
   ],
   "source": [
    "movies_train.head()"
   ]
  },
  {
   "cell_type": "code",
   "execution_count": 18,
   "metadata": {},
   "outputs": [
    {
     "data": {
      "text/html": [
       "<div>\n",
       "<style scoped>\n",
       "    .dataframe tbody tr th:only-of-type {\n",
       "        vertical-align: middle;\n",
       "    }\n",
       "\n",
       "    .dataframe tbody tr th {\n",
       "        vertical-align: top;\n",
       "    }\n",
       "\n",
       "    .dataframe thead th {\n",
       "        text-align: right;\n",
       "    }\n",
       "</style>\n",
       "<table border=\"1\" class=\"dataframe\">\n",
       "  <thead>\n",
       "    <tr style=\"text-align: right;\">\n",
       "      <th></th>\n",
       "      <th>movie_id</th>\n",
       "      <th>gender_cosim</th>\n",
       "      <th>genre</th>\n",
       "    </tr>\n",
       "  </thead>\n",
       "  <tbody>\n",
       "    <tr>\n",
       "      <th>0</th>\n",
       "      <td>m100</td>\n",
       "      <td>0.000000</td>\n",
       "      <td>action</td>\n",
       "    </tr>\n",
       "    <tr>\n",
       "      <th>1</th>\n",
       "      <td>m101</td>\n",
       "      <td>0.763138</td>\n",
       "      <td>biography</td>\n",
       "    </tr>\n",
       "    <tr>\n",
       "      <th>2</th>\n",
       "      <td>m104</td>\n",
       "      <td>0.001068</td>\n",
       "      <td>biography</td>\n",
       "    </tr>\n",
       "    <tr>\n",
       "      <th>3</th>\n",
       "      <td>m105</td>\n",
       "      <td>0.942188</td>\n",
       "      <td>crime</td>\n",
       "    </tr>\n",
       "    <tr>\n",
       "      <th>4</th>\n",
       "      <td>m106</td>\n",
       "      <td>0.743309</td>\n",
       "      <td>drama</td>\n",
       "    </tr>\n",
       "  </tbody>\n",
       "</table>\n",
       "</div>"
      ],
      "text/plain": [
       "  movie_id  gender_cosim      genre\n",
       "0     m100      0.000000     action\n",
       "1     m101      0.763138  biography\n",
       "2     m104      0.001068  biography\n",
       "3     m105      0.942188      crime\n",
       "4     m106      0.743309      drama"
      ]
     },
     "execution_count": 18,
     "metadata": {},
     "output_type": "execute_result"
    }
   ],
   "source": [
    "cosim_train = calc_cosim_gender(movies_train)\n",
    "cosim_train.head()"
   ]
  },
  {
   "cell_type": "code",
   "execution_count": 19,
   "metadata": {},
   "outputs": [
    {
     "data": {
      "text/html": [
       "<div>\n",
       "<style scoped>\n",
       "    .dataframe tbody tr th:only-of-type {\n",
       "        vertical-align: middle;\n",
       "    }\n",
       "\n",
       "    .dataframe tbody tr th {\n",
       "        vertical-align: top;\n",
       "    }\n",
       "\n",
       "    .dataframe thead th {\n",
       "        text-align: right;\n",
       "    }\n",
       "</style>\n",
       "<table border=\"1\" class=\"dataframe\">\n",
       "  <thead>\n",
       "    <tr style=\"text-align: right;\">\n",
       "      <th></th>\n",
       "      <th>gender_cosim</th>\n",
       "    </tr>\n",
       "  </thead>\n",
       "  <tbody>\n",
       "    <tr>\n",
       "      <th>count</th>\n",
       "      <td>412.000000</td>\n",
       "    </tr>\n",
       "    <tr>\n",
       "      <th>mean</th>\n",
       "      <td>0.624933</td>\n",
       "    </tr>\n",
       "    <tr>\n",
       "      <th>std</th>\n",
       "      <td>0.319369</td>\n",
       "    </tr>\n",
       "    <tr>\n",
       "      <th>min</th>\n",
       "      <td>0.000000</td>\n",
       "    </tr>\n",
       "    <tr>\n",
       "      <th>25%</th>\n",
       "      <td>0.523451</td>\n",
       "    </tr>\n",
       "    <tr>\n",
       "      <th>50%</th>\n",
       "      <td>0.756726</td>\n",
       "    </tr>\n",
       "    <tr>\n",
       "      <th>75%</th>\n",
       "      <td>0.853729</td>\n",
       "    </tr>\n",
       "    <tr>\n",
       "      <th>max</th>\n",
       "      <td>1.000000</td>\n",
       "    </tr>\n",
       "  </tbody>\n",
       "</table>\n",
       "</div>"
      ],
      "text/plain": [
       "       gender_cosim\n",
       "count    412.000000\n",
       "mean       0.624933\n",
       "std        0.319369\n",
       "min        0.000000\n",
       "25%        0.523451\n",
       "50%        0.756726\n",
       "75%        0.853729\n",
       "max        1.000000"
      ]
     },
     "execution_count": 19,
     "metadata": {},
     "output_type": "execute_result"
    }
   ],
   "source": [
    "cosim_desc = cosim_train.describe()\n",
    "cosim_desc"
   ]
  },
  {
   "cell_type": "code",
   "execution_count": 20,
   "metadata": {},
   "outputs": [
    {
     "data": {
      "text/plain": [
       "0.6249326174795061"
      ]
     },
     "execution_count": 20,
     "metadata": {},
     "output_type": "execute_result"
    }
   ],
   "source": [
    "cosim_desc.loc['mean', 'gender_cosim']"
   ]
  },
  {
   "cell_type": "markdown",
   "metadata": {},
   "source": [
    "#### Calculate Normalized Cosine Similarity Scores"
   ]
  },
  {
   "cell_type": "code",
   "execution_count": 21,
   "metadata": {},
   "outputs": [],
   "source": [
    "# HELPERS: Indexing cosim mean and std \n",
    "def genre_dstat(desc_df, genre, type='mean'):\n",
    "    return float(desc_df.loc[desc_df['genre']== genre, ('gender_cosim', type)])\n",
    "\n",
    "# HELPER: Calculate normalized cosine similarity score \n",
    "def norm_cosim(cosim_score, desc_df, genre):\n",
    "    norm_nomcosim = cosim_score - genre_dstat(desc_df, genre)\n",
    "    norm_denumcosim = genre_dstat(desc_df, genre, 'std')\n",
    "    \n",
    "    if norm_denumcosim != 0:\n",
    "        return norm_nomcosim/norm_denumcosim\n",
    "    else:\n",
    "        return cosim_score"
   ]
  },
  {
   "cell_type": "code",
   "execution_count": 22,
   "metadata": {},
   "outputs": [],
   "source": [
    "# Normalized cosine similarity score by genre and return score dataframe  \n",
    "def normalize_cosim_by_genre(cosim_df):\n",
    "    desc_stat = cosim_df.groupby('genre').describe()\n",
    "    \n",
    "    cosim_df['norm_cosim'] = cosim_df.apply(lambda x: norm_cosim(x['gender_cosim'], desc_stat, x['genre']), axis=1)\n",
    "\n",
    "    return cosim_df"
   ]
  },
  {
   "cell_type": "code",
   "execution_count": 23,
   "metadata": {},
   "outputs": [],
   "source": [
    "# Normalized cosine similarity score by genre and return score dataframe  \n",
    "def normalize_cosim(cosim_df):\n",
    "    desc_stat = cosim_df.describe().reset_index()\n",
    "    \n",
    "    cosim_df['norm_cosim'] = (cosim_df['gender_cosim']-cosim_desc.loc['mean', 'gender_cosim'])/cosim_desc.loc['std', 'gender_cosim']\n",
    "    \n",
    "    return cosim_df"
   ]
  },
  {
   "cell_type": "markdown",
   "metadata": {},
   "source": [
    "### Class: Train mean and std on training data, calculate normalized cosine similarity score"
   ]
  },
  {
   "cell_type": "code",
   "execution_count": 36,
   "metadata": {},
   "outputs": [],
   "source": [
    "# Read data: one movie title \n",
    "one_movie = movies_train[movies_train['movie_id']=='m105']"
   ]
  },
  {
   "cell_type": "code",
   "execution_count": 60,
   "metadata": {},
   "outputs": [],
   "source": [
    "class cosim:\n",
    "    def __init__(self):\n",
    "        self.train_df = pd.DataFrame()\n",
    "        self.train_mean = 0\n",
    "        self.train_std = 0\n",
    "    \n",
    "    def similarity(self, movie_df, train=False):\n",
    "        movie_cm = movie_df.groupby(['movie_id', 'gender_from']).apply(lambda x: \" \".join(x['words'])).reset_index(name='raw_text')\n",
    "        movie_cm = movie_cm.pivot(index='movie_id', columns='gender_from', values='raw_text').reset_index().fillna('Empty')\n",
    "\n",
    "        movie_cm['fit'] = movie_cm[['f','m']].apply(lambda x: TfidfVectorizer().fit_transform([x[0], x[1]]), axis=1)\n",
    "        movie_cm['gender_cosim'] = movie_cm['fit'].apply(lambda x: cosine_similarity(x[0], x[1])[0,0])\n",
    "\n",
    "        movie_cm = pd.merge(movie_cm, movie_df[['movie_id', 'genre']], how='inner', on='movie_id')\n",
    "\n",
    "        return_df = movie_cm[['movie_id', 'gender_cosim', 'genre']].drop_duplicates().reset_index(drop=True)\n",
    "        \n",
    "        if train:\n",
    "            return return_df\n",
    "        \n",
    "        return float(return_df['gender_cosim'])\n",
    "    \n",
    "    def train_movies(self, train_df):\n",
    "        train_proc = self.similarity(train_df, train=True)\n",
    "        \n",
    "        train_stat = train_proc.describe()\n",
    "        self.train_mean = train_stat.loc['mean', 'gender_cosim']\n",
    "        self.train_std = train_stat.loc['std', 'gender_cosim']\n",
    "    \n",
    "    def normalize_cosim(self, cosim_df):\n",
    "        cosim_df['norm_cosim'] = (cosim_df['gender_cosim']-self.train_mean)/self_train_std\n",
    "\n",
    "        return cosim_df\n",
    "    \n",
    "    def norm_similarity(self, movie_df):\n",
    "        cosim_df = self.similarity(movie_df, train=True)\n",
    "        cosim_df['norm_cosim'] = (cosim_df['gender_cosim']-self.train_mean)/self.train_std\n",
    "        \n",
    "        return float(cosim_df['norm_cosim'])\n",
    "        "
   ]
  },
  {
   "cell_type": "code",
   "execution_count": 61,
   "metadata": {},
   "outputs": [],
   "source": [
    "mvs = cosim()"
   ]
  },
  {
   "cell_type": "code",
   "execution_count": 62,
   "metadata": {},
   "outputs": [],
   "source": [
    "mvs.train_movies(movies_train)"
   ]
  },
  {
   "cell_type": "code",
   "execution_count": 63,
   "metadata": {},
   "outputs": [
    {
     "data": {
      "text/plain": [
       "0.6249326174795061"
      ]
     },
     "execution_count": 63,
     "metadata": {},
     "output_type": "execute_result"
    }
   ],
   "source": [
    "mvs.train_mean"
   ]
  },
  {
   "cell_type": "code",
   "execution_count": 64,
   "metadata": {},
   "outputs": [
    {
     "data": {
      "text/plain": [
       "0.31936910205753566"
      ]
     },
     "execution_count": 64,
     "metadata": {},
     "output_type": "execute_result"
    }
   ],
   "source": [
    "mvs.train_std"
   ]
  },
  {
   "cell_type": "code",
   "execution_count": 65,
   "metadata": {},
   "outputs": [
    {
     "data": {
      "text/plain": [
       "0.9933830047143571"
      ]
     },
     "execution_count": 65,
     "metadata": {},
     "output_type": "execute_result"
    }
   ],
   "source": [
    "mvs.norm_similarity(one_movie)"
   ]
  },
  {
   "cell_type": "code",
   "execution_count": 67,
   "metadata": {},
   "outputs": [
    {
     "data": {
      "text/plain": [
       "0.9421884556943471"
      ]
     },
     "execution_count": 67,
     "metadata": {},
     "output_type": "execute_result"
    }
   ],
   "source": [
    "mvs.similarity(one_movie)"
   ]
  },
  {
   "cell_type": "code",
   "execution_count": null,
   "metadata": {},
   "outputs": [],
   "source": []
  }
 ],
 "metadata": {
  "kernelspec": {
   "display_name": "Python 3",
   "language": "python",
   "name": "python3"
  },
  "language_info": {
   "codemirror_mode": {
    "name": "ipython",
    "version": 3
   },
   "file_extension": ".py",
   "mimetype": "text/x-python",
   "name": "python",
   "nbconvert_exporter": "python",
   "pygments_lexer": "ipython3",
   "version": "3.6.5"
  }
 },
 "nbformat": 4,
 "nbformat_minor": 2
}
